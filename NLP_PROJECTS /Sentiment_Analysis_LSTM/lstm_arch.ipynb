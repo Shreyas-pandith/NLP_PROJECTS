{
  "cells": [
    {
      "cell_type": "markdown",
      "metadata": {
        "id": "view-in-github",
        "colab_type": "text"
      },
      "source": [
        "<a href=\"https://colab.research.google.com/github/Shreyas-pandith/NLP_PROJECTS/blob/dev/NLP_PROJECTS%20/Sentiment_Analysis_LSTM/lstm_arch.ipynb\" target=\"_parent\"><img src=\"https://colab.research.google.com/assets/colab-badge.svg\" alt=\"Open In Colab\"/></a>"
      ]
    },
    {
      "cell_type": "code",
      "execution_count": null,
      "metadata": {
        "colab": {
          "base_uri": "https://localhost:8080/"
        },
        "id": "ZUMsD_HtUGqE",
        "outputId": "dd644415-4f56-42a9-9c15-e6572055986a"
      },
      "outputs": [
        {
          "output_type": "stream",
          "name": "stdout",
          "text": [
            "Path to dataset files: /kaggle/input/sentiment-analysis-dataset\n"
          ]
        }
      ],
      "source": [
        "import torch\n",
        "import torch.nn as nn\n",
        "import nltk\n",
        "import kagglehub\n",
        "\n",
        "# Download latest version\n",
        "path = kagglehub.dataset_download(\"abhi8923shriv/sentiment-analysis-dataset\")\n",
        "\n",
        "print(\"Path to dataset files:\", path)"
      ]
    },
    {
      "cell_type": "code",
      "execution_count": null,
      "metadata": {
        "colab": {
          "base_uri": "https://localhost:8080/"
        },
        "id": "ikzojlufCldB",
        "outputId": "94ca6e19-aeec-4510-b4f7-536a29058749"
      },
      "outputs": [
        {
          "output_type": "stream",
          "name": "stdout",
          "text": [
            "test.csv\t\t\ttrain.csv\n",
            "testdata.manual.2009.06.14.csv\ttraining.1600000.processed.noemoticon.csv\n"
          ]
        }
      ],
      "source": [
        "!ls /kaggle/input/sentiment-analysis-dataset"
      ]
    },
    {
      "cell_type": "code",
      "execution_count": null,
      "metadata": {
        "colab": {
          "base_uri": "https://localhost:8080/"
        },
        "id": "_5ukM4uFT0BI",
        "outputId": "eaa7a2e5-5285-4b20-d18e-60aee74e1f41"
      },
      "outputs": [
        {
          "output_type": "stream",
          "name": "stdout",
          "text": [
            "                         selected_text sentiment\n",
            "0  I`d have responded, if I were going   neutral\n",
            "1                             Sooo SAD  negative\n",
            "2                          bullying me  negative\n",
            "3                       leave me alone  negative\n",
            "4                        Sons of ****,  negative\n"
          ]
        }
      ],
      "source": [
        "import pandas as pd\n",
        "\n",
        "# Load CSV file into a DataFrame\n",
        "df = pd.read_csv('/kaggle/input/sentiment-analysis-dataset/train.csv',encoding='latin1')\n",
        "#print(df.head())\n",
        "df=df[['selected_text','sentiment']]\n",
        "print(df.head())"
      ]
    },
    {
      "cell_type": "code",
      "execution_count": null,
      "metadata": {
        "colab": {
          "base_uri": "https://localhost:8080/"
        },
        "id": "PJ1l1a53VgTq",
        "outputId": "57a02db8-1f65-42de-d152-4cc058636a8b"
      },
      "outputs": [
        {
          "output_type": "stream",
          "name": "stderr",
          "text": [
            "[nltk_data] Downloading package punkt to /root/nltk_data...\n",
            "[nltk_data]   Unzipping tokenizers/punkt.zip.\n",
            "[nltk_data] Downloading package stopwords to /root/nltk_data...\n",
            "[nltk_data]   Package stopwords is already up-to-date!\n",
            "[nltk_data] Downloading package punkt_tab to /root/nltk_data...\n",
            "[nltk_data]   Package punkt_tab is already up-to-date!\n"
          ]
        },
        {
          "output_type": "execute_result",
          "data": {
            "text/plain": [
              "True"
            ]
          },
          "metadata": {},
          "execution_count": 26
        }
      ],
      "source": [
        "nltk.download('punkt',force=True)\n",
        "nltk.download('stopwords')\n",
        "nltk.download('punkt_tab')"
      ]
    },
    {
      "cell_type": "code",
      "execution_count": null,
      "metadata": {
        "colab": {
          "base_uri": "https://localhost:8080/"
        },
        "id": "n3aEILolCtCe",
        "outputId": "a616d60a-6857-4f12-ebd9-55532a0156d4"
      },
      "outputs": [
        {
          "output_type": "stream",
          "name": "stdout",
          "text": [
            "['a', 'about', 'above', 'after', 'again', 'against', 'ain', 'all', 'am', 'an', 'and', 'any', 'are', 'aren', \"aren't\", 'as', 'at', 'be', 'because', 'been', 'before', 'being', 'below', 'between', 'both', 'but', 'by', 'can', 'couldn', \"couldn't\", 'd', 'did', 'didn', \"didn't\", 'do', 'does', 'doesn', \"doesn't\", 'doing', 'don', \"don't\", 'down', 'during', 'each', 'few', 'for', 'from', 'further', 'had', 'hadn', \"hadn't\", 'has', 'hasn', \"hasn't\", 'have', 'haven', \"haven't\", 'having', 'he', \"he'd\", \"he'll\", 'her', 'here', 'hers', 'herself', \"he's\", 'him', 'himself', 'his', 'how', 'i', \"i'd\", 'if', \"i'll\", \"i'm\", 'in', 'into', 'is', 'isn', \"isn't\", 'it', \"it'd\", \"it'll\", \"it's\", 'its', 'itself', \"i've\", 'just', 'll', 'm', 'ma', 'me', 'mightn', \"mightn't\", 'more', 'most', 'mustn', \"mustn't\", 'my', 'myself', 'needn', \"needn't\", 'no', 'nor', 'not', 'now', 'o', 'of', 'off', 'on', 'once', 'only', 'or', 'other', 'our', 'ours', 'ourselves', 'out', 'over', 'own', 're', 's', 'same', 'shan', \"shan't\", 'she', \"she'd\", \"she'll\", \"she's\", 'should', 'shouldn', \"shouldn't\", \"should've\", 'so', 'some', 'such', 't', 'than', 'that', \"that'll\", 'the', 'their', 'theirs', 'them', 'themselves', 'then', 'there', 'these', 'they', \"they'd\", \"they'll\", \"they're\", \"they've\", 'this', 'those', 'through', 'to', 'too', 'under', 'until', 'up', 've', 'very', 'was', 'wasn', \"wasn't\", 'we', \"we'd\", \"we'll\", \"we're\", 'were', 'weren', \"weren't\", \"we've\", 'what', 'when', 'where', 'which', 'while', 'who', 'whom', 'why', 'will', 'with', 'won', \"won't\", 'wouldn', \"wouldn't\", 'y', 'you', \"you'd\", \"you'll\", 'your', \"you're\", 'yours', 'yourself', 'yourselves', \"you've\"]\n"
          ]
        }
      ],
      "source": [
        "from nltk.corpus import stopwords\n",
        "stw = list(stopwords.words('english'))\n",
        "print(stw)\n",
        "stw=[]\n",
        "from nltk import word_tokenize"
      ]
    },
    {
      "cell_type": "code",
      "execution_count": null,
      "metadata": {
        "colab": {
          "base_uri": "https://localhost:8080/"
        },
        "id": "bl8FuA6QXMVi",
        "outputId": "b5ff6bff-21ab-4f27-a82a-a89653dd8b84"
      },
      "outputs": [
        {
          "output_type": "stream",
          "name": "stdout",
          "text": [
            "27481\n",
            "27481\n",
            "0    I`d have responded, if I were going\n",
            "1                               Sooo SAD\n",
            "2                            bullying me\n",
            "3                         leave me alone\n",
            "4                          Sons of ****,\n",
            "Name: selected_text, dtype: object\n",
            "0     neutral\n",
            "1    negative\n",
            "2    negative\n",
            "3    negative\n",
            "4    negative\n",
            "Name: sentiment, dtype: object\n"
          ]
        }
      ],
      "source": [
        "x_train = df['selected_text']\n",
        "y_train = df['sentiment']\n",
        "print(len(x_train))\n",
        "print(len(y_train))\n",
        "print(x_train[:5])\n",
        "print(y_train[:5])"
      ]
    },
    {
      "cell_type": "code",
      "execution_count": null,
      "metadata": {
        "colab": {
          "base_uri": "https://localhost:8080/"
        },
        "id": "bQaQhRtLX1ey",
        "outputId": "46134df5-ed3a-4e9a-838e-996a11ccb479"
      },
      "outputs": [
        {
          "output_type": "stream",
          "name": "stdout",
          "text": [
            "0    [i, d, have, responded, if, i, were, going]\n",
            "1                                    [sooo, sad]\n",
            "2                                 [bullying, me]\n",
            "3                             [leave, me, alone]\n",
            "4                                     [sons, of]\n",
            "Name: selected_text, dtype: object\n",
            "0    1\n",
            "1    0\n",
            "2    0\n",
            "3    0\n",
            "4    0\n",
            "Name: sentiment, dtype: int64\n"
          ]
        }
      ],
      "source": [
        "def remove_stopwords(x):\n",
        "  tokenized_sentence = word_tokenize(str(x).lower())\n",
        "  filtered_tokens = [token  for token in tokenized_sentence if token not in stw and token.isalnum()]\n",
        "  return filtered_tokens\n",
        "sentence_l = x_train.apply(remove_stopwords)\n",
        "y_train = y_train.map({'positive':2,'negative':0,'neutral':1})\n",
        "print(sentence_l[:5])\n",
        "print(y_train[:5])\n"
      ]
    },
    {
      "cell_type": "code",
      "execution_count": null,
      "metadata": {
        "colab": {
          "base_uri": "https://localhost:8080/"
        },
        "id": "tKBQ3FQjiG5j",
        "outputId": "3d176f90-38af-46cb-bc85-28dca9821e95"
      },
      "outputs": [
        {
          "output_type": "stream",
          "name": "stdout",
          "text": [
            "16454\n",
            "6786\n",
            "{'i': 1, 'd': 2, 'have': 3, 'if': 4, 'were': 5, 'going': 6, 'sooo': 7, 'sad': 8, 'me': 9, 'leave': 10, 'alone': 11, 'sons': 12, 'of': 13, 'http': 14, 'some': 15, 'plugging': 16, 'for': 17, 'the': 18, 'best': 19, 'rangers': 20, 'forum': 21, 'on': 22, 'earth': 23, 'fun': 24, 'soooo': 25, 'high': 26, 'both': 27, 'you': 28, 'wow': 29, 'u': 30, 'just': 31, 'became': 32, 'cooler': 33, 'as': 34, 'much': 35, 'love': 36, 'to': 37, 'be': 38, 'hopeful': 39, 'reckon': 40, 'chances': 41, 'are': 42, 'minimal': 43, 'm': 44, 'never': 45, 'gon': 46, 'na': 47, 'get': 48, 'my': 49, 'cake': 50, 'and': 51, 'stuff': 52, 'like': 53, 'lost': 54, 'test': 55, 'from': 56, 'lg': 57, 'uh': 58, 'oh': 59, 'am': 60, 'sunburned': 61, 'sigh': 62, 'sick': 63, 'hes': 64, 'not': 65, 'that': 66, 'into': 67, 'so': 68, 'sorry': 69, 'hope': 70, 'find': 71, 'her': 72, 'soon': 73, '3': 74, 'interesting': 75, 'is': 76, 'cleaning': 77, 'house': 78, 'family': 79, 'who': 80, 'comming': 81, 'later': 82, 'today': 83, 'got': 84, 'ta': 85, 'restart': 86, 'computer': 87, 'thought': 88, 'win7': 89, 'was': 90, 'supposed': 91, 'put': 92, 'an': 93, 'end': 94, 'constant': 95, 'see': 96, 'wat': 97, 'mean': 98, 'bout': 99, 'it': 100, 's': 101, 'called': 102, 'lose': 103, 'friday': 104, 'smh': 105, 'free': 106, 'app': 107, 'ipod': 108, 'im': 109, 'addicted': 110, 'internet': 111, 'power': 112, 'back': 113, 'up': 114, 'working': 115, 'too': 116, 'quite': 117, 'heavenly': 118, 'well': 119, 'being': 120, 'unhappy': 121, 'about': 122, '10': 123, 'minute': 124, 'funny': 125, 'ahhh': 126, 'slept': 127, 'through': 128, 'game': 129, 'try': 130, 'watch': 131, 'tomorrow': 132, 'though': 133, 'we': 134, 'play': 135, 'army': 136, 'thats': 137, 'its': 138, 'tears': 139, 'fears': 140, 'miss': 141, 'in': 142, 'case': 143, 'wonder': 144, 'really': 145, 'busy': 146, 'this': 147, 'coming': 148, 'with': 149, 'adding': 150, 'tons': 151, 'new': 152, 'blogs': 153, 'updates': 154, 'stay': 155, 'tuned': 156, 'soooooo': 157, 'a': 158, 'little': 159, 'happy': 160, 'fo': 161, 'car': 162, 'big': 163, 'boot': 164, 'hoping': 165, 'theyre': 166, 'write': 167, 'off': 168, 'crossing': 169, 'fingers': 170, 'waiting': 171, 'fan': 172, 'mayday': 173, 'rocked': 174, 'nashville': 175, 'tonite': 176, 'one': 177, 'thing': 178, 'sucked': 179, 'no': 180, 'encore': 181, '80': 182, 'they': 183, 'still': 184, 'show': 185, 'has': 186, 'hott': 187, 'bad': 188, 'boy': 189, 'look': 190, 'girl': 191, 'hair': 192, 'asked': 193, 'your': 194, 'eyebrows': 195, 'how': 196, 'old': 197, 'do': 198, 'feel': 199, 'visiting': 200, 'friendster': 201, 'facebook': 202, 'dont': 203, 'go': 204, 'thrilled': 205, 'at': 206, 'all': 207, 'mine': 208, 'then': 209, 'should': 210, 'check': 211, 'out': 212, 'connect': 213, 'other': 214, 'tweeple': 215, 'hate': 216, 'twitter': 217, 'also': 218, 'bored': 219, 'school': 220, 'third': 221, 'hm': 222, 'us': 223, 'guess': 224, 'past': 225, 'few': 226, 'days': 227, 'romance': 228, 'zero': 229, 'rather': 230, 'early': 231, 'run': 232, 'but': 233, 'morning': 234, 'hurts': 235, 'will': 236, 'torn': 237, 'ace': 238, 'hearts': 239, 'what': 240, 'speaking': 241, 'friends': 242, 'sleepy': 243, 'haha': 244, 'yes': 245, 'give': 246, 'easily': 247, 'favorite': 248, 'jealous': 249, 'photoshoot': 250, 'awesome': 251, 'yay': 252, 'playing': 253, 'tonight': 254, 'boo': 255, 'soggy': 256, 'work': 257, 'right': 258, 'before': 259, 'know': 260, 'such': 261, 'let': 262, 'smell': 263, 'smoke': 264, 'kitchenfire': 265, 'better': 266, 'anyone': 267, 'extra': 268, 'ticket': 269, 'promise': 270, 'buy': 271, 'drink': 272, 'take': 273, 'rad': 274, 'pics': 275, 'fb': 276, 'blog': 277, 'etc': 278, 'can': 279, 'ride': 280, 'catch': 281, 'summer': 282, 'til': 283, 'pop': 284, 'open': 285, 'she': 286, 'good': 287, 'yea': 288, 'kno': 289, 'yesterday': 290, 'when': 291, 'tha': 292, 'hospital': 293, 'talked': 294, 'said': 295, 'ok': 296, 'here': 297, 'now': 298, 'popped': 299, 'say': 300, 'hi': 301, 'things': 302, 'll': 303, 'probably': 304, 'head': 305, 'baddd': 306, 'sources': 307, 'tired': 308, 'hey': 309, 'change': 310, 'account': 311, 'didn': 312, 't': 313, 'even': 314, 'tell': 315, 'thank': 316, 'lucky': 317, 'fell': 318, 'asleep': 319, 'guys': 320, 'star': 321, 'wars': 322, 'day': 323, 'everyone': 324, 'enjoy': 325, 'holiday': 326, 'uk': 327, 'miles': 328, 'plenty': 329, 'warning': 330, 'arrive': 331, 'time': 332, 'least': 333, 'those': 334, 'beers': 335, 'his': 336, 'snoring': 337, 'annoying': 338, 'n': 339, 'keeps': 340, 'sleeping': 341, 'lol': 342, 'honestly': 343, 'wud': 344, 'eva': 345, 'left': 346, 'him': 347, 'bby': 348, 'cool': 349, 'there': 350, 'lasts': 351, 'way': 352, 'bedtime': 353, 'doing': 354, 'joined': 355, 'eating': 356, 'ice': 357, 'cream': 358, 'getting': 359, 'ready': 360, 'graduation': 361, 'mothers': 362, 'mums': 363, 'freaked': 364, 'unfortunately': 365, 'read': 366, 'story': 367, 'adam': 368, 'lambert': 369, 'online': 370, 'bed': 371, 'nighty': 372, 'night': 373, 'pretty': 374, 'certainly': 375, 'cheers': 376, 'than': 377, 'huh': 378, 'horrible': 379, 'over': 380, 'pens': 381, 'wear': 382, 'black': 383, 'most': 384, 'thanks': 385, 'safe': 386, 'wish': 387, 'allowed': 388, 'add': 389, 'email': 390, 'tickets': 391, 'think': 392, 'kept': 393, 'comfort': 394, 'our': 395, 'don': 396, 'confident': 397, 'hahaa': 398, 'awesomee': 399, 'making': 400, 'jump': 401, 'low': 402, 'health': 403, 'money': 404, 'food': 405, 'worry': 406, 'had': 407, 'itunes': 408, 'songs': 409, 'gloomy': 410, 'weather': 411, 'sun': 412, 'must': 413, 'come': 414, 'heading': 415, 'victoria': 416, 'looking': 417, 'forward': 418, 'poor': 419, 'prob': 420, 'dads': 421, 'watching': 422, 'mtv': 423, 'absolutely': 424, 'matter': 425, 'y': 426, 'adore': 427, 'painful': 428, 'e': 429, 'nice': 430, 'namaskar': 431, 'r': 432, 'same': 433, 'marathi': 434, 'people': 435, 'word': 436, 'congrats': 437, 'cuss': 438, 'minutes': 439, 'until': 440, 'reward': 441, 'missed': 442, 'normal': 443, 'group': 444, 'large': 445, 'last': 446, 'terrible': 447, 'unfortunatley': 448, 'sucks': 449, 'tho': 450, 'fighting': 451, 'watched': 452, 'didnt': 453, 'want': 454, 'win': 455, 'fight': 456, 'sprite': 457, 'tastes': 458, 'sore': 459, 'throat': 460, 'came': 461, 'cross': 462, 'country': 463, 'beat': 464, 'dumbo': 465, 'enjoyable': 466, 'lunch': 467, 'done': 468, 'late': 469, 'cousins': 470, 'or': 471, 'whatever': 472, 'spell': 473, 'goooooddd': 474, 'tweets': 475, 'fine': 476, 'ones': 477, 'neither': 478, 'hours': 479, 'sunday': 480, 'two': 481, 'hour': 482, 'yeah': 483, 'bugger': 484, 'forgot': 485, 'washing': 486, 'machine': 487, 'sending': 488, 'blessings': 489, 'thoughts': 490, 'peace': 491, 'ah': 492, 'feeling': 493, 'dad': 494, 'nope': 495, 'boring': 496, 'p': 497, 'sounds': 498, 'thunder': 499, 'storm': 500, 'almost': 501, 'maybe': 502, 'home': 503, 'great': 504, 'excited': 505, 'ever': 506, 'messed': 507, 'iv': 508, 'hurt': 509, 'tooth': 510, 'cassie': 511, 'having': 512, 'drawing': 513, 'draw': 514, 'cookies': 515, 'l': 516, 'auditions': 517, 'text': 518, 'reply': 519, 'please': 520, 'secret': 521, 'need': 522, 'fixed': 523, 'illness': 524, 'following': 525, 'english': 526, 'tweet': 527, 'sir': 528, 'woulda': 529, 'honey': 530, 'any': 531, 'totally': 532, 'loved': 533, 'helped': 534, 'thru': 535, 'life': 536, 'finally': 537, 'call': 538, 'marriage': 539, 'why': 540, 'baby': 541, 're': 542, 'impromptu': 543, 'pool': 544, 'party': 545, 'except': 546, 'swim': 547, 'oww': 548, '1': 549, 'year': 550, 'phew': 551, 'make': 552, 'note': 553, 'else': 554, 'runs': 555, 'vote': 556, 'every': 557, 'diet': 558, 'killing': 559, 'talk': 560, 'far': 561, 'did': 562, 'sleep': 563, '4': 564, 'bit': 565, 'lately': 566, 'either': 567, 'replies': 568, 'turn': 569, 'voice': 570, 've': 571, 'heard': 572, 'fall': 573, 'more': 574, 'nightmares': 575, 'huggles': 576, 'creeper': 577, 'disappointed': 578, 'because': 579, 'skills': 580, 'headache': 581, 'grabbing': 582, 'coffee': 583, 'mom': 584, 'breakfast': 585, 'major': 586, 'chop': 587, 'updated': 588, 'hahaha': 589, 'crush': 590, 'saw': 591, 'james': 592, 'store': 593, 'yellow': 594, 'which': 595, 'means': 596, 'vancouver': 597, 'hahah': 598, 'smooth': 599, 'ew': 600, 'traffic': 601, 'downloading': 602, 'while': 603, 'trying': 604, 'sneak': 605, 'lil': 606, 'homework': 607, 'main': 608, 'priority': 609, 'realize': 610, 'mess': 611, 'happiest': 612, 'bike': 613, 'worse': 614, 'jonas': 615, 'brothers': 616, 'live': 617, 'rocking': 618, 'hard': 619, 'would': 620, 'exception': 621, 'short': 622, 'dude': 623, 'yum': 624, 'wolverine': 625, 'hopefully': 626, '6': 627, 'hmmm': 628, 'meant': 629, 'something': 630, 'brand': 631, 'media': 632, 'spa': 633, 'meeting': 634, 'always': 635, 'wanted': 636, 'oz': 637, 'thx': 638, 'luv': 639, 'okay': 640, 'dedicating': 641, 'fact': 642, 'apple': 643, 'huge': 644, 'crack': 645, 'glass': 646, 'screen': 647, 'only': 648, 'could': 649, 'actually': 650, 'turns': 651, 'sass': 652, 'long': 653, 'isn': 654, 'ahaha': 655, 'sports': 656, 'bar': 657, 'rest': 658, 'ph': 659, 'w': 660, 'whether': 661, 'helps': 662, 'google': 663, 'jai': 664, 'ho': 665, 'un': 666, 'seriously': 667, 'pain': 668, 'bring': 669, 'g': 670, 'challenge': 671, 'keep': 672, 'talking': 673, 'newbie': 674, 'died': 675, 'drive': 676, 'moms': 677, 'pick': 678, 'myself': 679, 'first': 680, 'shower': 681, 'followers': 682, 'down': 683, 'bottle': 684, 'juice': 685, 'amazing': 686, 'once': 687, 'brother': 688, 'news': 689, 'finished': 690, 'workout': 691, 'been': 692, 'band': 693, 'wonderful': 694, 'neighborhood': 695, 'another': 696, '60': 697, 'waited': 698, 'listening': 699, 'wind': 700, 'blowing': 701, 'none': 702, 'enough': 703, 'someone': 704, 'says': 705, 'hell': 706, 'shirt': 707, 'dinner': 708, 'ask': 709, 'does': 710, 'smelly': 711, 'noooo': 712, 'alex': 713, 'glad': 714, 'twittering': 715, 'after': 716, '2': 717, 'depressed': 718, 'lot': 719, 'he': 720, 'friendly': 721, 'hang': 722, 'neck': 723, 'jacked': 724, 'forced': 725, 'pay': 726, 'parking': 727, 'bc': 728, 'parallel': 729, 'park': 730, 'spaces': 731, 'bathing': 732, 'angels': 733, 'hahahha': 734, 'true': 735, 'remember': 736, 'bd': 737, 'date': 738, 'hanging': 739, 'them': 740, 'gorgeous': 741, 'worried': 742, 'red': 743, 'top': 744, 'build': 745, 'em': 746, 'knock': 747, 'girls': 748, 'minus': 749, 'made': 750, 'jumping': 751, 'joy': 752, 'simple': 753, 'uploaded': 754, 'cats': 755, 'missy': 756, 'adult': 757, 'kitty': 758, 'kitten': 759, 'heaven': 760, 'bound': 761, 'eggs': 762, 'learn': 763, 'ship': 764, 'stuck': 765, 'wait': 766, 'shame': 767, 'nan': 768, 'looks': 769, 'office': 770, 'tv': 771, 'mlb': 772, 'network': 773, 'empty': 774, 'handed': 775, 'comics': 776, 'found': 777, 'shall': 778, 'indulge': 779, 'cupcakes': 780, 'bakery': 781, 'definitely': 782, 'pinched': 783, 'nerve': 784, 'exhausting': 785, 'weekend': 786, 'very': 787, 'distracted': 788, 'taking': 789, 'trouble': 790, 'follow': 791, 'others': 792, 'feelin': 793, 'broke': 794, 'sure': 795, 'jst': 796, 'ur': 797, 'bday': 798, 'looked': 799, 'planning': 800, 'times': 801, 'amazin': 802, 'migraine': 803, 'whens': 804, 'sway': 805, 'winner': 806, 'announced': 807, 'k': 808, 'wake': 809, 'writing': 810, 'booo': 811, 'whoo': 812, 'daddy': 813, 'mommy': 814, 'officially': 815, 'realized': 816, 'msgs': 817, 'iphone': 818, 'exciting': 819, 'peter': 820, 'pieces': 821, 'wan': 822, 'hide': 823, 'die': 824, 'lmao': 825, 'threw': 826, 'partying': 827, 'agree': 828, 'hopeless': 829, 'everything': 830, 'perfect': 831, 'ma': 832, 'dang': 833, 'damnit': 834, 'boss': 835, 'moving': 836, 'nyc': 837, 'crazy': 838, 'stupid': 839, 'gig': 840, 'ireland': 841, 'ya': 842, 'aww': 843, 'hungry': 844, 'ps': 845, 'send': 846, 'direct': 847, 'messages': 848, 'telling': 849, 'ha': 850, 'beer': 851, 'garden': 852, 'wit': 853, 'ill': 854, 'btw': 855, 'phone': 856, 'using': 857, 'told': 858, 'b4': 859, 'might': 860, 'comes': 861, 'sadly': 862, 'cant': 863, 'dentist': 864, 'next': 865, 'week': 866, 'molar': 867, 'driving': 868, 'omg': 869, 'tango': 870, 'awsome': 871, 'real': 872, 'by': 873, 'smile': 874, 'face': 875, 'believe': 876, 'went': 877, 'without': 878, '19': 879, 'counting': 880, 'discovered': 881, 'gravity': 882, 'use': 883, 'twitpic': 884, 'doesn': 885, 'pic': 886, 'url': 887, '140': 888, 'character': 889, 'limit': 890, 'sunburn': 891, 'perky': 892, 'purple': 893, 'nail': 894, 'polish': 895, 'camera': 896, 'pit': 897, 'longer': 898, 'door': 899, 'caught': 900, 'cuddle': 901, 'dying': 902, 'original': 903, 'respect': 904, 'needs': 905, 'job': 906, 'passed': 907, 'away': 908, 'around': 909, 'ghost': 910, 'form': 911, 'pants': 912, 'idea': 913, 'attempt': 914, 'business': 915, 'popular': 916, 'dosen': 917, 'birthday': 918, 'massacre': 919, 'australia': 920, 'thinking': 921, 'lobster': 922, 'rice': 923, 'bread': 924, 'chili': 925, 'minds': 926, 'evening': 927, 'dear': 928, 'save': 929, 'packing': 930, 'tea': 931, 'mouth': 932, 'history': 933, 'pm': 934, 'friend': 935, 'entertain': 936, 'kill': 937, 'keys': 938, 'stopped': 939, 'tony': 940, 'goodmorning': 941, 'john': 942, 'taylor': 943, 'snake': 944, 'picture': 945, 'gone': 946, 'waterfront': 947, 'anymore': 948, 'loves': 949, 'mum': 950, 'poop': 951, 'cry': 952, 'sharing': 953, 'reader': 954, 'chilled': 955, 'spew': 956, 'seems': 957, 'these': 958, 'pray': 959, 'lord': 960, 'knows': 961, 'usa': 962, 'name': 963, 'makes': 964, 'rough': 965, 'mention': 966, 'photo': 967, 'sit': 968, 'wishing': 969, 'concert': 970, 'happened': 971, 'dammit': 972, 'forever': 973, '21': 974, 'couldn': 975, 'easy': 976, 'beautiful': 977, 'sharp': 978, 'usually': 979, 'positive': 980, '15': 981, 'mins': 982, 'lee': 983, 'paris': 984, 'lots': 985, 'bouncing': 986, 'rush': 987, 'nauseous': 988, 'lovely': 989, 'singstar': 990, 'fave': 991, 'weird': 992, 'daughter': 993, 'lacking': 994, 'under': 995, 'honeymoon': 996, 'moon': 997, 'swollen': 998, 'ago': 999, 'realised': 1000, 'referring': 1001, 'exchange': 1002, 'lj': 1003, 'act': 1004, 'scared': 1005, 'missing': 1006, 'shops': 1007, 'cut': 1008, 'grass': 1009, 'plan': 1010, 'bedroom': 1011, 'random': 1012, 'sorr': 1013, 'hw': 1014, 'uploading': 1015, 'bamboozle': 1016, 'pictures': 1017, 'congratulations': 1018, 'woke': 1019, 'wack': 1020, 'acts': 1021, 'seeing': 1022, 'commute': 1023, 'sometimes': 1024, 'tips': 1025, 'wasn': 1026, 'chance': 1027, 'hates': 1028, 'support': 1029, 'android': 1030, 'tweetie': 1031, 'mother': 1032, 'fail': 1033, 'cards': 1034, 'already': 1035, 'packed': 1036, 'allergic': 1037, 'tonsils': 1038, 'dooo': 1039, 'tough': 1040, 'nah': 1041, 'hot': 1042, 'clean': 1043, 'fresh': 1044, 'wearing': 1045, 'dirty': 1046, 'clothes': 1047, 'half': 1048, 'men': 1049, 'many': 1050, 'cuz': 1051, 'grown': 1052, 'living': 1053, 'awwww': 1054, 'relaxing': 1055, 'place': 1056, 'cost': 1057, 'part': 1058, 'figure': 1059, 'aint': 1060, 'connecting': 1061, 'start': 1062, 'quiet': 1063, 'clearly': 1064, 'wishes': 1065, 'spare': 1066, 'cash': 1067, 'punch': 1068, 'wii': 1069, 'flight': 1070, 'sweet': 1071, 'dreams': 1072, 'hay': 1073, 'wats': 1074, 'aim': 1075, 'chat': 1076, 'kool': 1077, 'touring': 1078, 'happen': 1079, 'op': 1080, 'dead': 1081, 'grandma': 1082, 'since': 1083, 'america': 1084, 'wassup': 1085, 'dropped': 1086, 'bac': 1087, 'sunshine': 1088, 'anxiety': 1089, 'issues': 1090, 'attempts': 1091, 'somehow': 1092, 'extend': 1093, 'inner': 1094, 'classes': 1095, 'close': 1096, 'ref': 1097, 'atm': 1098, 'join': 1099, 'require': 1100, 'cupcake': 1101, 'donation': 1102, 'super': 1103, 'puffy': 1104, 'eyes': 1105, 'access': 1106, 'site': 1107, 'shinning': 1108, 'slowest': 1109, 'train': 1110, 'cd': 1111, 'whole': 1112, 'bunch': 1113, 'failure': 1114, 'wasnt': 1115, 'tierd': 1116, 'doesnt': 1117, 'population': 1118, 'world': 1119, 'mondays': 1120, 'mozart': 1121, 'requiem': 1122, 'physically': 1123, 'attracted': 1124, 'although': 1125, 'style': 1126, 'pissed': 1127, 'usual': 1128, 'bake': 1129, 'bueno': 1130, 'asap': 1131, 'uni': 1132, 'aren': 1133, 'again': 1134, 'body': 1135, 'beta': 1136, 'fabulous': 1137, 'tease': 1138, 'bet': 1139, 'heavens': 1140, 'ear': 1141, 'popping': 1142, 'answer': 1143, 'catching': 1144, 'weeks': 1145, 'grey': 1146, 'kinda': 1147, 'o': 1148, 'beach': 1149, 'yeaaaah': 1150, 'nothing': 1151, 'starts': 1152, 'hysterical': 1153, 'device': 1154, 'battery': 1155, 'goes': 1156, 'fully': 1157, 'charged': 1158, '5': 1159, 'michelle': 1160, 'mama': 1161, 'rock': 1162, 'likes': 1163, 'boiled': 1164, 'ugh': 1165, 'cell': 1166, 'quality': 1167, 'compared': 1168, 'miley': 1169, 'took': 1170, 'bless': 1171, 'hooked': 1172, 'everybody': 1173, 'ohhhh': 1174, 'nooooo': 1175, 'ms': 1176, 'edge': 1177, 'contributors': 1178, 'list': 1179, 'month': 1180, 'issue': 1181, 'ooo': 1182, 'growl': 1183, 'yummy': 1184, 'hunting': 1185, 'combo': 1186, 'tshirt': 1187, 'problem': 1188, 'hating': 1189, 'started': 1190, 'tee': 1191, 'limited': 1192, 'edition': 1193, 'different': 1194, 'ways': 1195, 'husband': 1196, 'vegas': 1197, 'ideas': 1198, 'places': 1199, 'kiwi': 1200, 'artist': 1201, 'oooo': 1202, 'havent': 1203, 'accepted': 1204, 'causes': 1205, 'available': 1206, 'area': 1207, 'prize': 1208, 'cramps': 1209, 'plans': 1210, 'followed': 1211, 'bought': 1212, 'outfit': 1213, 'where': 1214, 'rain': 1215, 'pleasure': 1216, 'fml': 1217, 'help': 1218, 'study': 1219, 'tests': 1220, 'cute': 1221, 'mariah': 1222, 'rebel': 1223, 'exam': 1224, 'license': 1225, 'renewed': 1226, 'closer': 1227, 'thinks': 1228, 'signing': 1229, 'evryone': 1230, 'gna': 1231, 'stone': 1232, 'cold': 1233, 'austin': 1234, 'withdrawl': 1235, 'symptoms': 1236, 'senior': 1237, 'further': 1238, 'lobby': 1239, 'dates': 1240, 'chicago': 1241, 'adele': 1242, 'laughing': 1243, 'wondering': 1244, 'college': 1245, 'against': 1246, 'uncle': 1247, 'scare': 1248, 'rachel': 1249, 'slap': 1250, 'simpsons': 1251, 'special': 1252, 'mad': 1253, 'wife': 1254, 'bodyshop': 1255, 'bringing': 1256, 'invite': 1257, 'instead': 1258, 'ben': 1259, 'lane': 1260, 'choose': 1261, 'gets': 1262, 'info': 1263, 'points': 1264, 'gear': 1265, 'question': 1266, 'posted': 1267, 'set': 1268, 'remind': 1269, 'jeans': 1270, 'wore': 1271, 'gives': 1272, 'movie': 1273, 'laptop': 1274, 'grew': 1275, 'speakers': 1276, 'charlie': 1277, 'sound': 1278, 'rofl': 1279, 'fab': 1280, 'deadlines': 1281, 'outside': 1282, 'won': 1283, 'till': 1284, 'screwed': 1285, 'laid': 1286, 'becoming': 1287, 'unemployed': 1288, 'anytime': 1289, 'lem': 1290, 'ran': 1291, 'gym': 1292, 'waking': 1293, 'kids': 1294, 'recording': 1295, 'studio': 1296, 'knew': 1297, 'disappointing': 1298, 'yep': 1299, 'anthropomorphic': 1300, 'planter': 1301, '31st': 1302, 'shut': 1303, 'stop': 1304, 'creative': 1305, 'stock': 1306, 'tweeting': 1307, 'celebrate': 1308, 'everbody': 1309, 'gd': 1310, 'wkend': 1311, '12': 1312, 'designed': 1313, 'welcome': 1314, 'mystery': 1315, 'blood': 1316, 'bathroom': 1317, 'toilet': 1318, 'hasn': 1319, 'replied': 1320, '20': 1321, 'amazi': 1322, 'tried': 1323, 'shoes': 1324, 'sisters': 1325, 'vet': 1326, 'magic': 1327, 'jack': 1328, 'woken': 1329, 'greatest': 1330, 'dinners': 1331, 'raining': 1332, 'class': 1333, 'care': 1334, 'gosh': 1335, 'hai': 1336, 'twitterverse': 1337, 'mothersday': 1338, 'hubby': 1339, 'houston': 1340, 'web': 1341, 'completely': 1342, 'dm': 1343, 'cable': 1344, 'lock': 1345, 'tad': 1346, 'neglected': 1347, 'silly': 1348, 'grace': 1349, 'god': 1350, 'works': 1351, 'remote': 1352, 'controls': 1353, 'hit': 1354, 'emergency': 1355, 'delay': 1356, 'sitting': 1357, 'flew': 1358, 'lax': 1359, 'lights': 1360, 'thoug': 1361, 'considering': 1362, 'hav': 1363, 'b': 1364, 'often': 1365, 'wash': 1366, 'speak': 1367, 'ended': 1368, 'own': 1369, 'disappeared': 1370, 'everywhere': 1371, 'ohhh': 1372, 'gahhh': 1373, 'fair': 1374, 'count': 1375, 'review': 1376, 'final': 1377, 'saying': 1378, 'fat': 1379, 'offer': 1380, 'anywhere': 1381, 'ch': 1382, 'fu': 1383, 'mitchel': 1384, 'costs': 1385, 'loads': 1386, 'england': 1387, 'yessir': 1388, '100': 1389, 'warm': 1390, 'vip': 1391, 'di': 1392, 'channel': 1393, 'straight': 1394, 'tasks': 1395, 'crowd': 1396, 'hmm': 1397, 'depends': 1398, 'thanx': 1399, 'patience': 1400, 'drop': 1401, 'parts': 1402, 'buddy': 1403, 'press': 1404, 'expensive': 1405, 'fellow': 1406, 'goodnight': 1407, 'hangover': 1408, 'ol': 1409, 'fry': 1410, 'boooo': 1411, 'starbucks': 1412, 'fourth': 1413, 'hols': 1414, 'chomp': 1415, 'terribly': 1416, 'starting': 1417, 'assignments': 1418, 'november': 1419, 'soak': 1420, 'stars': 1421, 'bk': 1422, 'august': 1423, 'alright': 1424, 'kk': 1425, 'aha': 1426, 'round': 1427, 'copy': 1428, 'public': 1429, 'contacts': 1430, 'personal': 1431, 'deal': 1432, 'update': 1433, 'hannah': 1434, 'montana': 1435, 'saturday': 1436, 'victim': 1437, 'slip': 1438, 'selling': 1439, 'mac': 1440, 'bits': 1441, 'couple': 1442, 'fire': 1443, 'urban': 1444, 'ba': 1445, 'jus': 1446, 'doin': 1447, 'shifts': 1448, 'amusing': 1449, 'strongly': 1450, 'jason': 1451, 'hugh': 1452, 'jackman': 1453, 'mouse': 1454, 'signal': 1455, 'mate': 1456, 'couldnt': 1457, 'pulled': 1458, 'walmart': 1459, 'aunt': 1460, 'searching': 1461, 'cook': 1462, 'staying': 1463, 'awake': 1464, 'arm': 1465, 'kind': 1466, 'mood': 1467, 'reason': 1468, 'mushy': 1469, 'behave': 1470, 'delayed': 1471, 'responses': 1472, 'between': 1473, 'rocky': 1474, 'mountains': 1475, 'dare': 1476, 'man': 1477, 'sorted': 1478, 'enjoying': 1479, 'favourite': 1480, 'charging': 1481, 'charger': 1482, 'congratulatory': 1483, 'invisible': 1484, 'boost': 1485, 'honest': 1486, 'side': 1487, 'randoms': 1488, 'bsb': 1489, 'american': 1490, 'idol': 1491, 'performance': 1492, 'windsor': 1493, 'june': 1494, 'felt': 1495, 'lazy': 1496, 'roll': 1497, 'thursday': 1498, 'shipping': 1499, 'carriers': 1500, 'cavs': 1501, '2night': 1502, 'lebron': 1503, 'killed': 1504, 'triple': 1505, 'double': 1506, 'thanxx': 1507, 'arent': 1508, 'poorly': 1509, 'st': 1510, 'picked': 1511, 'taco': 1512, 'guitar': 1513, 'sold': 1514, 'music': 1515, 'wants': 1516, 'notice': 1517, 'page': 1518, 'kewl': 1519, 'youtube': 1520, 'calling': 1521, 'xbox': 1522, 'drinking': 1523, 'texted': 1524, 'chasing': 1525, 'their': 1526, 'backyard': 1527, 'awwwww': 1528, 'legs': 1529, 'h': 1530, 'push': 1531, 'level': 1532, 'lb': 1533, 'gain': 1534, 'grandparents': 1535, 'chile': 1536, '9': 1537, 'c': 1538, 'winter': 1539, 'cali': 1540, 'born': 1541, 'prison': 1542, 'break': 1543, 'cried': 1544, 'understand': 1545, 'finale': 1546, 'excuse': 1547, 'afternoon': 1548, 'isnt': 1549, 'afraid': 1550, 'hee': 1551, 'exams': 1552, 'shows': 1553, 'awww': 1554, 'ball': 1555, 'sez': 1556, 'flights': 1557, 'heat': 1558, 'turned': 1559, 'human': 1560, 'classic': 1561, 'dj': 1562, 'pattern': 1563, 'may': 1564, 'yucky': 1565, 'lame': 1566, 'med': 1567, 'checked': 1568, 'strep': 1569, 'admire': 1570, 'inspire': 1571, 'logging': 1572, 'yet': 1573, 'doubt': 1574, 'content': 1575, 'moment': 1576, 'luck': 1577, 'student': 1578, 'figured': 1579, 'esther': 1580, 'polyester': 1581, 'semester': 1582, 'lexus': 1583, 'studying': 1584, 'grades': 1585, 'difference': 1586, 'bash': 1587, 'stick': 1588, 'ut': 1589, 'eclipse': 1590, 'tweeten': 1591, 'greece': 1592, 'sunny': 1593, 'xd': 1594, 'refused': 1595, 'entry': 1596, 'id': 1597, 'gutted': 1598, 'tempted': 1599, 'babe': 1600, 'reading': 1601, 'fallen': 1602, 'apart': 1603, 'nxt': 1604, 'wk': 1605, 'track': 1606, 'fallin': 1607, 'strange': 1608, 'bloody': 1609, 'sum': 1610, 'itchy': 1611, 'flat': 1612, 'tire': 1613, 'unread': 1614, 'emails': 1615, 'yaay': 1616, 'waste': 1617, 'able': 1618, 'breathe': 1619, 'ff': 1620, 'chiodos': 1621, 'inside': 1622, 'grove': 1623, 'village': 1624, 'smart': 1625, 'especially': 1626, 'ppl': 1627, 'goooooood': 1628, 'loveeee': 1629, 'grateful': 1630, 'heart': 1631, 'burn': 1632, 'th': 1633, 'drunk': 1634, 'mail': 1635, 'address': 1636, 'touched': 1637, 'hrs': 1638, 'fly': 1639, 'singapore': 1640, 'air': 1641, 'positivity': 1642, 'regret': 1643, 'forsure': 1644, 'sent': 1645, 'dunno': 1646, 'credit': 1647, 'thts': 1648, 'leaving': 1649, 'medium': 1650, 'light': 1651, 'frappuccino': 1652, 'nom': 1653, 'become': 1654, 'myspace': 1655, 'worth': 1656, 'clever': 1657, 'extremely': 1658, 'amount': 1659, '24': 1660, 'loosing': 1661, 'jonathan': 1662, 'danny': 1663, 'momma': 1664, 'purse': 1665, 'photos': 1666, 'aw': 1667, 'toy': 1668, 'nooooooooo': 1669, 'yall': 1670, 'sooooo': 1671, 'dis': 1672, 'number': 1673, 'dashboard': 1674, '16th': 1675, 'aaawww': 1676, 'worries': 1677, 'slow': 1678, 'hahahah': 1679, 'plus': 1680, 'likely': 1681, 'evie': 1682, '30': 1683, 'freakin': 1684, 'anthony': 1685, 'product': 1686, 'lovelies': 1687, 'breaks': 1688, 'koi': 1689, 'fish': 1690, 'attention': 1691, 'kidding': 1692, 'respond': 1693, 'karma': 1694, 'musicmonday': 1695, 'attitude': 1696, 'invented': 1697, 'hallmark': 1698, 'bus': 1699, 'boys': 1700, 'ordering': 1701, 'white': 1702, 'chocolate': 1703, 'banana': 1704, 'pudding': 1705, 'lets': 1706, 'magento': 1707, 'flash': 1708, 'bein': 1709, 'lived': 1710, 'moved': 1711, 'shouldn': 1712, 'bank': 1713, 'holidays': 1714, 'x': 1715, 'hugs': 1716, 'flies': 1717, 'interview': 1718, 'badly': 1719, 'grans': 1720, 'amt': 1721, 'spammers': 1722, 'bell': 1723, 'rang': 1724, 'wen': 1725, 'okayy': 1726, 'idk': 1727, 'safari': 1728, 'os': 1729, 'crash': 1730, 'loop': 1731, 'cookie': 1732, 'saving': 1733, 'firefox': 1734, 'tan': 1735, 'sl': 1736, 'goin': 1737, 'falling': 1738, 'fewer': 1739, 'kisses': 1740, 'smacked': 1741, 'presentation': 1742, 'christmas': 1743, 'collecting': 1744, 'dust': 1745, 'balancing': 1746, 'chin': 1747, 'sixth': 1748, 'common': 1749, 'room': 1750, 'hung': 1751, 'balls': 1752, 'niceee': 1753, 'goodbye': 1754, 'audrey': 1755, 'fairness': 1756, 'post': 1757, 'offline': 1758, 'joke': 1759, 'wont': 1760, 'mind': 1761, 'nasty': 1762, 'display': 1763, 'math': 1764, 'seniors': 1765, 'fifteen': 1766, 'fever': 1767, 'jello': 1768, 'channing': 1769, 'tatum': 1770, 'lappy': 1771, 'sux': 1772, 'arms': 1773, 'golf': 1774, 'course': 1775, 'shoot': 1776, 'hurry': 1777, 'tuesday': 1778, 'guilty': 1779, 'icarly': 1780, 'aye': 1781, '4th': 1782, 'suns': 1783, 'suppose': 1784, 'comments': 1785, 'jog': 1786, 'exercise': 1787, 'dublin': 1788, 'putting': 1789, 'anything': 1790, 'salad': 1791, 'full': 1792, 'dan': 1793, 'babysitting': 1794, 'urgh': 1795, 'cafe': 1796, 'claude': 1797, 'canceled': 1798, 'macbook': 1799, 'adorable': 1800, 'producers': 1801, 'hero': 1802, 'afford': 1803, 'cup': 1804, 'tmrw': 1805, 'yup': 1806, 'dianne': 1807, 'claudia': 1808, 'active': 1809, 'dr': 1810, 'cheeks': 1811, 'ears': 1812, 'yeaaa': 1813, 'link': 1814, 'noone': 1815, 'colorful': 1816, 'ive': 1817, 'seen': 1818, 'somebody': 1819, 'goo': 1820, 'suck': 1821, 'pie': 1822, 'running': 1823, 'naked': 1824, 'streets': 1825, 'zealand': 1826, 'loving': 1827, 'behind': 1828, 'episodes': 1829, 'horses': 1830, 'sister': 1831, 'softball': 1832, 'wong': 1833, 'ping': 1834, 'pong': 1835, 'ding': 1836, 'ate': 1837, 'yey': 1838, 'wtf': 1839, 'stolen': 1840, 'sheep': 1841, 'record': 1842, 'dum': 1843, 'emotional': 1844, 'speed': 1845, 'lessons': 1846, 'center': 1847, 'court': 1848, 'dressed': 1849, 'ryan': 1850, 'italy': 1851, 'wedding': 1852, 'march': 1853, 'export': 1854, 'upload': 1855, 'share': 1856, 'thinkin': 1857, 'charge': 1858, 'dslr': 1859, 'bury': 1860, 'ours': 1861, 'six': 1862, 'fourteen': 1863, 'years': 1864, 'grrrr': 1865, 'outta': 1866, 'frankie': 1867, 'kirk': 1868, 'hotter': 1869, 'search': 1870, 'coupons': 1871, 'mm': 1872, 'jeffree': 1873, '1st': 1874, 'midnight': 1875, 'thurs': 1876, 'jay': 1877, 'leno': 1878, 'anyway': 1879, 'swine': 1880, 'flu': 1881, 'oceans': 1882, 'jimmy': 1883, 'jon': 1884, 'slides': 1885, 'swing': 1886, 'climbing': 1887, 'wall': 1888, 'built': 1889, 'understands': 1890, 'dayyyy': 1891, 'singer': 1892, 'sort': 1893, 'guilt': 1894, 'vids': 1895, 'audio': 1896, 'shine': 1897, 'feeding': 1898, 'cooking': 1899, 'sleepin': 1900, 'vintage': 1901, 'realizing': 1902, 'months': 1903, 'applications': 1904, 'fault': 1905, 'gigs': 1906, 'motivation': 1907, 'returning': 1908, 'rate': 1909, 'smaller': 1910, 'scott': 1911, 'champagne': 1912, 'gift': 1913, 'ther': 1914, 'forget': 1915, 'cinnamon': 1916, 'pains': 1917, 'buying': 1918, 'pair': 1919, 'library': 1920, 'equivalent': 1921, 'clock': 1922, 'somewhere': 1923, 'desk': 1924, 'coo': 1925, 'damned': 1926, 'awesomeness': 1927, 'ahhhh': 1928, 'rite': 1929, 'hat': 1930, 'club': 1931, 'gim': 1932, 'company': 1933, 'result': 1934, 'subject': 1935, 'line': 1936, 'texts': 1937, 'tongue': 1938, 'along': 1939, 'teeth': 1940, 'awe': 1941, 'french': 1942, 'toast': 1943, 'sticks': 1944, 'guy': 1945, 'grade': 1946, '9am': 1947, 'ups': 1948, 'shake': 1949, 'haven': 1950, '40': 1951, 'freezing': 1952, 'wherever': 1953, 'endure': 1954, 'point': 1955, 'ty': 1956, 'quashed': 1957, 'movies': 1958, 'united': 1959, 'kingdom': 1960, 'breaking': 1961, 'dawn': 1962, 'lovingly': 1963, 'showed': 1964, 'sushi': 1965, 'mix': 1966, 'pups': 1967, 'parents': 1968, 'feels': 1969, 'private': 1970, 'lettin': 1971, 'drove': 1972, 'asses': 1973, 'chandler': 1974, 'film': 1975, 'women': 1976, 'films': 1977, 'middle': 1978, 'messy': 1979, 'george': 1980, 'however': 1981, 'advice': 1982, 'wrong': 1983, 'whats': 1984, 'controversial': 1985, 'spend': 1986, 'west': 1987, 'ard': 1988, 'puts': 1989, 'refuses': 1990, 'beyond': 1991, 'cheap': 1992, 'grill': 1993, 'bbq': 1994, 'laugh': 1995, 'giggle': 1996, 'chicken': 1997, 'pizza': 1998, 'deep': 1999, 'dish': 2000, 'hear': 2001, 'ish': 2002, 'heavy': 2003, 'needed': 2004, 'dash': 2005, 'spirits': 2006, 'iced': 2007, 'latte': 2008, 'mr': 2009, 'seasons': 2010, 'noticed': 2011, 'previous': 2012, 'sis': 2013, 'sauce': 2014, 'que': 2015, 'msn': 2016, 'camping': 2017, 'fishing': 2018, 'together': 2019, 'wed': 2020, 'trip': 2021, 'lake': 2022, 'race': 2023, 'camp': 2024, 'total': 2025, 'option': 2026, 'spamming': 2027, 'followfriday': 2028, 'pull': 2029, 'weeds': 2030, 'sight': 2031, 'praying': 2032, 'humble': 2033, 'dangerous': 2034, 'bonjour': 2035, 'twitterland': 2036, 'crying': 2037, 'insane': 2038, 'byebye': 2039, 'blocks': 2040, 'hockey': 2041, 'rich': 2042, 'overcast': 2043, 'xmen': 2044, 'orange': 2045, 'pulp': 2046, 'pigs': 2047, 'risking': 2048, 'development': 2049, 'flying': 2050, 'pig': 2051, 'awesomely': 2052, 'wool': 2053, 'reboot': 2054, 'hibernate': 2055, 'bootcamp': 2056, 'dryer': 2057, 'electric': 2058, 'gas': 2059, 'grrr': 2060, 'load': 2061, 'return': 2062, 'justice': 2063, 'talent': 2064, 'voted': 2065, 'ad': 2066, 'plates': 2067, 'bird': 2068, 'hoo': 2069, 'gun': 2070, 'ab': 2071, 'circle': 2072, 'anddd': 2073, 'box': 2074, 'f': 2075, 'enthusiastic': 2076, 'hold': 2077, 'changed': 2078, 'hands': 2079, 'tool': 2080, 'nerd': 2081, 'no1': 2082, 'followin': 2083, 'sum1': 2084, 'deleted': 2085, 'due': 2086, 'activities': 2087, 'gardening': 2088, 'dragged': 2089, 'argue': 2090, 'complain': 2091, 'drugs': 2092, 'patient': 2093, 'fans': 2094, 'costume': 2095, 'mental': 2096, 'rotten': 2097, 'fam': 2098, 'sweetheart': 2099, 'niggas': 2100, 'talkin': 2101, 'da': 2102, 'ey': 2103, 'video': 2104, 'vid': 2105, 'mo': 2106, 'monday': 2107, 'opinion': 2108, 'headed': 2109, 'complete': 2110, 'books': 2111, 'arrived': 2112, 'entertaining': 2113, 'nights': 2114, 'dvd': 2115, 'per': 2116, 'lovelovelove': 2117, 'message': 2118, 'finishing': 2119, 'vh1': 2120, 'soul': 2121, 'water': 2122, 'difficult': 2123, 'donate': 2124, 'ahhhhh': 2125, 'methinks': 2126, 'doll': 2127, 'quotes': 2128, 'physics': 2129, 'rude': 2130, 'awful': 2131, 'props': 2132, 'awfully': 2133, 'nooo': 2134, 'developing': 2135, 'small': 2136, 'heehee': 2137, 'second': 2138, 'upset': 2139, 'surgery': 2140, 'recovery': 2141, 'expected': 2142, 'lawn': 2143, 'service': 2144, 'eric': 2145, 'avatar': 2146, 'hitting': 2147, 'interested': 2148, 'piss': 2149, 'flap': 2150, 'treating': 2151, 'cover': 2152, 'mite': 2153, 'bak': 2154, 'rob': 2155, 'boat': 2156, 'yer': 2157, 'hunny': 2158, 'nao': 2159, 'meet': 2160, 'bloggers': 2161, 'tapeworm': 2162, 'snuggle': 2163, 'whack': 2164, 'ruined': 2165, 'jr': 2166, 'four': 2167, 'wh': 2168, 'productive': 2169, 'timing': 2170, 'hence': 2171, 'smiley': 2172, 'hong': 2173, 'shade': 2174, 'kills': 2175, 'worst': 2176, 'sober': 2177, 'journey': 2178, 'sry': 2179, 'hurting': 2180, 'experience': 2181, 'apologies': 2182, 'um': 2183, 'role': 2184, 'model': 2185, 'growing': 2186, 'loading': 2187, 'oops': 2188, 'cause': 2189, 'weekends': 2190, 'cuppa': 2191, 'gooood': 2192, 'hereeeeee': 2193, 'imma': 2194, 'la': 2195, 'florida': 2196, 'misses': 2197, '6th': 2198, 'graders': 2199, 'appreciated': 2200, 'exactly': 2201, 'northern': 2202, 'vacation': 2203, 'follower': 2204, 'dark': 2205, 'makin': 2206, 'during': 2207, 'washed': 2208, 'eye': 2209, 'usb': 2210, 'nothin': 2211, 'verizon': 2212, 'fone': 2213, 'nite': 2214, 'painting': 2215, 'yrs': 2216, 'seem': 2217, 'hoedown': 2218, 'throwdown': 2219, 'piece': 2220, 'gah': 2221, 'satisfied': 2222, '09': 2223, 'ima': 2224, 'finish': 2225, 'client': 2226, 'tech': 2227, 'anybody': 2228, 'vista': 2229, 'sp2': 2230, 'multiple': 2231, 'skins': 2232, 'gt': 2233, 'members': 2234, 'nightmare': 2235, 'hack': 2236, 'redo': 2237, 'woe': 2238, 'soy': 2239, 'milk': 2240, 'cocoa': 2241, 'aswel': 2242, 'properly': 2243, 'shiny': 2244, 'failing': 2245, 'ummm': 2246, 'faith': 2247, 'marathon': 2248, 'crossed': 2249, 'sorta': 2250, 'gave': 2251, 'skin': 2252, 'cancer': 2253, 'overrated': 2254, 'blocked': 2255, 'move': 2256, 'process': 2257, 'motion': 2258, 'frustrated': 2259, 'comfortable': 2260, 'yesh': 2261, 'potato': 2262, 'cos': 2263, 'reality': 2264, 'hosp': 2265, 'rubbish': 2266, 'cardiff': 2267, 'directions': 2268, 'kay': 2269, 'swift': 2270, 'nathan': 2271, 'tour': 2272, 'walking': 2273, 'shopping': 2274, 'meets': 2275, 'entire': 2276, 'breath': 2277, 'decision': 2278, 'brooke': 2279, 'hyper': 2280, 'girly': 2281, 'polar': 2282, 'bears': 2283, 'bust': 2284, 'happ': 2285, 'headaches': 2286, 'situation': 2287, 'decided': 2288, 'meds': 2289, 'prefer': 2290, 'fuzzy': 2291, 'clear': 2292, 'caleb': 2293, 'insurance': 2294, 'tattoo': 2295, 'touch': 2296, 'literally': 2297, 'junk': 2298, 'everr': 2299, 'filipino': 2300, 'fitting': 2301, 'infection': 2302, 'hopefull': 2303, 'accept': 2304, 'industry': 2305, 'ohio': 2306, 'innocent': 2307, 'unfollowed': 2308, 'empire': 2309, 'scary': 2310, 'gadget': 2311, 'easier': 2312, 'lakers': 2313, 'ftw': 2314, 'nick': 2315, 'broken': 2316, 'bgt': 2317, 'soo': 2318, 'wa': 2319, 'creek': 2320, 'ahh': 2321, 'retweet': 2322, 'sync': 2323, 'outlook': 2324, 'san': 2325, 'diego': 2326, 'surf': 2327, 'proud': 2328, 'episode': 2329, 'details': 2330, 'radio': 2331, 'disney': 2332, 'latest': 2333, 'kid': 2334, 'loss': 2335, 'cat': 2336, 'visa': 2337, 'effects': 2338, 'lookin': 2339, 'permanent': 2340, 'et': 2341, 'finger': 2342, 'apparently': 2343, 'dog': 2344, 'green': 2345, 'album': 2346, 'serious': 2347, 'escape': 2348, 'town': 2349, 'mmmm': 2350, 'incredibly': 2351, 'less': 2352, 'mistake': 2353, 'spongebob': 2354, 'sucky': 2355, 'color': 2356, 'sexy': 2357, 'card': 2358, 'gold': 2359, 'yours': 2360, 'hosted': 2361, 'fridge': 2362, 'golden': 2363, 'dress': 2364, 'chai': 2365, 'rained': 2366, 'miami': 2367, 'subway': 2368, 'mmm': 2369, 'sowwie': 2370, 'ti': 2371, 'partied': 2372, 'mornin': 2373, 'stomach': 2374, 'ache': 2375, 'july': 2376, '8th': 2377, 'winning': 2378, 'impatient': 2379, 'waitin': 2380, 'budget': 2381, 'paid': 2382, 'bills': 2383, 'electricity': 2384, 'woot': 2385, '10pm': 2386, 'international': 2387, 'space': 2388, 'station': 2389, 'texas': 2390, 'eat': 2391, 'contemplate': 2392, 'holds': 2393, 'accomplished': 2394, '16': 2395, 'sm': 2396, 'hawaii': 2397, 'front': 2398, 'belinda': 2399, 'bf': 2400, 'glue': 2401, 'anyways': 2402, '17': 2403, 'looong': 2404, 'minimum': 2405, 'requirements': 2406, 'sims': 2407, 'decide': 2408, 'leg': 2409, 'coast': 2410, 'stint': 2411, 'missions': 2412, 'meaning': 2413, 'li': 2414, 'ot': 2415, 'protect': 2416, 'worldwide': 2417, 'birds': 2418, 'upside': 2419, 'lmk': 2420, 'splendid': 2421, 'bump': 2422, 'unable': 2423, 'muster': 2424, 'energy': 2425, 'sundays': 2426, 'essay': 2427, 'written': 2428, 'references': 2429, 'snl': 2430, 'justin': 2431, 'timberlake': 2432, 'dedicated': 2433, 'server': 2434, 'slice': 2435, 'sql': 2436, 'blues': 2437, 'hadn': 2438, 'held': 2439, 'onto': 2440, 'debit': 2441, 'spoilt': 2442, '11': 2443, 'woo': 2444, 'alas': 2445, 'stoked': 2446, 'horse': 2447, 'dollar': 2448, 'practice': 2449, 'er': 2450, 'fairly': 2451, 'whispering': 2452, 'workin': 2453, '150': 2454, 'drag': 2455, 'slammed': 2456, 'trunk': 2457, 'trek': 2458, 'twhirl': 2459, 'tweetdeck': 2460, 'filter': 2461, 'peeps': 2462, 'ii': 2463, 'grr': 2464, 'oooh': 2465, 'aiden': 2466, 'woohoo': 2467, 'bummed': 2468, 'amaze': 2469, 'digital': 2470, 'detox': 2471, 'skint': 2472, 'johnny': 2473, 'invited': 2474, 'stressful': 2475, 'geee': 2476, 'blast': 2477, 'lisa': 2478, 'ahahah': 2479, 'urge': 2480, 'person': 2481, 'blink': 2482, 'general': 2483, 'art': 2484, 'quiz': 2485, 'compensate': 2486, 'toddler': 2487, 'yaaaaaay': 2488, 'depressing': 2489, 'evolution': 2490, 'beats': 2491, 'drinks': 2492, 'jury': 2493, 'duty': 2494, '2009': 2495, 'annoyed': 2496, 'freckles': 2497, 'father': 2498, 'ordered': 2499, 'celebrities': 2500, 'cholesterol': 2501, 'tumors': 2502, 'loaded': 2503, 'salvation': 2504, 'corner': 2505, 'fast': 2506, 'dump': 2507, 'dangggg': 2508, 'romeo': 2509, 'bryant': 2510, 'period': 2511, 'scratchy': 2512, 'co': 2513, 'host': 2514, 'gray': 2515, 'sudden': 2516, 'besties': 2517, 'geez': 2518, 'obvious': 2519, 'suggest': 2520, 'wives': 2521, 'nuts': 2522, 'three': 2523, 'shots': 2524, 'lift': 2525, 'starving': 2526, 'aparently': 2527, 'recover': 2528, 'windows': 2529, 'visible': 2530, 'microsoft': 2531, 'fear': 2532, 'jared': 2533, 'hug': 2534, 'listen': 2535, 'canada': 2536, 'website': 2537, 'tasty': 2538, 'rum': 2539, 'earlier': 2540, 'chosen': 2541, 'child': 2542, 'interviewed': 2543, 'spent': 2544, 'dream': 2545, 'delicious': 2546, 'meal': 2547, 'landed': 2548, 'noises': 2549, 'book': 2550, 'report': 2551, 'added': 2552, 'dyed': 2553, 'blackberry': 2554, 'fantastic': 2555, 'az': 2556, 'taste': 2557, 'otherwise': 2558, 'heh': 2559, 'talks': 2560, 'wee': 2561, 'itt': 2562, 'iz': 2563, 'doggy': 2564, 'uses': 2565, 'browser': 2566, 'copies': 2567, 'song': 2568, 'lack': 2569, 'damp': 2570, 'cba': 2571, 'ohwell': 2572, 'failed': 2573, 'tweeps': 2574, 'jk': 2575, 'ooh': 2576, 'ouch': 2577, 'blisters': 2578, 'perfection': 2579, 'tune': 2580, 'present': 2581, 'wasssup': 2582, 'recognize': 2583, 'gmail': 2584, 'testing': 2585, 'loooong': 2586, '8am': 2587, 'assume': 2588, 'truth': 2589, 'nervous': 2590, 'toll': 2591, 'uncomfortable': 2592, 'ducks': 2593, 'upon': 2594, 'morrissey': 2595, 'brixton': 2596, 'postponed': 2597, 'fwd': 2598, 'slowly': 2599, 'gettin': 2600, 'supernatural': 2601, 'hunt': 2602, '630': 2603, 'tag': 2604, '50': 2605, 'tags': 2606, 'walk': 2607, '7': 2608, 'pages': 2609, 'champs': 2610, 'season': 2611, 'flags': 2612, 'mushroom': 2613, 'bbl': 2614, 'boyfriend': 2615, 'angry': 2616, 'vegan': 2617, 'intense': 2618, 'trending': 2619, 'topics': 2620, 'recorded': 2621, 'tame': 2622, 'hated': 2623, 'words': 2624, 'spending': 2625, 'pals': 2626, 'cruel': 2627, 'sometime': 2628, 'whoa': 2629, 'whores': 2630, 'superman': 2631, 'beside': 2632, 'philippines': 2633, 'lay': 2634, 'todays': 2635, 'bluetooth': 2636, 'brief': 2637, 'cs4': 2638, 'prints': 2639, 'appreciation': 2640, 'script': 2641, 'rly': 2642, 'pro': 2643, 'stable': 2644, 'trent': 2645, 'reznor': 2646, 'title': 2647, 'aliens': 2648, 'craig': 2649, 'rise': 2650, 'clicked': 2651, 'spam': 2652, 'sea': 2653, 'cordova': 2654, 'rez': 2655, 'everyday': 2656, 'freaking': 2657, 'ri': 2658, 'nba': 2659, 'lonely': 2660, 'cherry': 2661, 'italian': 2662, 'heyya': 2663, 'create': 2664, 'sudoku': 2665, 'watchin': 2666, 'hike': 2667, 'knee': 2668, 'ignored': 2669, 'fiona': 2670, '25': 2671, 'screaming': 2672, 'plz': 2673, 'knowing': 2674, 'darn': 2675, 'language': 2676, 'stops': 2677, 'gross': 2678, 'holding': 2679, 'fluffy': 2680, 'towel': 2681, 'dry': 2682, 'self': 2683, 'tummy': 2684, 'london': 2685, 'sense': 2686, 'china': 2687, 'helpful': 2688, 'pan': 2689, 'teach': 2690, 'chinese': 2691, 'pee': 2692, 'kickin': 2693, 'butt': 2694, 'competition': 2695, 'soup': 2696, 'blessed': 2697, 'wisdom': 2698, 'unique': 2699, 'anywho': 2700, 'pug': 2701, 'hopes': 2702, 'played': 2703, 'steak': 2704, 'heyyyyy': 2705, 'drew': 2706, 'mon': 2707, 'helping': 2708, 'nighttt': 2709, 'ily': 2710, 'ugly': 2711, 'bye': 2712, 'ghosts': 2713, 'girlfriends': 2714, 'predictable': 2715, 'damage': 2716, 'disturbance': 2717, 'hilarious': 2718, 'politicians': 2719, 'stories': 2720, 'city': 2721, 'guessing': 2722, 'andy': 2723, 'owner': 2724, '1000': 2725, 'belgian': 2726, 'wifi': 2727, 'blogging': 2728, 'cheer': 2729, 'trailer': 2730, 'removed': 2731, 'lasted': 2732, 'intern': 2733, 'sat': 2734, 'tehe': 2735, '9th': 2736, 'ashamed': 2737, 'california': 2738, 'smells': 2739, 'sincerely': 2740, 'mcfly': 2741, 'parody': 2742, 'chris': 2743, 'ladies': 2744, 'lub': 2745, 'hehe': 2746, 'thnx': 2747, 'neil': 2748, 'essays': 2749, 'important': 2750, 'adem': 2751, 'vcr': 2752, 'stephen': 2753, 'king': 2754, 'sho': 2755, 'reeeally': 2756, 'icant': 2757, 'stand': 2758, 'deserve': 2759, 'step': 2760, 'min': 2761, 'cg': 2762, 'spot': 2763, 'gnight': 2764, 'bugs': 2765, 'liked': 2766, '26': 2767, 'festival': 2768, 'rejected': 2769, 'w00t': 2770, 'proudly': 2771, 'downloaded': 2772, 'eee': 2773, 'pc': 2774, 'settings': 2775, 'kick': 2776, 'above': 2777, 'lorraine': 2778, 'recently': 2779, 'strawberries': 2780, 'icons': 2781, 'revision': 2782, 'cooperating': 2783, 'sittin': 2784, 'appreciate': 2785, 'learned': 2786, 'lesson': 2787, 'neighbor': 2788, 'wknd': 2789, 'gona': 2790, 'steady': 2791, 'income': 2792, 'nine': 2793, 'happier': 2794, 'delays': 2795, 'negative': 2796, 'serve': 2797, 'phuket': 2798, 'thailand': 2799, 'cereal': 2800, '2am': 2801, 'unpleasant': 2802, 'eh': 2803, 'picking': 2804, 'cotton': 2805, 'jealousy': 2806, 'bro': 2807, 'switch': 2808, 'tiring': 2809, 'famous': 2810, 'bill': 2811, 'bailey': 2812, 'discount': 2813, 'code': 2814, 'actual': 2815, 'heartbreak': 2816, 'jeff': 2817, 'hiding': 2818, 'behalf': 2819, 'mod': 2820, 'chad': 2821, 'impressive': 2822, 'correct': 2823, 'laundry': 2824, 'speech': 2825, 'arg': 2826, 'feet': 2827, 'calls': 2828, 'taken': 2829, 'aol': 2830, '96': 2831, 'coincidence': 2832, 'basically': 2833, 'doubled': 2834, 'tis': 2835, 'former': 2836, 'stubborn': 2837, 'sweetie': 2838, 'ohh': 2839, 'yeahh': 2840, 'pr': 2841, 'incredible': 2842, 'omelette': 2843, 'dvds': 2844, 'csi': 2845, 'careful': 2846, 'hiya': 2847, 'hows': 2848, 'tourist': 2849, 'bio': 2850, 'honor': 2851, 'de': 2852, 'montreal': 2853, 'typical': 2854, 'training': 2855, 'dc': 2856, 'paranoid': 2857, 'performed': 2858, 'version': 2859, 'lumberjack': 2860, 'comcast': 2861, 'crappy': 2862, 'par': 2863, 'doctor': 2864, 'appointment': 2865, 'stalking': 2866, 'saynow': 2867, 'yayy': 2868, 'jbs': 2869, 'canadian': 2870, 'killers': 2871, 'remembered': 2872, 'managed': 2873, 'chill': 2874, 'bob': 2875, '18th': 2876, 'miserable': 2877, 'weak': 2878, 'twitterville': 2879, 'enjoyed': 2880, 'pearl': 2881, 'xoxo': 2882, 'possibly': 2883, 'lafayette': 2884, 'nd': 2885, 'updating': 2886, '0': 2887, 'useless': 2888, 'havin': 2889, 'passing': 2890, 'maryland': 2891, 'tight': 2892, 'utter': 2893, 'shite': 2894, 'bee': 2895, 'yahoo': 2896, 'shape': 2897, 'stale': 2898, 'sweets': 2899, 'reminds': 2900, 'classics': 2901, 'wabble': 2902, 'enterprise': 2903, 'mrs': 2904, 'creepy': 2905, 'nto': 2906, 'tweeters': 2907, 'sacramento': 2908, 'continue': 2909, '2008': 2910, 'window': 2911, 'posts': 2912, 'poo': 2913, 'comment': 2914, 'inspired': 2915, 'sa': 2916, 'grab': 2917, 'tip': 2918, 'bi': 2919, 'rf': 2920, 'target': 2921, 'near': 2922, 'tooo': 2923, 'hendrix': 2924, 'seattle': 2925, 'joint': 2926, 'complicated': 2927, 'tank': 2928, 'wolf': 2929, 'meme': 2930, 'fabric': 2931, 'ain': 2932, 'nod': 2933, 'writers': 2934, 'notes': 2935, 'shift': 2936, 'pocket': 2937, 'accident': 2938, 'member': 2939, 'street': 2940, 'soft': 2941, 'centre': 2942, 'sidewalk': 2943, 'harvard': 2944, 'square': 2945, 'hand': 2946, 'keen': 2947, 'forest': 2948, 'opera': 2949, 'wild': 2950, 'herself': 2951, 'vaccines': 2952, 'envy': 2953, 'spoiled': 2954, 'explain': 2955, 'worked': 2956, 'insomnia': 2957, 'finest': 2958, 'chillin': 2959, 'mel': 2960, 'shud': 2961, 'ik': 2962, 'needing': 2963, 'virus': 2964, 'software': 2965, 'daily': 2966, 'chilling': 2967, '10am': 2968, 'focus': 2969, 'weren': 2970, 'venue': 2971, 'fangirl': 2972, 'president': 2973, 'effing': 2974, 'single': 2975, 'million': 2976, 'dollars': 2977, 'mobile': 2978, 'brit': 2979, 'epic': 2980, 'shorts': 2981, 'phones': 2982, 'choice': 2983, 'idiot': 2984, 'sing': 2985, 'regretting': 2986, 'knitting': 2987, 'needles': 2988, 'normally': 2989, 'non': 2990, 'recent': 2991, 'novels': 2992, 'october': 2993, 'buffett': 2994, 'videos': 2995, 'genius': 2996, 'nursing': 2997, 'scratches': 2998, 'mud': 2999, 'swear': 3000, 'dirt': 3001, 'obama': 3002, 'via': 3003, 'mayb': 3004, 'fix': 3005, 'culture': 3006, 'yard': 3007, 'aches': 3008, 'connection': 3009, 'young': 3010, 'ripped': 3011, 'avoiding': 3012, 'sydney': 3013, 'diamond': 3014, 'force': 3015, 'wheres': 3016, 'cobra': 3017, 'starship': 3018, 'suggestion': 3019, 'nvm': 3020, 'mutual': 3021, 'society': 3022, 'neighbours': 3023, 'brought': 3024, 'hudgens': 3025, 'seat': 3026, 'entered': 3027, 'mode': 3028, 'apartment': 3029, 'temporary': 3030, 'jelous': 3031, 'theatre': 3032, '3d': 3033, 'celebrating': 3034, 'itsucks': 3035, 'cam': 3036, 'chillaxing': 3037, 'delete': 3038, 'bands': 3039, 'teenagers': 3040, 'nearly': 3041, 'conversation': 3042, 'domestic': 3043, 'partner': 3044, 'maxim': 3045, 'takes': 3046, 'cancel': 3047, 'backup': 3048, 'planes': 3049, 'follows': 3050, 'saddest': 3051, 'comm': 3052, 'twitters': 3053, 'mammals': 3054, 'produce': 3055, 'series': 3056, 'team': 3057, 'dallas': 3058, 'derby': 3059, 'talented': 3060, 'audition': 3061, 'anna': 3062, 'spray': 3063, 'lady': 3064, 'thankfully': 3065, 'yess': 3066, 'hr': 3067, 'fries': 3068, 'faces': 3069, 'cubs': 3070, 'miller': 3071, 'tonights': 3072, 'prolly': 3073, 'jamba': 3074, 'thirty': 3075, 'shop': 3076, 'awhile': 3077, 'airport': 3078, 'aching': 3079, 'showers': 3080, 'srry': 3081, 'hun': 3082, 'soldiers': 3083, 'tesco': 3084, 'fav': 3085, 'promising': 3086, 'oven': 3087, 'blerg': 3088, 'wooo': 3089, 'nuggets': 3090, 'pj': 3091, 'dayy': 3092, 'relatively': 3093, 'heal': 3094, 'americans': 3095, 'system': 3096, 'cleaned': 3097, 'spammer': 3098, '3rd': 3099, 'nina': 3100, 'reminded': 3101, 'blown': 3102, 'closed': 3103, 'cloudy': 3104, 'wanting': 3105, 'sunburnt': 3106, 'frustrating': 3107, 'bruised': 3108, 'grounded': 3109, 'truly': 3110, 'besides': 3111, 'themselves': 3112, 'each': 3113, 'shell': 3114, 'scrub': 3115, 'showering': 3116, 'en': 3117, 'michael': 3118, 'jackson': 3119, 'chillen': 3120, 'madison': 3121, 'abit': 3122, 'ashleigh': 3123, 'soonish': 3124, 'toss': 3125, 'tom': 3126, 'rocks': 3127, 'socks': 3128, 'careless': 3129, 'chip': 3130, 'whew': 3131, 'rc': 3132, 'sounding': 3133, 'action': 3134, 'age': 3135, 'questions': 3136, 'logic': 3137, 'x3': 3138, 'horribly': 3139, 'drained': 3140, 'angle': 3141, 'marley': 3142, 'unless': 3143, 'hd': 3144, 'political': 3145, 'throw': 3146, 'knocked': 3147, 'abt': 3148, 'begun': 3149, 'students': 3150, 'union': 3151, 'truck': 3152, 'treats': 3153, 'demons': 3154, 'mostly': 3155, 'deck': 3156, 'confused': 3157, 'crispy': 3158, 'waffles': 3159, 'twitterena': 3160, 'thomas': 3161, 'gunna': 3162, 'torta': 3163, 'los': 3164, 'weigh': 3165, 'miserably': 3166, 'pack': 3167, 'relay': 3168, 'possible': 3169, 'earned': 3170, 'erin': 3171, 'bug': 3172, 'colorado': 3173, 'hello': 3174, 'ca': 3175, 'asking': 3176, 'breathing': 3177, 'tgif': 3178, 'used': 3179, 'sam': 3180, 'numb': 3181, 'loner': 3182, 'speaks': 3183, 'bliss': 3184, 'adventure': 3185, 'treatment': 3186, 'yoga': 3187, 'healthy': 3188, 'warped': 3189, 'mag': 3190, 'fest': 3191, 'jelly': 3192, 'fond': 3193, 'memories': 3194, 'kittens': 3195, 'balloon': 3196, 'txt': 3197, 'joys': 3198, 'dmv': 3199, 'stood': 3200, 'heels': 3201, 'twittered': 3202, 'ring': 3203, 'ashleighhh': 3204, 'cruise': 3205, 'wayne': 3206, 'triste': 3207, 'screw': 3208, 'booked': 3209, 'price': 3210, 'lo': 3211, 'legend': 3212, '31': 3213, 'medicine': 3214, 'joe': 3215, '1am': 3216, 'curious': 3217, 'cab': 3218, 'brave': 3219, 'match': 3220, 'cyrus': 3221, 'ach': 3222, 'ly': 3223, 'planting': 3224, 'photoshop': 3225, 'auto': 3226, 'suv': 3227, 'https': 3228, 'effort': 3229, 'loveee': 3230, 'rat': 3231, 'mirrors': 3232, 'management': 3233, 'refreshing': 3234, 'entering': 3235, 'keyboard': 3236, 'whiskey': 3237, 'bots': 3238, 'retweets': 3239, 'sign': 3240, 'local': 3241, 'tommorow': 3242, 'collect': 3243, 'gurl': 3244, 'greet': 3245, 'swimming': 3246, 'tanning': 3247, 'slower': 3248, 'replying': 3249, 'bb': 3250, 'yourself': 3251, 'pancakes': 3252, 'bette': 3253, 'bride': 3254, 'rockin': 3255, 'reception': 3256, 'button': 3257, 'yumm': 3258, 'fed': 3259, 'goodness': 3260, 'pinch': 3261, 'roast': 3262, 'wednesday': 3263, 'rehearsal': 3264, 'cheesecake': 3265, 'sic': 3266, 'planned': 3267, 'sub': 3268, 'ross': 3269, 'laurie': 3270, 'folks': 3271, 'nephew': 3272, 'twilight': 3273, 'saddened': 3274, 'imagine': 3275, 'cinema': 3276, 'layout': 3277, 'default': 3278, 'plurk': 3279, 'themes': 3280, 'pero': 3281, 'ko': 3282, 'font': 3283, 'giant': 3284, 'wet': 3285, 'nose': 3286, 'ny': 3287, 'oct': 3288, '2010': 3289, 'agreed': 3290, 'animal': 3291, 'tnx': 3292, 'immediately': 3293, 'paying': 3294, 'nowhere': 3295, 'jobs': 3296, 'heartbroken': 3297, 'chapter': 3298, 'kiyosaki': 3299, 'cleaner': 3300, 'confusing': 3301, 'e3': 3302, 'g4': 3303, 'basic': 3304, 'premium': 3305, 'survive': 3306, '8': 3307, 'j': 3308, 'hopin': 3309, 'belong': 3310, 'appt': 3311, '4pm': 3312, 'powerful': 3313, 'tackle': 3314, 'ng': 3315, 'appropriate': 3316, 'concur': 3317, 'clouds': 3318, 'reborn': 3319, 'takers': 3320, 'block': 3321, 'hiii': 3322, 'meditate': 3323, 'effective': 3324, 'burning': 3325, 'honour': 3326, 'starwarsday': 3327, 'fired': 3328, 'player': 3329, 'glory': 3330, 'salt': 3331, 'vinegar': 3332, 'waaa': 3333, 'pfff': 3334, 'sucksss': 3335, 'myrtle': 3336, 'sc': 3337, '45': 3338, 'salute': 3339, 'al': 3340, 'mashed': 3341, 'potatoes': 3342, 'rub': 3343, 'moi': 3344, 'smashed': 3345, 'wgn': 3346, 'calm': 3347, 'dope': 3348, 'ilove': 3349, 'program': 3350, '90': 3351, 'goodluck': 3352, 'stole': 3353, 'offf': 3354, 'yu': 3355, 'lives': 3356, 'roots': 3357, 'syndrome': 3358, 'overheating': 3359, 'hacked': 3360, 'seemed': 3361, 'suspicious': 3362, 'britney': 3363, 'bff': 3364, 'theme': 3365, 'fortunately': 3366, 'learning': 3367, 'originally': 3368, 'including': 3369, 'south': 3370, 'beginning': 3371, 'profile': 3372, 'grand': 3373, 'washer': 3374, 'se': 3375, 'mami': 3376, 'fancy': 3377, 'gg': 3378, 'screwing': 3379, 'lovee': 3380, 'grandpa': 3381, 'imo': 3382, 'trade': 3383, 'livin': 3384, 'nightshift': 3385, 'creating': 3386, 'jewelry': 3387, 'walks': 3388, 'magnificent': 3389, 'restrictions': 3390, 'mikey': 3391, 'thin': 3392, 'cheese': 3393, 'olives': 3394, 'storms': 3395, 'hoodie': 3396, 'showin': 3397, 'greg': 3398, 'directing': 3399, 'esp': 3400, 'daylight': 3401, 'moan': 3402, 'standing': 3403, 'slight': 3404, 'rarely': 3405, 'log': 3406, 'heated': 3407, 'misss': 3408, 'loser': 3409, 'everyoneeeee': 3410, 'handsome': 3411, 'twitts': 3412, 'mines': 3413, 'shot': 3414, 'editing': 3415, 'currently': 3416, 'trash': 3417, 'dreamt': 3418, 'monsters': 3419, '24hrs': 3420, 'snap': 3421, 'afterwards': 3422, 'cringe': 3423, 'blahh': 3424, 'kiddies': 3425, 'bestie': 3426, 'sites': 3427, 'contact': 3428, 'nicky': 3429, 'mates': 3430, 'fails': 3431, 'voting': 3432, 'chips': 3433, 'din': 3434, 'instant': 3435, 'launch': 3436, 'hiking': 3437, 'trekking': 3438, 'rainy': 3439, 'figuring': 3440, 'adsense': 3441, 'indian': 3442, 'govt': 3443, 'publishers': 3444, 'shadow': 3445, 'realistic': 3446, 'tennessee': 3447, 'singing': 3448, 'ashley': 3449, 'scream': 3450, 'chunky': 3451, 'beef': 3452, 'impression': 3453, 'considerably': 3454, 'slightly': 3455, 'disturbed': 3456, 'hotness': 3457, 'older': 3458, 'download': 3459, 'suggestions': 3460, 'states': 3461, 'dun': 3462, 'urs': 3463, 'county': 3464, '14': 3465, 'definately': 3466, 'te': 3467, 'fake': 3468, 'upcoming': 3469, 'election': 3470, 'twice': 3471, 'documents': 3472, 'expenses': 3473, 'grub': 3474, 'surprising': 3475, 'injured': 3476, 'wooooo': 3477, 'twitterberry': 3478, 'revise': 3479, 'berry': 3480, 'rabbit': 3481, 'younger': 3482, 'lauren': 3483, 'hills': 3484, 'pass': 3485, 'idiots': 3486, 'refresh': 3487, 'laying': 3488, 'fox': 3489, 'options': 3490, 'leaves': 3491, 'september': 3492, 'repeat': 3493, 'actress': 3494, 'poked': 3495, 'nemo': 3496, 'yo': 3497, 'loveeeee': 3498, 'youu': 3499, 'humor': 3500, '2nd': 3501, 'qld': 3502, 'teaching': 3503, 'baseball': 3504, 'plain': 3505, 'impressed': 3506, 'position': 3507, 'toys': 3508, 'prototype': 3509, 'pat': 3510, 'kenny': 3511, 'focused': 3512, 'barack': 3513, 'votes': 3514, 'whip': 3515, 'released': 3516, 'europe': 3517, 'sac': 3518, 'overtime': 3519, 'dig': 3520, 'wwe': 3521, 'wrestler': 3522, 'cousin': 3523, 'daaay': 3524, 'solution': 3525, 'involving': 3526, 'tape': 3527, 'rome': 3528, 'tricky': 3529, 'drives': 3530, 'wireless': 3531, 'farm': 3532, 'guessed': 3533, 'luke': 3534, 'pets': 3535, 'church': 3536, 'mall': 3537, 'backpack': 3538, 'fit': 3539, 'married': 3540, 'playin': 3541, 'lovey': 3542, 'printer': 3543, 'stuffed': 3544, 'twiiter': 3545, 'erm': 3546, 'fountain': 3547, 'keeping': 3548, 'regular': 3549, 'coke': 3550, 'unfortunate': 3551, 'reminding': 3552, 'strategic': 3553, 'maps': 3554, 'deliver': 3555, 'value': 3556, 'texting': 3557, 'holly': 3558, 'parties': 3559, 'quit': 3560, 'attend': 3561, 'martini': 3562, 'glasses': 3563, 'road': 3564, 'taipei': 3565, 'dreamwidth': 3566, 'vs': 3567, 'twits': 3568, 'hamilton': 3569, 'prom': 3570, 'playlist': 3571, 'melbourne': 3572, 'jb': 3573, 'hardly': 3574, 'martin': 3575, 'ski': 3576, 'blind': 3577, 'degree': 3578, 'bs': 3579, 'article': 3580, 'ip': 3581, 'necessary': 3582, 'teams': 3583, 'missin': 3584, 'headin': 3585, '7am': 3586, 'lah': 3587, 'bleh': 3588, 'obsessed': 3589, 'christian': 3590, 'artists': 3591, 'sympathy': 3592, 'nest': 3593, 'bud': 3594, 'bg': 3595, 'trust': 3596, 'pepsi': 3597, 'pepper': 3598, 'error': 3599, 'correction': 3600, 'shining': 3601, 'password': 3602, 'login': 3603, 'pw': 3604, 'boooooooo': 3605, 'exited': 3606, 'concern': 3607, 'luckily': 3608, 'versions': 3609, 'newcastle': 3610, 'aidan': 3611, 'chu': 3612, 'indiana': 3613, 'katie': 3614, 'sayin': 3615, 'scratch': 3616, 'chest': 3617, 'lies': 3618, 'breast': 3619, 'hah': 3620, 'death': 3621, 'evil': 3622, 'gaining': 3623, 'losing': 3624, 'brings': 3625, 'island': 3626, 'staring': 3627, 'joan': 3628, 'estate': 3629, 'input': 3630, 'mic': 3631, 'qualifying': 3632, 'hole': 3633, 'regions': 3634, 'overdue': 3635, 'argentina': 3636, 'obviously': 3637, 'female': 3638, 'ang': 3639, 'tragic': 3640, 'sob': 3641, 'holla': 3642, 'insanely': 3643, 'mis': 3644, 'ss': 3645, 'buddies': 3646, 'cracking': 3647, 'league': 3648, 'apps': 3649, 'iam': 3650, 'brittany': 3651, 'grad': 3652, 'probobly': 3653, 'yelled': 3654, 'lighter': 3655, 'amy': 3656, 'marvelous': 3657, 'crushed': 3658, 'dye': 3659, 'bleach': 3660, 'topic': 3661, 'alison': 3662, 'perhaps': 3663, 'clients': 3664, 'heads': 3665, 'saga': 3666, 'charm': 3667, 'giving': 3668, 'visit': 3669, 'ooops': 3670, 'children': 3671, 'devastated': 3672, '3wordsaftersex': 3673, 'ow': 3674, 'rug': 3675, 'burns': 3676, 'ends': 3677, 'cycling': 3678, 'puppy': 3679, 'results': 3680, 'feed': 3681, 'law': 3682, 'strong': 3683, 'collection': 3684, 'rip': 3685, '2nite': 3686, '2b': 3687, 'bath': 3688, 'anne': 3689, 'surely': 3690, 'racket': 3691, 'stairs': 3692, 'several': 3693, 'bones': 3694, 'quick': 3695, 'entertained': 3696, 'pork': 3697, 'inability': 3698, 'sales': 3699, 'beans': 3700, 'disapointed': 3701, 'driver': 3702, 'handy': 3703, 'lie': 3704, 'cow': 3705, 'gf': 3706, 'male': 3707, 'nurse': 3708, 'wave': 3709, 'trend': 3710, 'higher': 3711, 'bing': 3712, 'impossible': 3713, 'task': 3714, 'prank': 3715, 'alive': 3716, 'comic': 3717, 'phenomenon': 3718, 'finals': 3719, 'theres': 3720, 'britains': 3721, 'shouts': 3722, 'heaps': 3723, 'edinburgh': 3724, 'biased': 3725, 'india': 3726, 'micro': 3727, 'lab': 3728, 'individual': 3729, 'bacteria': 3730, 'teehee': 3731, 'halo': 3732, 'brazil': 3733, 'rents': 3734, 'delivered': 3735, 'earphones': 3736, 'shocked': 3737, 'liking': 3738, 'noise': 3739, 'table': 3740, 'blonde': 3741, 'rubbing': 3742, 'field': 3743, 'order': 3744, 'dat': 3745, 'ova': 3746, 'excellent': 3747, 'release': 3748, 'confirmed': 3749, 'exhausted': 3750, 'dissapointed': 3751, 'ja': 3752, 'personally': 3753, 'mans': 3754, 'brain': 3755, 'blank': 3756, 'willing': 3757, 'met': 3758, 'clubbing': 3759, 'problems': 3760, 'depress': 3761, 'current': 3762, 'wallet': 3763, 'tupac': 3764, 'mountain': 3765, 'dew': 3766, 'throwback': 3767, 'bottles': 3768, 'nap': 3769, 'sunniest': 3770, 'ages': 3771, 'refuse': 3772, 'master': 3773, 'happiness': 3774, 'bubble': 3775, 'cambodian': 3776, 'changs': 3777, 'trains': 3778, 'superstar': 3779, 'knooow': 3780, 'sail': 3781, 'atl': 3782, 'ikea': 3783, 'cancelled': 3784, 'ebay': 3785, 'mile': 3786, 'rule': 3787, 'leather': 3788, 'trousers': 3789, 'hostage': 3790, 'h1n1': 3791, 'knox': 3792, 'ky': 3793, 'panic': 3794, 'somewhat': 3795, 'future': 3796, 'warmed': 3797, 'discuss': 3798, 'seconds': 3799, 'linux': 3800, 'bore': 3801, 'es': 3802, 'omfg': 3803, 'elses': 3804, 'locked': 3805, 'silence': 3806, 'sorrry': 3807, '2moro': 3808, 'letters': 3809, 'nfg': 3810, 'schedule': 3811, 'pokes': 3812, 'gm': 3813, 'tax': 3814, 'wise': 3815, 'simply': 3816, 'ra': 3817, '5th': 3818, 'drums': 3819, 'peoples': 3820, 'sets': 3821, 'safely': 3822, 'attics': 3823, 'logo': 3824, 'brown': 3825, 'sink': 3826, 'photography': 3827, 'exhibition': 3828, 'argh': 3829, 'any1': 3830, 'lying': 3831, 'cus': 3832, 'relax': 3833, 'moore': 3834, 'lungs': 3835, '3am': 3836, 'shoulder': 3837, 'pumps': 3838, 'dumb': 3839, 'pin': 3840, 'mexican': 3841, 'bowling': 3842, 'blame': 3843, 'prove': 3844, 'himself': 3845, 'turtle': 3846, 'fishes': 3847, 'cud': 3848, 'mock': 3849, 'glasgow': 3850, 'seats': 3851, 'doc': 3852, '23': 3853, 'happening': 3854, 'kicked': 3855, 'bunny': 3856, 'diversity': 3857, 'todayyyyyy': 3858, 'compare': 3859, 'alarm': 3860, 'scheduled': 3861, 'cough': 3862, 'leavin': 3863, 'ye': 3864, 'dem': 3865, 'tryed': 3866, 'imax': 3867, 'allow': 3868, 'robin': 3869, 'aight': 3870, 'pissing': 3871, 'makeup': 3872, 'gud': 3873, 'lili': 3874, 'homie': 3875, '75': 3876, 'exact': 3877, 'babies': 3878, 'heap': 3879, 'tu': 3880, 'sack': 3881, 'tracks': 3882, 'popularity': 3883, 'contest': 3884, 'eight': 3885, 'junior': 3886, 'whoops': 3887, 'entertainment': 3888, 'ultra': 3889, 'firmware': 3890, 'installed': 3891, '48': 3892, 'gloom': 3893, '333': 3894, 'ev': 3895, 'malaysian': 3896, 'useful': 3897, 'forgetting': 3898, 'desktop': 3899, 'twitterific': 3900, 'terrific': 3901, '2day': 3902, 'unpaid': 3903, 'taxi': 3904, 'cashier': 3905, 'hulu': 3906, 'el': 3907, 'nkotb': 3908, 'bag': 3909, 'coolest': 3910, 'setting': 3911, 'scroll': 3912, 'bottom': 3913, 'twitterfon': 3914, 'jesus': 3915, 'christ': 3916, 'prayers': 3917, 'pub': 3918, 'invitation': 3919, 'madness': 3920, 'chef': 3921, 'ending': 3922, 'recovering': 3923, 'francisco': 3924, 'social': 3925, 'discovery': 3926, 'downside': 3927, 'thread': 3928, 'wo': 3929, 'ego': 3930, 'pjs': 3931, 'continually': 3932, 'knocking': 3933, 'crashed': 3934, 'rb': 3935, 'sesh': 3936, 'stayed': 3937, 'hon': 3938, 'rules': 3939, 'colleague': 3940, 'dms': 3941, 'pix': 3942, 'musical': 3943, 'actor': 3944, 'recommend': 3945, 'flats': 3946, 'niece': 3947, 'planted': 3948, '400': 3949, 'bumped': 3950, 'domain': 3951, 'award': 3952, 'funniest': 3953, 'converter': 3954, 'ed': 3955, 'lm': 3956, 'shes': 3957, 'spain': 3958, 'tbh': 3959, 'lap': 3960, 'eve': 3961, 'vaca': 3962, 'closing': 3963, 'eek': 3964, 'smiles': 3965, 'blanket': 3966, 'shed': 3967, 'skirt': 3968, 'thankful': 3969, 'lyrics': 3970, 'research': 3971, 'edmonton': 3972, 'podcast': 3973, 'resist': 3974, 'terminal': 3975, 'thier': 3976, 'roses': 3977, 'offering': 3978, 'yuk': 3979, 'blue': 3980, 'dizzy': 3981, 'five': 3982, 'noodles': 3983, 'fried': 3984, 'wouldn': 3985, 'gossip': 3986, 'fiasco': 3987, 'include': 3988, 'sadness': 3989, 'intended': 3990, 'context': 3991, 'barely': 3992, 'ughhhh': 3993, 'east': 3994, 'wrapped': 3995, 'midterms': 3996, '7th': 3997, 'cutie': 3998, 'bracelet': 3999, 'stranger': 4000, 'admitting': 4001, 'niley': 4002, 'kiss': 4003, 'amazes': 4004, 'wales': 4005, 'regarding': 4006, 'mastered': 4007, 'technique': 4008, 'byeeeee': 4009, 'dilemma': 4010, 'sanfran': 4011, 'foggy': 4012, '58': 4013, 'wheels': 4014, 'tends': 4015, 'revising': 4016, 'costa': 4017, 'mark': 4018, 'muffins': 4019, 'neat': 4020, 'stress': 4021, 'supporting': 4022, 'smoking': 4023, 'lung': 4024, 'unlucky': 4025, 'dogs': 4026, 'meeeee': 4027, 'celebrity': 4028, 'handle': 4029, 'demi': 4030, 'coz': 4031, 'raimi': 4032, 'faster': 4033, 'slave': 4034, 'sleepover': 4035, 'wine': 4036, 'query': 4037, 'raise': 4038, 'trips': 4039, 'twit': 4040, 'fridays': 4041, 'banking': 4042, 'floor': 4043, 'twpp': 4044, 'bagel': 4045, '27th': 4046, 'starwars': 4047, 'paul': 4048, 'eventful': 4049, 'wrote': 4050, 'surprise': 4051, 'lower': 4052, 'odd': 4053, 'expecting': 4054, 'broadway': 4055, 'advanced': 4056, 'grow': 4057, 'woman': 4058, 'relaxin': 4059, 'cent': 4060, 'william': 4061, 'toes': 4062, 'refreshed': 4063, 'forgive': 4064, 'aware': 4065, 'yesss': 4066, 'background': 4067, 'construction': 4068, 'downtown': 4069, 'pink': 4070, 'yeh': 4071, 'resting': 4072, 'stressed': 4073, 'magazine': 4074, 'harddrive': 4075, 'image': 4076, 'database': 4077, 'term': 4078, 'paper': 4079, 'chit': 4080, 'chatting': 4081, 'projects': 4082, 'warren': 4083, 'crawl': 4084, 'exist': 4085, 'begins': 4086, 'economy': 4087, 'response': 4088, 'appeal': 4089, 'ahead': 4090, 'barry': 4091, 'worrying': 4092, 'va': 4093, 'struggling': 4094, 'mummy': 4095, 'todd': 4096, 'pasta': 4097, 'juss': 4098, 'thus': 4099, 'virtual': 4100, 'worlds': 4101, 'nova': 4102, 'tn': 4103, 'ughhh': 4104, 'rope': 4105, 'effect': 4106, 'burnt': 4107, 'plane': 4108, 'alot': 4109, 'ultimate': 4110, 'event': 4111, 'ignore': 4112, 'prosper': 4113, 'techno': 4114, 'shuffle': 4115, 'loud': 4116, '800': 4117, 'suicide': 4118, 'boredom': 4119, 'closeness': 4120, 'distance': 4121, 'distant': 4122, 'loft': 4123, 'traumatized': 4124, 'stealth': 4125, 'skillz': 4126, 'rear': 4127, 'yew': 4128, 'shoutout': 4129, 'dubai': 4130, 'settle': 4131, 'dance': 4132, 'berlin': 4133, 'arrival': 4134, 'haircut': 4135, 'ciao': 4136, 'blow': 4137, 'soz': 4138, 'geography': 4139, 'laodicean': 4140, 'kavya': 4141, 'spelling': 4142, 'crown': 4143, 'hol': 4144, 'nooooooo': 4145, 'retiring': 4146, 'kidney': 4147, '35': 4148, 'boxing': 4149, 'hollywood': 4150, 'quizzes': 4151, 'grocery': 4152, 'stinks': 4153, 'wot': 4154, 'morn': 4155, 'travesty': 4156, 'numbers': 4157, 'dated': 4158, 'v': 4159, 'building': 4160, 'eww': 4161, 'dislike': 4162, 'ing': 4163, 'thousand': 4164, 'surviving': 4165, 'annoy': 4166, 'straighten': 4167, 'decent': 4168, '67': 4169, 'complaints': 4170, 'across': 4171, 'package': 4172, 'asus': 4173, 'sings': 4174, 'dodger': 4175, 'games': 4176, 'chica': 4177, 'holy': 4178, 'naw': 4179, 'grilled': 4180, 'gnite': 4181, 'twitties': 4182, 'hayfever': 4183, 'womp': 4184, 'nails': 4185, 'joyfull': 4186, 'nico': 4187, 'cnt': 4188, 'plants': 4189, 'shooting': 4190, 'daisy': 4191, 'shy': 4192, 'ac': 4193, 'repair': 4194, 'bright': 4195, 'cartoons': 4196, 'land': 4197, 'def': 4198, 'plug': 4199, 'stretch': 4200, 'nightly': 4201, 'scan': 4202, 'graduated': 4203, 'someday': 4204, 'disgusted': 4205, 'baron': 4206, 'cuuuute': 4207, 'fella': 4208, 'watered': 4209, 'pumped': 4210, '06': 4211, 'howard': 4212, 'happens': 4213, 'obsession': 4214, 'bleed': 4215, 'woops': 4216, 'personality': 4217, 'gots': 4218, 'customer': 4219, 'attack': 4220, '4d': 4221, 'ttyl': 4222, 'haters': 4223, 'seventeen': 4224, 'trampoline': 4225, 'kimba': 4226, 'certain': 4227, 'groups': 4228, 'korea': 4229, 'dnt': 4230, 'knw': 4231, 'drama': 4232, 'babes': 4233, 'fields': 4234, 'sim': 4235, 'transfer': 4236, 'core': 4237, 'youre': 4238, 'yday': 4239, '5pm': 4240, 'anita': 4241, 'tree': 4242, 'athens': 4243, 'utterly': 4244, 'wi': 4245, 'skype': 4246, 'beating': 4247, 'row': 4248, 'corrupted': 4249, 'cap': 4250, 'hip': 4251, 'hop': 4252, 'ww': 4253, 'treadmill': 4254, 'install': 4255, 'schools': 4256, 'kevin': 4257, 'stat': 4258, 'fyi': 4259, 'riot': 4260, 'veggie': 4261, 'burgers': 4262, 'disagree': 4263, 'beast': 4264, 'beyonce': 4265, 'nicole': 4266, 'geek': 4267, 'boiling': 4268, 'youuu': 4269, 'vancity': 4270, 'shizz': 4271, 'prince': 4272, 'sleeps': 4273, 'routine': 4274, 'jet': 4275, 'lag': 4276, 'thanking': 4277, 'awkward': 4278, 'situations': 4279, 'satellite': 4280, 'winds': 4281, 'blew': 4282, 'aunts': 4283, 'cart': 4284, 'si': 4285, 'struggle': 4286, 'drake': 4287, 'impersonal': 4288, 'mcdonald': 4289, 'cheetos': 4290, 'wizard': 4291, 'spinach': 4292, 'dip': 4293, 'hotel': 4294, 'bebo': 4295, 'click': 4296, 'timeline': 4297, 'alllll': 4298, 'sony': 4299, 'sweetest': 4300, 'familiar': 4301, 'project': 4302, 'fill': 4303, 'elsewhere': 4304, 'intentionally': 4305, 'rogers': 4306, 'state': 4307, 'parks': 4308, 'temp': 4309, 'biting': 4310, 'bali': 4311, 'jt': 4312, 'bsg': 4313, 'weekly': 4314, 'movement': 4315, 'funnn': 4316, 'status': 4317, 'carry': 4318, 'thankyou': 4319, 'stack': 4320, 'gilbert': 4321, 'queens': 4322, 'bklyn': 4323, 'revenge': 4324, 'wings': 4325, 'southend': 4326, 'solo': 4327, 'dey': 4328, 'climb': 4329, 'plays': 4330, 'niceeeee': 4331, 'vacuum': 4332, 'snow': 4333, 'delivery': 4334, 'ui': 4335, 'answers': 4336, 'albums': 4337, 'hog': 4338, 'audience': 4339, 'advance': 4340, 'designers': 4341, 'connected': 4342, 'standards': 4343, 'maths': 4344, 'slices': 4345, 'developed': 4346, 'schedules': 4347, 'exploring': 4348, 'plots': 4349, 'knife': 4350, 'replacing': 4351, 'ken': 4352, 'onion': 4353, 'homeless': 4354, 'named': 4355, 'ruby': 4356, 'sandwich': 4357, 'deed': 4358, 'wht': 4359, 'nonsense': 4360, 'workshop': 4361, 'willy': 4362, 'david': 4363, 'hmmmm': 4364, 'minneapolis': 4365, 'brad': 4366, 'baking': 4367, 'rolls': 4368, 'palm': 4369, 'pre': 4370, 'dies': 4371, 'philosophical': 4372, 'official': 4373, 'atleast': 4374, 'braid': 4375, 'thee': 4376, 'blond': 4377, 'cases': 4378, 'decides': 4379, 'visits': 4380, 'elle': 4381, 'rap': 4382, 'matthew': 4383, 'jungle': 4384, 'mary': 4385, 'poppins': 4386, 'depending': 4387, 'manly': 4388, 'z': 4389, 'everytime': 4390, 'russians': 4391, 'russian': 4392, 'metal': 4393, 'bat': 4394, 'object': 4395, 'xo': 4396, 'emma': 4397, 'learnt': 4398, '2morrow': 4399, 'bangs': 4400, 'gents': 4401, 'disappointment': 4402, 'roof': 4403, 'travis': 4404, 'clark': 4405, 'ppls': 4406, 'bucks': 4407, 'af': 4408, 'freaky': 4409, 'pity': 4410, 'ton': 4411, 'asthma': 4412, 'pastors': 4413, 'chew': 4414, 'kicking': 4415, 'sean': 4416, 'japanese': 4417, 'pride': 4418, 'terminator': 4419, 'susan': 4420, 'ack': 4421, 'wiped': 4422, '18': 4423, 'lines': 4424, 'canterbury': 4425, 'tales': 4426, 'whoop': 4427, 'scene': 4428, '10th': 4429, 'foolish': 4430, 'tuna': 4431, 'dragon': 4432, 'ruled': 4433, 'maxed': 4434, 'drops': 4435, 'stream': 4436, 'hearing': 4437, 'internal': 4438, 'fuse': 4439, 'waves': 4440, 'admit': 4441, 'pointing': 4442, 'aaron': 4443, 'christine': 4444, 'evr': 4445, 'vp': 4446, 'shirts': 4447, 'nt': 4448, 'err': 4449, 'worksheet': 4450, 'science': 4451, 'wb': 4452, 'sniffle': 4453, 'mitch': 4454, 'command': 4455, 'apply': 4456, 'jays': 4457, 'charity': 4458, 'changing': 4459, 'redhead': 4460, 'size': 4461, 'finaly': 4462, 'pen': 4463, 'jam': 4464, 'cleared': 4465, 'wonders': 4466, 'counter': 4467, 'comp': 4468, 'rant': 4469, 'tumblr': 4470, 'gums': 4471, 'ne': 4472, 'design': 4473, 'portfolio': 4474, 'tweaking': 4475, 'cheating': 4476, 'flick': 4477, 'skip': 4478, 'alice': 4479, '200': 4480, 'paint': 4481, 'nobody': 4482, 'archuleta': 4483, 'bother': 4484, 'theory': 4485, 'wikipedia': 4486, 'attacked': 4487, 'smoothly': 4488, 'hubs': 4489, 'bummer': 4490, 'chocolates': 4491, 'mid': 4492, 'section': 4493, 'ds': 4494, 'heyy': 4495, 'necklace': 4496, 'graduate': 4497, 'wah': 4498, 'tscc': 4499, 'pls': 4500, 'shhh': 4501, 'progress': 4502, 'jo': 4503, 'upgrade': 4504, 'stadium': 4505, 'madly': 4506, 'misplaced': 4507, 'indeed': 4508, 'kitties': 4509, '11pm': 4510, 'saddd': 4511, 'relaxed': 4512, 'rested': 4513, 'created': 4514, 'flickr': 4515, 'dreaded': 4516, 'crispies': 4517, '6pm': 4518, 'workplace': 4519, 'upgraded': 4520, 'exceeded': 4521, 'invites': 4522, 'congratulation': 4523, 'gre': 4524, 'ten': 4525, 'homes': 4526, 'hitman': 4527, 'demo': 4528, 'goood': 4529, 'motivated': 4530, 'cheered': 4531, 'given': 4532, 'hehehe': 4533, 'belly': 4534, 'wayyy': 4535, 'charlotte': 4536, 'thrown': 4537, 'wut': 4538, 'closet': 4539, 'ug': 4540, 'belated': 4541, 'lead': 4542, 'uve': 4543, 'posh': 4544, 'installing': 4545, 'commercial': 4546, 'tokyo': 4547, 'violently': 4548, 'confirmation': 4549, 'experiment': 4550, 'relying': 4551, 'greenville': 4552, 'ruth': 4553, 'wonderfu': 4554, 'annual': 4555, 'generation': 4556, 'finding': 4557, 'functioning': 4558, 'shure': 4559, 'bass': 4560, '500': 4561, 'degrees': 4562, 'con': 4563, 'vi': 4564, 'lied': 4565, 'disneyland': 4566, 'reno': 4567, 'storage': 4568, 'romantic': 4569, 'noooooooo': 4570, 'hmph': 4571, 'hp': 4572, 'bums': 4573, 'munch': 4574, 'milan': 4575, 'amber': 4576, 'market': 4577, 'yeahhh': 4578, 'judge': 4579, 'pillow': 4580, 'sugar': 4581, 'quote': 4582, 'charming': 4583, 'guests': 4584, 'dreading': 4585, 'lacey': 4586, 'tail': 4587, 'kazim': 4588, 'max': 4589, 'dealership': 4590, 'utah': 4591, 'van': 4592, 'lov': 4593, 'underwood': 4594, 'sang': 4595, 'kinds': 4596, 'expired': 4597, 'hve': 4598, 'ugg': 4599, 'false': 4600, 'ex': 4601, 'hairstyle': 4602, 'disconnected': 4603, 'loooooong': 4604, 'completed': 4605, 'percent': 4606, 'mommas': 4607, 'intelligent': 4608, '13': 4609, 'sb': 4610, 'flop': 4611, 'q': 4612, 'river': 4613, 'brick': 4614, 'tiff': 4615, 'nature': 4616, 'suckssss': 4617, 'buzz': 4618, 'eu': 4619, 'probs': 4620, 'provider': 4621, 'simon': 4622, 'tweeted': 4623, 'dozen': 4624, 'quilt': 4625, 'source': 4626, 'sp': 4627, 'jenny': 4628, 'tooooo': 4629, 'chem': 4630, 'leigh': 4631, 'mart': 4632, 'suffer': 4633, 'proof': 4634, 'fl': 4635, 'bum': 4636, 'york': 4637, 'crashing': 4638, 'couch': 4639, 'adobe': 4640, 'realise': 4641, 'owl': 4642, 'ties': 4643, 'lovin': 4644, 'awards': 4645, 'tennis': 4646, 'smack': 4647, 'insomniac': 4648, 'chores': 4649, 'yearbook': 4650, 'within': 4651, 'casa': 4652, 'intro': 4653, 'purchase': 4654, 'national': 4655, 'adventures': 4656, 'jamie': 4657, 'tempting': 4658, 'eatin': 4659, 'nachos': 4660, 'oatmeal': 4661, 'sara': 4662, 'aghhh': 4663, 'thrilling': 4664, 'das': 4665, 'dearly': 4666, 'stalker': 4667, 'drank': 4668, 'girlies': 4669, 'suspect': 4670, 'becky': 4671, 'calculator': 4672, 'alaska': 4673, 'windy': 4674, 'dh': 4675, 'handles': 4676, 'newport': 4677, 'academy': 4678, 'liverpool': 4679, 'spring': 4680, 'mcdonalds': 4681, 'browsing': 4682, 'somatic': 4683, 'leopard': 4684, 'unreal': 4685, 'steve': 4686, 'jones': 4687, 'fade': 4688, 'moring': 4689, 'mister': 4690, 'dancing': 4691, 'laker': 4692, 'grease': 4693, 'ham': 4694, 'deli': 4695, 'brighter': 4696, 'g1': 4697, 'massive': 4698, 'successful': 4699, 'dubbed': 4700, 'legit': 4701, 'illegal': 4702, 'scratched': 4703, 'rove': 4704, 'hk': 4705, 'sparkly': 4706, 'chick': 4707, 'overall': 4708, 'showing': 4709, '22': 4710, 'captain': 4711, 'rescheduled': 4712, 'hectic': 4713, 'checking': 4714, 'germany': 4715, 'bu': 4716, 'beauty': 4717, 'extension': 4718, 'jazzy': 4719, 'sumone': 4720, 'twins': 4721, 'france': 4722, 'noe': 4723, 'forgets': 4724, 'excitement': 4725, 'doctors': 4726, 'butter': 4727, 'pune': 4728, 'realy': 4729, 'bothering': 4730, 'sooooooo': 4731, 'laughs': 4732, '300': 4733, '22nd': 4734, 'vmware': 4735, 'fusion': 4736, 'notices': 4737, 'awesom': 4738, 'ironic': 4739, 'lynne': 4740, 'falls': 4741, 'youth': 4742, 'chemistry': 4743, 'oil': 4744, '160': 4745, 'goal': 4746, 'accomplish': 4747, 'seafood': 4748, 'hall': 4749, 'toe': 4750, 'aaah': 4751, 'congratss': 4752, 'strawberry': 4753, 'lemonade': 4754, 'slush': 4755, 'announce': 4756, 'fishy': 4757, 'wrap': 4758, 'awwwh': 4759, 'technical': 4760, 'technician': 4761, 'sumthin': 4762, 'ku': 4763, 'kan': 4764, 'curling': 4765, 'acid': 4766, 'reflux': 4767, 'nicer': 4768, 'burned': 4769, 'ginger': 4770, 'discussions': 4771, 'randomly': 4772, 'lasagna': 4773, 'ht': 4774, 'mb': 4775, 'picnic': 4776, 'spelt': 4777, 'posting': 4778, 'appearance': 4779, 'mia': 4780, 'saved': 4781, 'dining': 4782, 'peru': 4783, 'om': 4784, 'german': 4785, 'particularly': 4786, 'challenging': 4787, 'gps': 4788, 'depot': 4789, 'sweden': 4790, 'british': 4791, 'duh': 4792, 'zoo': 4793, 'fantasy': 4794, 'shock': 4795, 'agh': 4796, 'bear': 4797, 'glorious': 4798, 'success': 4799, 'wasted': 4800, 'dragging': 4801, 'monster': 4802, 'errands': 4803, 'keyboards': 4804, 'spinning': 4805, 'shack': 4806, 'likey': 4807, 'urself': 4808, 'tucking': 4809, 'mogwai': 4810, 'charleston': 4811, 'jj': 4812, 'led': 4813, 'turning': 4814, 'megan': 4815, 'roomies': 4816, 'funn': 4817, 'perry': 4818, 'soundtrack': 4819, 'relaxation': 4820, 'request': 4821, 'bbm': 4822, 'matt': 4823, 'username': 4824, 'politics': 4825, 'clue': 4826, 'coughing': 4827, 'boooooo': 4828, 'melissa': 4829, 'earn': 4830, 'ssd': 4831, 'sec': 4832, 'guide': 4833, 'billy': 4834, 'colin': 4835, 'sell': 4836, 'icecream': 4837, 'abandoned': 4838, 'models': 4839, 'mea': 4840, 'frame': 4841, 'sweating': 4842, 'tat': 4843, 'heck': 4844, 'closes': 4845, 'curve': 4846, 'shields': 4847, 'md': 4848, 'melted': 4849, 'speaker': 4850, 'tend': 4851, 'owe': 4852, 'insanity': 4853, 'fr': 4854, 'edward': 4855, 'cullen': 4856, 'nh': 4857, 'bonus': 4858, 'insulting': 4859, 'pills': 4860, 'wheat': 4861, 'protein': 4862, 'son': 4863, 'tix': 4864, 'deals': 4865, '38': 4866, 'returned': 4867, 'tiny': 4868, 'grape': 4869, 'tattoos': 4870, 'hahahaha': 4871, 'sms': 4872, 'itagg': 4873, 'neuroanatomy': 4874, 'hardcore': 4875, 'penalty': 4876, 'shannon': 4877, 'contain': 4878, 'amazingly': 4879, 'unfair': 4880, 'wreck': 4881, 'parent': 4882, 'jd': 4883, 'hii': 4884, 'tripped': 4885, 'spread': 4886, 'angel': 4887, 'whom': 4888, 'righ': 4889, 'phil': 4890, 'carbon': 4891, 'footprint': 4892, 'session': 4893, 'triumph': 4894, 'events': 4895, 'manage': 4896, 'mimi': 4897, 'rss': 4898, 'snuggled': 4899, 'retarded': 4900, 'anime': 4901, 'assignment': 4902, 'concentrate': 4903, 'unofficially': 4904, 'football': 4905, 'fricken': 4906, 'swedish': 4907, 'mandy': 4908, 'bridge': 4909, 'mistakes': 4910, 'messenger': 4911, 'feedback': 4912, 'replace': 4913, 'brian': 4914, 'avoid': 4915, 'pushing': 4916, 'dudes': 4917, 'jordan': 4918, 'advantage': 4919, 'pathetic': 4920, 'pg': 4921, 'yawn': 4922, '21st': 4923, 'claires': 4924, 'sky': 4925, 'cheering': 4926, 'meanie': 4927, 'teasing': 4928, 'teacher': 4929, 'asian': 4930, 'foot': 4931, 'cl': 4932, 'feelings': 4933, 'killen': 4934, 'blankets': 4935, 'comin': 4936, 'bastos': 4937, 'rains': 4938, 'stil': 4939, 'funeral': 4940, 'lactose': 4941, 'progressive': 4942, 'aweful': 4943, 'hangin': 4944, 'reruns': 4945, 'manager': 4946, 'switched': 4947, 'lang': 4948, 'carmen': 4949, 'tafe': 4950, 'gaming': 4951, 'troubleshooting': 4952, 'control': 4953, 'grea': 4954, 'curse': 4955, 'unavailable': 4956, 'transformers': 4957, 'jackass': 4958, 'opportunity': 4959, 'recipe': 4960, 'shudder': 4961, 'raised': 4962, 'prices': 4963, 'rose': 4964, 'cars': 4965, 'annas': 4966, 'anxious': 4967, 'spicy': 4968, 'mango': 4969, 'sausages': 4970, 'corn': 4971, 'covered': 4972, 'bikes': 4973, 'comeback': 4974, 'ep': 4975, 'receive': 4976, 'officer': 4977, 'jersey': 4978, 'conditions': 4979, 'drivers': 4980, 'wealthy': 4981, 'havnt': 4982, 'chattin': 4983, 'nearest': 4984, 'bites': 4985, 'philly': 4986, 'montanna': 4987, 'cardboard': 4988, 'based': 4989, 'deserved': 4990, 'location': 4991, 'preview': 4992, 'restaurant': 4993, 'reads': 4994, 'whatta': 4995, 'doo': 4996, 'midday': 4997, 'pressure': 4998, 'opted': 4999, 'ballerina': 5000, 'varsity': 5001, 'fanclub': 5002, 'retro': 5003, 'channels': 5004, 'view': 5005, 'kate': 5006, 'microwave': 5007, 'dreaming': 5008, 'bothered': 5009, 'letter': 5010, 'rates': 5011, 'april': 5012, 'repaired': 5013, 'yuck': 5014, 'raw': 5015, 'nat': 5016, 'hundred': 5017, 'plce': 5018, 'letting': 5019, 'category': 5020, 'ruin': 5021, 'thnks': 5022, 'gumbo': 5023, 'according': 5024, 'fitness': 5025, 'hehehehe': 5026, 'looooong': 5027, 'spectacular': 5028, 'security': 5029, 'marc': 5030, 'reach': 5031, 'crawling': 5032, 'den': 5033, 'sneezing': 5034, 'suffering': 5035, 'drowsy': 5036, 'dolls': 5037, 'directly': 5038, 'pal': 5039, 'trapped': 5040, 'pretend': 5041, 'loudly': 5042, 'convince': 5043, 'overjoyed': 5044, 'checkin': 5045, 'pushed': 5046, 'rp': 5047, 'girlfriend': 5048, 'sinking': 5049, 'twitterbugs': 5050, 'flowers': 5051, 'koreans': 5052, 'poems': 5053, 'matters': 5054, 'tells': 5055, 'boston': 5056, 'composition': 5057, 'zombies': 5058, 'damm': 5059, 'chicks': 5060, 'pleasant': 5061, 'sewing': 5062, 'agreement': 5063, 'biggest': 5064, 'names': 5065, 'kc': 5066, 'ou': 5067, 'fuzzball': 5068, 'hardest': 5069, 'hire': 5070, 'ray': 5071, 'delish': 5072, 'achievement': 5073, 'suspended': 5074, 'harder': 5075, 'jacket': 5076, 'apologize': 5077, 'spurs': 5078, 'edit': 5079, 'tryna': 5080, 'surrounded': 5081, 'toda': 5082, 'gigantic': 5083, 'louis': 5084, 'portland': 5085, 'dork': 5086, 'links': 5087, 'borrow': 5088, 'nz': 5089, 'pierced': 5090, 'lip': 5091, '12th': 5092, 'cod': 5093, 'lemon': 5094, 'stage': 5095, 'laughed': 5096, 'cue': 5097, 'cp': 5098, 'endless': 5099, 'flow': 5100, 'velvet': 5101, 'meow': 5102, 'trippin': 5103, 'alike': 5104, 'hottest': 5105, 'creativity': 5106, 'inspirational': 5107, 'hoped': 5108, 'baked': 5109, 'du': 5110, 'jour': 5111, 'ewww': 5112, 'disappoint': 5113, 'barcelona': 5114, 'drummer': 5115, 'walked': 5116, 'sitter': 5117, 'woop': 5118, 'donuts': 5119, 'noes': 5120, 'steph': 5121, 'improve': 5122, 'dutch': 5123, 'tr': 5124, 'amazed': 5125, 'headphones': 5126, 'purpose': 5127, 'dave': 5128, 'challenged': 5129, 'lashes': 5130, 'earliest': 5131, 'trick': 5132, 'ankle': 5133, 'curly': 5134, 'irish': 5135, 'rooms': 5136, 'documentation': 5137, 'saddo': 5138, '29': 5139, 'tmr': 5140, 'distractions': 5141, 'scarred': 5142, 'relative': 5143, 'malibu': 5144, 'north': 5145, 'lit': 5146, 'trees': 5147, 'treasures': 5148, 'plant': 5149, 'toothache': 5150, 'sinus': 5151, 'arriving': 5152, 'babyy': 5153, 'jacks': 5154, 'stats': 5155, 'surfing': 5156, 'offense': 5157, 'rickbaker24': 5158, 'caption': 5159, 'planet': 5160, 'sandwhich': 5161, 'ihate': 5162, 'thankies': 5163, 'scotland': 5164, 'ry': 5165, 'excite': 5166, 'princess': 5167, 'fastest': 5168, 'fashion': 5169, 'le': 5170, 'files': 5171, 'mp3': 5172, 'promised': 5173, 'steel': 5174, 'dexter': 5175, 'spf': 5176, 'burrito': 5177, 'chipotle': 5178, 'snacks': 5179, 'tila': 5180, 'mommies': 5181, 'accidents': 5182, 'visited': 5183, 'icon': 5184, 'hamburger': 5185, 'batman': 5186, 'pd': 5187, 'speeds': 5188, 'audit': 5189, 'matilda': 5190, 'bowl': 5191, 'uncool': 5192, 'heheee': 5193, 'jordie': 5194, 'patrick': 5195, 'hurtin': 5196, 'allergies': 5197, 'thm': 5198, 'apartments': 5199, 'pad': 5200, 'thai': 5201, 'cloud': 5202, 'consider': 5203, 'remove': 5204, 'scratching': 5205, 'wallace': 5206, 'gromit': 5207, 'bbc1': 5208, 'tricked': 5209, 'thousands': 5210, 'monkey': 5211, 'phoenix': 5212, 'hardware': 5213, 'bend': 5214, 'outdated': 5215, 'godawful': 5216, 'defo': 5217, 'jess': 5218, 'mumbai': 5219, 'waikiki': 5220, 'breakie': 5221, 'surprisingly': 5222, 'surprised': 5223, 'br': 5224, 'matrix': 5225, 'performing': 5226, 'laws': 5227, 'therapy': 5228, 'indoors': 5229, 'answered': 5230, 'wks': 5231, 'cutest': 5232, 'brilliant': 5233, 'brownie': 5234, 'dam': 5235, 'celebs': 5236, 'queen': 5237, 'jake': 5238, 'gr8': 5239, '2pm': 5240, 'goat': 5241, 'tommy': 5242, 'umm': 5243, 'prix': 5244, 'bandwagon': 5245, 'drinkin': 5246, 'looove': 5247, 'kong': 5248, 'acting': 5249, 'yayyy': 5250, 'hoe': 5251, 'typing': 5252, 'sucker': 5253, 'freak': 5254, 'smiling': 5255, 'ikr': 5256, 'cheesy': 5257, 'hurrah': 5258, 'central': 5259, 'disco': 5260, 'rid': 5261, 'danger': 5262, 'jesse': 5263, 'cape': 5264, 'nuthin': 5265, 'discouraged': 5266, 'whenever': 5267, 'funnnn': 5268, 'gary': 5269, 'lime': 5270, 'fare': 5271, 'ea': 5272, 'boredddd': 5273, 'gained': 5274, 'predict': 5275, 'score': 5276, 'defending': 5277, 'sticking': 5278, 'tweeples': 5279, 'doubtful': 5280, 'directory': 5281, 'recession': 5282, 'debating': 5283, 'harry': 5284, 'potter': 5285, 'farmer': 5286, 'sentences': 5287, 'locations': 5288, 'uber': 5289, 'sunglasses': 5290, 'rescue': 5291, 'fatty': 5292, 'tw': 5293, 'hella': 5294, 'deeply': 5295, 'key': 5296, 'unloved': 5297, 'compliment': 5298, 'freezer': 5299, 'hahahahah': 5300, 'oo': 5301, 'poke': 5302, 'dishes': 5303, 'victor': 5304, 'complaining': 5305, 'lotion': 5306, 'spanish': 5307, 'mass': 5308, 'papers': 5309, 'transparency': 5310, 'hooray': 5311, 'swag': 5312, 'cryin': 5313, 'every1': 5314, 'alpha': 5315, 'tipsy': 5316, 'cakes': 5317, 'maddies': 5318, 'aka': 5319, 'board': 5320, 'economic': 5321, 'wal': 5322, 'conference': 5323, 'route': 5324, 'phrase': 5325, 'drip': 5326, 'doubles': 5327, 'engine': 5328, 'suit': 5329, 'amused': 5330, 'recommendation': 5331, 'pot': 5332, 'nvr': 5333, 'frm': 5334, 'mike': 5335, 'arsenal': 5336, 'abby': 5337, 'folk': 5338, 'relatives': 5339, 'toronto': 5340, 'somethin': 5341, 'hill': 5342, 'engage': 5343, 'applied': 5344, 'ec': 5345, 'josh': 5346, 'begin': 5347, 'bullied': 5348, 'worn': 5349, 'knight': 5350, 'owners': 5351, 'graduates': 5352, 'cudve': 5353, 'attended': 5354, 'kdg': 5355, 'kudos': 5356, 'longest': 5357, 'hurdle': 5358, 'fri': 5359, 'loool': 5360, 'pa': 5361, 'irregularly': 5362, 'explode': 5363, 'slacking': 5364, 'slim': 5365, 'raises': 5366, 'carrie': 5367, 'sadd': 5368, 'priceless': 5369, 'liesboystell': 5370, 'mens': 5371, 'theater': 5372, 'upsetting': 5373, 'nic': 5374, 'setup': 5375, 'tabs': 5376, 'reel': 5377, 'killin': 5378, 'decently': 5379, 'priced': 5380, 'cutting': 5381, 'orphan': 5382, 'diff': 5383, 'neva': 5384, 'tossed': 5385, 'textbooks': 5386, 'sole': 5387, 'education': 5388, 'hahahahahaha': 5389, 'bah': 5390, 'teh': 5391, 'teachers': 5392, 'johnathan': 5393, 'grim': 5394, 'tim': 5395, 'ads': 5396, 'marks': 5397, 'roommate': 5398, 'era': 5399, 'bt': 5400, 'logged': 5401, 'forth': 5402, 'drum': 5403, '15th': 5404, 'shattered': 5405, 'drowning': 5406, 'sorrows': 5407, 'accidentally': 5408, 'crisps': 5409, 'yr': 5410, 'imagination': 5411, 'emotionally': 5412, 'boxes': 5413, 'hired': 5414, 'marketing': 5415, 'seuss': 5416, 'companies': 5417, 'buzzed': 5418, 'dany': 5419, 'sorcha': 5420, 'denied': 5421, 'yaaaay': 5422, 'ay': 5423, 'digging': 5424, 'hobby': 5425, 'bot': 5426, 'soccer': 5427, 'suss': 5428, 'chap': 5429, 'meh': 5430, 'drivin': 5431, 'carol': 5432, 'cnn': 5433, 'pays': 5434, 'alcohol': 5435, 'desire': 5436, 'boil': 5437, 'eeee': 5438, 'understandable': 5439, 'sweaty': 5440, 'excursion': 5441, 'tomoz': 5442, 'moss': 5443, 'separate': 5444, 'considered': 5445, 'columns': 5446, 'scrubs': 5447, 'sooner': 5448, 'hmv': 5449, 'fundraiser': 5450, 'opening': 5451, 'lenny': 5452, 'caps': 5453, 'peed': 5454, 'bo': 5455, 'potty': 5456, 'nj': 5457, 'eithe': 5458, 'shortly': 5459, 'voodoo': 5460, 'kelly': 5461, 'related': 5462, 'terri': 5463, 'pies': 5464, 'macs': 5465, 'jp': 5466, 'whisperer': 5467, 'hawt': 5468, 'environment': 5469, 'recoup': 5470, 'investment': 5471, 'marked': 5472, 'websites': 5473, 'riding': 5474, 'zac': 5475, 'bees': 5476, 'iloveyou': 5477, 'mc': 5478, 'travel': 5479, 'goose': 5480, 'biology': 5481, 'prejudice': 5482, 'signed': 5483, 'bite': 5484, 'sweat': 5485, 'convenient': 5486, 'yah': 5487, 'digg': 5488, 'spoke': 5489, 'horror': 5490, 'registered': 5491, 'ment': 5492, 'sh': 5493, 'pure': 5494, 'nicely': 5495, 'pilot': 5496, 'leah': 5497, 'treat': 5498, 'tomato': 5499, 'peppers': 5500, 'viral': 5501, 'mayer': 5502, 'bleeding': 5503, 'candy': 5504, 'sizes': 5505, 'ocean': 5506, 'technically': 5507, 'zelda': 5508, 'guest': 5509, 'difficulties': 5510, 'typos': 5511, 'maintenance': 5512, 'females': 5513, 'bacon': 5514, 'mushrooms': 5515, 'nokia': 5516, 'ovi': 5517, 'mask': 5518, 'quickly': 5519, 'melt': 5520, 'characters': 5521, 'precious': 5522, 'humbug': 5523, 'ahahaha': 5524, 'muscle': 5525, 'wrist': 5526, 'proper': 5527, 'musso': 5528, 'spilled': 5529, 'blah': 5530, 'olive': 5531, 'massage': 5532, 'medical': 5533, 'framework': 5534, 'enought': 5535, 'spilling': 5536, 'surgury': 5537, '2000': 5538, 'misunderstood': 5539, 'lonley': 5540, '6am': 5541, 'benjamin': 5542, 'shout': 5543, 'denver': 5544, 'converse': 5545, 'nerves': 5546, 'reached': 5547, 'jose': 5548, 'fallow': 5549, 'charges': 5550, 'average': 5551, 'discussion': 5552, 'attending': 5553, 'beatweetup': 5554, 'camcorder': 5555, 'ignoring': 5556, 'morrisons': 5557, 'cries': 5558, 'frozen': 5559, 'views': 5560, 'published': 5561, 'shave': 5562, 'highlight': 5563, 'ali': 5564, 'donnie': 5565, 'reschedule': 5566, 'kent': 5567, 'ver': 5568, 'mamas': 5569, 'hq': 5570, 'similar': 5571, 'bigger': 5572, 'del': 5573, 'burger': 5574, 'castle': 5575, 'battle': 5576, 'indie': 5577, 'euro': 5578, 'tale': 5579, 'shifting': 5580, 'dice': 5581, 'infamous': 5582, 'pill': 5583, 'paramore': 5584, 'occasionally': 5585, 'yt': 5586, 'meagan': 5587, 'knees': 5588, 'iron': 5589, 'puppies': 5590, 'basement': 5591, 'blocking': 5592, 'pet': 5593, 'frickin': 5594, 'forecast': 5595, 'cinemas': 5596, 'wears': 5597, 'xox': 5598, 'cof': 5599, 'technology': 5600, 'crew': 5601, 'robert': 5602, 'happend': 5603, 'collapses': 5604, 'queer': 5605, 'some1': 5606, 'wel': 5607, 'sissy': 5608, 'netball': 5609, 'joining': 5610, 'bella': 5611, 'bes': 5612, 'kickass': 5613, 'aswell': 5614, 'wrk': 5615, 'vodka': 5616, 'piercing': 5617, 'les': 5618, 'borde': 5619, 'networking': 5620, 'sticky': 5621, 'argument': 5622, 'pusher': 5623, 'pounds': 5624, 'wicked': 5625, 'ie': 5626, 'python': 5627, 'nintendo': 5628, 'capital': 5629, 'allah': 5630, 'goldfish': 5631, 'reports': 5632, 'gotcha': 5633, 'loose': 5634, 'zone': 5635, 'bats': 5636, '33': 5637, 'html': 5638, 'favor': 5639, 'milkshake': 5640, 'mornings': 5641, 'cheek': 5642, 'thoughh': 5643, 'physical': 5644, 'sensible': 5645, 'user': 5646, 'ian': 5647, 'ako': 5648, 'holes': 5649, 'coldplay': 5650, 'nov': 5651, 'f1': 5652, 'nonetheless': 5653, 'ave': 5654, 'pfft': 5655, 'wayy': 5656, 'kitchen': 5657, 'beard': 5658, 'doors': 5659, 'sucking': 5660, 'gods': 5661, 'sake': 5662, 'pollution': 5663, 'prep': 5664, 'gifts': 5665, 'avenue': 5666, 'una': 5667, 'yan': 5668, '5k': 5669, 'headlining': 5670, 'lbs': 5671, 'lamb': 5672, 'patients': 5673, 'selected': 5674, 'alley': 5675, 'lowest': 5676, '30mins': 5677, 'goodies': 5678, 'ubuntu': 5679, 'branch': 5680, 'newly': 5681, 'porridge': 5682, 'killer': 5683, 'ga': 5684, 'nicest': 5685, 'shelby': 5686, 'madrid': 5687, 'docks': 5688, 'museum': 5689, 'worcester': 5690, 'exit': 5691, 'enter': 5692, 'looooove': 5693, 'perth': 5694, 'hood': 5695, 'terrified': 5696, 'wand': 5697, '70': 5698, 'boulder': 5699, 'swineflu': 5700, 'citizens': 5701, 'community': 5702, 'subtly': 5703, 'type': 5704, 'vehicle': 5705, 'ant': 5706, 'wallpaper': 5707, 'monitor': 5708, 'hallway': 5709, 'mocha': 5710, 'scent': 5711, 'relief': 5712, 'prettier': 5713, 'mentioning': 5714, 'srsly': 5715, 'belfast': 5716, 'statement': 5717, 'cory': 5718, 'convinced': 5719, 'cop': 5720, 'meeeeeeee': 5721, 'aston': 5722, 'il': 5723, 'angela': 5724, 'compliments': 5725, 'bean': 5726, 'appear': 5727, 'snif': 5728, 'dosent': 5729, 'seperate': 5730, 'attacking': 5731, 'selfish': 5732, 'nambu': 5733, 'fa': 5734, 'whn': 5735, 'uhh': 5736, 'feature': 5737, 'juz': 5738, 'tires': 5739, 'tisdale': 5740, 'sweats': 5741, 'frown': 5742, 'aussie': 5743, 'muah': 5744, 'represent': 5745, 'net': 5746, 'weight': 5747, 'poopy': 5748, 'satan': 5749, 'opened': 5750, 'aero': 5751, 'borin': 5752, 'sickness': 5753, 'yao': 5754, 'snail': 5755, 'employee': 5756, 'poetry': 5757, 'rockstar': 5758, 'eden': 5759, 'forms': 5760, 'cents': 5761, 'phase': 5762, 'liver': 5763, 'format': 5764, 'avail': 5765, 'brody': 5766, 'coach': 5767, 'yaaaaaaay': 5768, 'espresso': 5769, 'anniversary': 5770, 'australian': 5771, 'counts': 5772, 'brooklyn': 5773, 'chino': 5774, 'gentleman': 5775, 'pouting': 5776, 'automatically': 5777, 'punk': 5778, 'redbull': 5779, 'kfc': 5780, 'gotten': 5781, 'pineapple': 5782, 'decisions': 5783, '7pm': 5784, 'additional': 5785, 'required': 5786, 'merlin': 5787, 'attractive': 5788, 'meetings': 5789, 'deadline': 5790, 'sarcastic': 5791, 'boohoo': 5792, 'listed': 5793, 'modem': 5794, 'garbage': 5795, 'frank': 5796, 'file': 5797, 'joey': 5798, 'lmfao': 5799, 'od': 5800, 'smoothie': 5801, 'ponytail': 5802, 'wide': 5803, 'apt': 5804, 'hobo': 5805, 'sarah': 5806, 'disgusting': 5807, 'pta': 5808, 'generally': 5809, 'stands': 5810, 'confuse': 5811, 'whatcha': 5812, 'energized': 5813, 'friggin': 5814, 'lifetime': 5815, 'broadband': 5816, 'intrigued': 5817, 'dunkin': 5818, 'hungover': 5819, 'limo': 5820, 'metro': 5821, 'cops': 5822, 'cycle': 5823, 'tweetup': 5824, 'comedy': 5825, 'ahhhhhh': 5826, 'britain': 5827, 'develop': 5828, 'thick': 5829, 'ericka': 5830, 'closest': 5831, 'destroy': 5832, 'daisies': 5833, 'mission': 5834, 'rosie': 5835, 'busted': 5836, 'confusin': 5837, 'yeaah': 5838, 'pebbles': 5839, 'someones': 5840, 'zombie': 5841, 'chronicles': 5842, 'bittersweet': 5843, 'vice': 5844, 'bullet': 5845, 'japan': 5846, 'squeeze': 5847, 'mga': 5848, 'lng': 5849, 'leeds': 5850, 'hawks': 5851, 'mighty': 5852, 'solid': 5853, 'chose': 5854, 'mu': 5855, 'mk': 5856, 'mentioned': 5857, 'hype': 5858, 'etsy': 5859, 'hairs': 5860, 'ts': 5861, 'conversations': 5862, 'mor': 5863, 'bros': 5864, 'lamer': 5865, 'unbearable': 5866, 'blasting': 5867, 'gaga': 5868, 'screamin': 5869, 'tweep': 5870, 'impose': 5871, 'fort': 5872, 'pigeon': 5873, 'allen': 5874, 'sees': 5875, 'boyle': 5876, 'scaring': 5877, 'assembly': 5878, 'application': 5879, 'arranged': 5880, 'function': 5881, 'debugging': 5882, 'daw': 5883, 'ittt': 5884, 'peaceful': 5885, 'sausage': 5886, 'egg': 5887, 'mcmuffin': 5888, 'coat': 5889, 'u2': 5890, 'parvo': 5891, 'vibes': 5892, 'freeze': 5893, 'bomb': 5894, 'downstairs': 5895, 'piano': 5896, 'haz': 5897, 'buffet': 5898, 'rated': 5899, 'bea': 5900, 'dieing': 5901, 'machines': 5902, 'protection': 5903, 'stores': 5904, 'birmingham': 5905, 'cope': 5906, 'darts': 5907, 'craigslist': 5908, 'maccy': 5909, 'overseas': 5910, 'backed': 5911, 'lincoln': 5912, 'tunnel': 5913, 'filthy': 5914, 'jerk': 5915, 'stanky': 5916, 'spotlight': 5917, 'embarrassed': 5918, 'entirely': 5919, 'meann': 5920, 'spears': 5921, 'southland': 5922, 'bruce': 5923, 'noooooo': 5924, 'voicemail': 5925, 'laser': 5926, 'aah': 5927, 'candace': 5928, 'bubba': 5929, 'shaw': 5930, 'gays': 5931, 'cure': 5932, 'idiotat': 5933, 'nks': 5934, 'bare': 5935, 'coding': 5936, 'sgt': 5937, 'hughes': 5938, 'meningitis': 5939, 'includes': 5940, 'jayk': 5941, 'nugget': 5942, 'unexpected': 5943, 'darling': 5944, 'fool': 5945, 'monk': 5946, 'portugal': 5947, 'graphics': 5948, 'bookmarks': 5949, 'bay': 5950, 'itching': 5951, 'java': 5952, 'gooooood': 5953, 'teased': 5954, 'mini': 5955, 'girlie': 5956, 'commence': 5957, 'coursework': 5958, 'kayla': 5959, 'cisco': 5960, 'katies': 5961, 'com': 5962, 'maria': 5963, 'thas': 5964, 'bush': 5965, '36': 5966, 'lecture': 5967, 'bugles': 5968, 'snack': 5969, 'sale': 5970, 'mattress': 5971, 'vega': 5972, 'flavor': 5973, 'unit': 5974, 'eachother': 5975, 'denny': 5976, 'crane': 5977, 'stung': 5978, 'todayy': 5979, 'probly': 5980, 'inspection': 5981, 'sticker': 5982, 'peppermint': 5983, 'dual': 5984, 'comfy': 5985, 'despite': 5986, 'heyyy': 5987, 'mann': 5988, 'santa': 5989, 'forgotten': 5990, 'stink': 5991, 'twitting': 5992, 'volleyball': 5993, 'embarrased': 5994, 'fate': 5995, 'lappytop': 5996, 'noo': 5997, 'oldies': 5998, 'wif': 5999, 'dyeing': 6000, 'seamless': 6001, 'tomorow': 6002, 'carpet': 6003, 'appears': 6004, 'spider': 6005, 'dougie': 6006, 'harsh': 6007, 'listing': 6008, 'injury': 6009, 'hurray': 6010, 'olds': 6011, 'soda': 6012, 'quiero': 6013, 'gut': 6014, 'toasting': 6015, 'nigh': 6016, 'rabbits': 6017, 'cleanin': 6018, 'hash': 6019, 'base': 6020, 'costco': 6021, 'print': 6022, 'police': 6023, 'itself': 6024, 'auntie': 6025, 'fathers': 6026, 'messing': 6027, 'snapping': 6028, 'twisted': 6029, 'hugged': 6030, 'olympic': 6031, 'rack': 6032, 'brunch': 6033, 'unny': 6034, 'advert': 6035, 'meee': 6036, 'enj': 6037, 'whining': 6038, 'weeding': 6039, 'lazing': 6040, 'articles': 6041, 'concept': 6042, 'escaped': 6043, 'teleport': 6044, 'boa': 6045, 'misse': 6046, 'gi': 6047, 'paws': 6048, 'strike': 6049, 'smith': 6050, 'twitterworld': 6051, 'docs': 6052, 'fkn': 6053, 'matches': 6054, 'unfortunatly': 6055, 'canucks': 6056, 'glitch': 6057, 'remains': 6058, 'terms': 6059, 'barbeque': 6060, 'nettles': 6061, 'bull': 6062, 'slippers': 6063, 'cubbies': 6064, 'laura': 6065, 'jazz': 6066, 'organizing': 6067, 'vent': 6068, 'bestfriend': 6069, 'ranch': 6070, 'biz': 6071, 'overnight': 6072, 'troubles': 6073, 'denial': 6074, 'firts': 6075, '3333': 6076, 'synced': 6077, 'backround': 6078, 'delight': 6079, 'meeee': 6080, 'mcr': 6081, 'oll': 6082, 'givin': 6083, 'decreasing': 6084, 'arre': 6085, 'laughter': 6086, 'muna': 6087, 'maaaaaan': 6088, 'flo': 6089, 'pregnant': 6090, 'changes': 6091, 'hasnt': 6092, 'hahahahaha': 6093, 'rember': 6094, 'zoe': 6095, 'cheaper': 6096, 'orthodontist': 6097, 'agencies': 6098, 'exotic': 6099, 'pakistan': 6100, 'dd': 6101, 'yelling': 6102, 'upgrades': 6103, 'profiles': 6104, 'ants': 6105, 'orientation': 6106, 'staff': 6107, 'adopted': 6108, 'shelter': 6109, 'pasadena': 6110, 'ease': 6111, 'animated': 6112, 'cravings': 6113, 'poppin': 6114, 'strangely': 6115, '14th': 6116, 'cuba': 6117, 'users': 6118, 'chrome': 6119, 'fonts': 6120, 'stumble': 6121, 'mommys': 6122, 'torture': 6123, 'sg': 6124, 'sana': 6125, 'hindi': 6126, 'ni': 6127, 'banquet': 6128, 'breezy': 6129, 'hint': 6130, 'maternity': 6131, 'traditional': 6132, 'eliminated': 6133, 'gummy': 6134, 'tear': 6135, 'grabbed': 6136, 'mya': 6137, 'pedicure': 6138, 'neighbors': 6139, 'shouldve': 6140, 'sheffield': 6141, 'item': 6142, 'publish': 6143, 'mba': 6144, 'runny': 6145, 'ugggh': 6146, '1tb': 6147, 'las': 6148, 'inspiring': 6149, '5am': 6150, 'lava': 6151, 'syncing': 6152, 'polaroid': 6153, 'ck': 6154, 'weirdest': 6155, 'negativity': 6156, 'assholes': 6157, 'blueberry': 6158, 'lotsa': 6159, 'devon': 6160, 'heir': 6161, 'draft': 6162, 'colour': 6163, 'expect': 6164, 's3': 6165, 'engines': 6166, 'nowadays': 6167, 'trail': 6168, 'theirs': 6169, 'harley': 6170, 'december': 6171, 'allll': 6172, 'cooks': 6173, 'brighton': 6174, 'algebra': 6175, 'choir': 6176, 'studied': 6177, 'loic': 6178, 'acct': 6179, 'mentally': 6180, 'craving': 6181, 'africa': 6182, 'costly': 6183, 'recommended': 6184, 'frog': 6185, 'rides': 6186, 'huntsville': 6187, 'tribute': 6188, 'practically': 6189, 'tottaly': 6190, 'ringtones': 6191, 'payday': 6192, 'ps3': 6193, 'amanda': 6194, 'thingy': 6195, 'carolina': 6196, 'handmade': 6197, 'mexico': 6198, 'wished': 6199, 'career': 6200, 'bangin': 6201, 'blech': 6202, 'brb': 6203, 'preferred': 6204, 'reasonable': 6205, 'rent': 6206, 'peanut': 6207, 'pulling': 6208, 'mmot': 6209, 'whoever': 6210, 'bra': 6211, 'twenty': 6212, 'vegetarian': 6213, 'traitor': 6214, 'atlas': 6215, '33333': 6216, 'imm': 6217, 'callin': 6218, 'lenses': 6219, 'fifties': 6220, 'mmmmm': 6221, 'jammin': 6222, 'contribute': 6223, 'bulb': 6224, 'reaction': 6225, 'tradition': 6226, 'puke': 6227, 'tonigh': 6228, 'lego': 6229, 'hallooo': 6230, 'turnout': 6231, 'boarding': 6232, 'sonny': 6233, 'sw': 6234, 'biggie': 6235, 'sf': 6236, 'fog': 6237, 'inspiration': 6238, 'commands': 6239, 'mish': 6240, 'sykes': 6241, 'below': 6242, 'norm': 6243, 'tisk': 6244, 'nikki': 6245, 'readyyy': 6246, 'sweatshirt': 6247, 'hittin': 6248, 'involves': 6249, 'bonding': 6250, 'garage': 6251, '3k': 6252, 'uhhh': 6253, 'sats': 6254, 'celebrated': 6255, 'calorie': 6256, 'sicker': 6257, 'hahha': 6258, 'manchester': 6259, 'perez': 6260, 'stepped': 6261, 'buggy': 6262, 'journalists': 6263, 'michigan': 6264, 'ughh': 6265, 'm8': 6266, 'pisses': 6267, 'specifically': 6268, 'bahaha': 6269, 'shoo': 6270, 'sin': 6271, 'ridiculously': 6272, 'chilis': 6273, 'ashington': 6274, 'cig': 6275, 'benefit': 6276, 'burst': 6277, 'mosquito': 6278, 'foods': 6279, 'nutella': 6280, 'playoffs': 6281, 'cruising': 6282, 'gaskarth': 6283, 'effed': 6284, 'enthusiasm': 6285, 'pup': 6286, 'teddy': 6287, 'shipped': 6288, 'jumps': 6289, 'coolness': 6290, 'standby': 6291, 'havn': 6292, 'designer': 6293, 'ram': 6294, 'pouring': 6295, 'concrete': 6296, 'jackie': 6297, 'increasing': 6298, 'favorites': 6299, 'robbie': 6300, 'promo': 6301, 'translation': 6302, 'rio': 6303, 'janeiro': 6304, 'scores': 6305, 'conquered': 6306, 'ctrl': 6307, 'yeeeeah': 6308, 'tubes': 6309, 'colleagues': 6310, 'received': 6311, 'lastnight': 6312, 'convo': 6313, 'circus': 6314, 'aweso': 6315, 'banned': 6316, 'bron': 6317, 'rays': 6318, 'stronger': 6319, 'lineup': 6320, 'yorkshire': 6321, 'suprisingly': 6322, 'goodbyes': 6323, 'currency': 6324, 'msg': 6325, 'skl': 6326, 'naman': 6327, 'dl': 6328, 'vacations': 6329, 'laterz': 6330, 'lovers': 6331, 'leader': 6332, 'nanna': 6333, 'competitive': 6334, 'highly': 6335, 'genes': 6336, 'bl': 6337, 'diane': 6338, 'pshh': 6339, 'knackered': 6340, 'dreambears': 6341, 'bebe': 6342, 'sanity': 6343, '2moz': 6344, 'carrying': 6345, 'crime': 6346, 'diy': 6347, 'joker': 6348, 'honored': 6349, 'pleased': 6350, 'finds': 6351, 'memory': 6352, 'juddday': 6353, 'witness': 6354, 'soooooooo': 6355, 'dreamin': 6356, 'hook': 6357, 'smashing': 6358, 'wagon': 6359, 'sicky': 6360, 'kindle': 6361, 'kennel': 6362, 'yal': 6363, 'ftsk': 6364, 'rapids': 6365, 'desperate': 6366, 'cares': 6367, 'lighting': 6368, 'wins': 6369, 'chopped': 6370, 'eventually': 6371, 'gb': 6372, 'fashioned': 6373, 'hel': 6374, 'touchin': 6375, 'involved': 6376, 'blows': 6377, 'mysterious': 6378, 'mow': 6379, 'ridiculous': 6380, 'rainin': 6381, 'shallow': 6382, 'ninja': 6383, 'appreciat': 6384, 'transport': 6385, 'cha': 6386, 'charley': 6387, 'stressin': 6388, 'powerpoint': 6389, 'freedom': 6390, 'badluck': 6391, 'tiger': 6392, 'claws': 6393, 'straightener': 6394, 'relieve': 6395, 'cooked': 6396, 'dixon': 6397, 'grrrrrrr': 6398, 'beware': 6399, 'war': 6400, 'klemm': 6401, 'initial': 6402, 'ic': 6403, 'filled': 6404, 'unpacking': 6405, 'cert': 6406, 'proposals': 6407, 'supporter': 6408, 'perfectly': 6409, 'yaaay': 6410, 'grandmother': 6411, 'trading': 6412, 'speedy': 6413, 'relationship': 6414, 'thud': 6415, 'eaten': 6416, 'scones': 6417, 'monica': 6418, 'moments': 6419, 'mtn': 6420, 'horrid': 6421, 'guts': 6422, 'nanny': 6423, 'lifesaver': 6424, 'computing': 6425, 'register': 6426, 'doh': 6427, 'burritos': 6428, 'chilly': 6429, 'drizzle': 6430, 'coolio': 6431, 'aunty': 6432, 'dimple': 6433, 'bucket': 6434, 'dried': 6435, 'oui': 6436, 'believed': 6437, 'hellotxt': 6438, 'declined': 6439, 'streamline': 6440, 'balance': 6441, 'millionaire': 6442, 'breeding': 6443, 'offered': 6444, 'hosts': 6445, 'lapit': 6446, 'salary': 6447, 'steal': 6448, 'nancy': 6449, 'marry': 6450, 'legal': 6451, 'bone': 6452, 'wiv': 6453, 'missus': 6454, 'pole': 6455, 'boxers': 6456, 'pitcher': 6457, 'locker': 6458, 'edited': 6459, 'donny': 6460, 'noisy': 6461, 'loveliness': 6462, 'programme': 6463, 'skyping': 6464, 'sweety': 6465, 'chemo': 6466, 'accounts': 6467, 'halls': 6468, 'vietnam': 6469, 'pools': 6470, 'ap': 6471, 'gov': 6472, 'harmless': 6473, 'compute': 6474, 'grabe': 6475, 'kaloka': 6476, 'dreary': 6477, 'dk': 6478, 'hers': 6479, 'guinea': 6480, 'acing': 6481, 'goooo': 6482, 'icky': 6483, 'reviews': 6484, 'tyler': 6485, 'naps': 6486, '2007': 6487, 'jokes': 6488, 'afterall': 6489, 'apples': 6490, 'htc': 6491, 'constantly': 6492, 'rooting': 6493, 'disc': 6494, 'jane': 6495, 'straw': 6496, 'qot': 6497, 'cabin': 6498, 'witty': 6499, 'detention': 6500, 'filling': 6501, 'cebu': 6502, 'tooooooo': 6503, 'tidy': 6504, 'pe': 6505, 'billion': 6506, 'horrific': 6507, 'newest': 6508, 'cave': 6509, 'paracetamol': 6510, 'presentations': 6511, 'topped': 6512, 'jim': 6513, 'navy': 6514, 'hits': 6515, 'gh': 6516, 'computers': 6517, 'choked': 6518, 'stuffs': 6519, 'niamh': 6520, 'booth': 6521, 'coraline': 6522, 'liam': 6523, 'torrent': 6524, 'caffeine': 6525, 'thunderstorm': 6526, 'sfo': 6527, 'perform': 6528, 'uno': 6529, 'lovato': 6530, 'dito': 6531, 'split': 6532, 'snuggles': 6533, 'everyones': 6534, 'expert': 6535, 'depression': 6536, 'fuckkk': 6537, 'apathetic': 6538, 'bushes': 6539, 'bruise': 6540, 'strength': 6541, 'gl': 6542, 'darl': 6543, 'dampen': 6544, 'scenie': 6545, 'monthly': 6546, 'puter': 6547, 'newspaper': 6548, 'detroit': 6549, 'ink': 6550, 'filming': 6551, 'sorting': 6552, 'hanson': 6553, 'rogue': 6554, 'weed': 6555, 'yummm': 6556, 'extended': 6557, 'cache': 6558, 'listenin': 6559, 'dull': 6560, 'ust': 6561, 'baltimore': 6562, 'feeder': 6563, 'thistle': 6564, 'pod': 6565, 'helmet': 6566, 'humid': 6567, 'luvvv': 6568, 'limb': 6569, 'wana': 6570, 'buuuut': 6571, 'addictive': 6572, 'twinz': 6573, 'moods': 6574, 'omj': 6575, 'detour': 6576, 'capacity': 6577, 'butterfly': 6578, 'tension': 6579, 'darkness': 6580, 'closely': 6581, 'sized': 6582, 'tori': 6583, 'bai': 6584, 'kt': 6585, 'parade': 6586, 'mirror': 6587, 'tatami': 6588, 'imac': 6589, 'gambit': 6590, 'pantera': 6591, 'grader': 6592, 'pizzas': 6593, 'twittersphere': 6594, 'dressing': 6595, 'woods': 6596, 'plugs': 6597, 'debate': 6598, 'toooo': 6599, 'und': 6600, 'shish': 6601, '99': 6602, 'ustream': 6603, 'fellas': 6604, 'amen': 6605, 'bang': 6606, 'ohhhhh': 6607, 'strikes': 6608, 'pointy': 6609, 'amp': 6610, 'nola': 6611, 'distraction': 6612, 'shh': 6613, 'pau': 6614, '94': 6615, 'pasty': 6616, 'shocking': 6617, 'giveaway': 6618, 'kbs': 6619, 'peer': 6620, 'taught': 6621, 'shark': 6622, 'coco': 6623, 'superb': 6624, 'pooped': 6625, 'spoon': 6626, 'eagle': 6627, 'dippin': 6628, 'dots': 6629, 'scrambled': 6630, 'remembering': 6631, 'permission': 6632, 'nai': 6633, 'nevermind': 6634, 'headline': 6635, 'sides': 6636, 'paperwork': 6637, 'vast': 6638, 'partyin': 6639, '2nyt': 6640, 'placements': 6641, 'dreadfully': 6642, 'knowledge': 6643, 'nor': 6644, 'tweetstats': 6645, 'hiccups': 6646, 'whyyyy': 6647, 'lips': 6648, 'horde': 6649, 'urls': 6650, 'karaoke': 6651, 'among': 6652, 'shitttt': 6653, 'funerals': 6654, 'quitting': 6655, 'financial': 6656, 'welts': 6657, 'kl': 6658, 'heeey': 6659, 'mega': 6660, 'coffe': 6661, 'distracting': 6662, 'abandoning': 6663, 'muy': 6664, 'spelled': 6665, 'godfather': 6666, 'touching': 6667, 'asylm': 6668, 'satisfying': 6669, 'gymnastics': 6670, 'hips': 6671, 'ground': 6672, 'lens': 6673, 'wink': 6674, 'signs': 6675, 'accadentally': 6676, 'potential': 6677, 'thumb': 6678, 'poorer': 6679, 'omlette': 6680, 'ere': 6681, 'sads': 6682, 'crutches': 6683, 'butts': 6684, 'voegele': 6685, 'stanley': 6686, 'kings': 6687, 'menu': 6688, 'cna': 6689, 'cal': 6690, 'heater': 6691, 'sox': 6692, 'tx': 6693, 'cities': 6694, 'wendy': 6695, 'dayyy': 6696, 'har': 6697, 'pacman': 6698, 'whales': 6699, 'skate': 6700, 'greeting': 6701, 'needle': 6702, 'toro': 6703, 'fee': 6704, 'sounded': 6705, 'gahh': 6706, 'prepare': 6707, 'amazon': 6708, 'shoulda': 6709, 'asylum': 6710, 'replay': 6711, 'adriana': 6712, 'buffalo': 6713, 'harm': 6714, 'dylan': 6715, 'reagan': 6716, '08': 6717, 'fruits': 6718, 'greedy': 6719, 'brandy': 6720, 'discounts': 6721, 'sniff': 6722, 'mourning': 6723, 'warnings': 6724, 'paycheck': 6725, 'dominos': 6726, 'hut': 6727, 'au': 6728, 'mh': 6729, 'clara': 6730, 'disaster': 6731, 'fieldnotes': 6732, 'soooooooooo': 6733, 'quits': 6734, 'ahhhhhhh': 6735, 'mah': 6736, 'embarrassing': 6737, 'seo': 6738, 'sparkling': 6739, 'sour': 6740, 'strings': 6741, 'eps': 6742, 'rolling': 6743, 'fanta': 6744, 'champion': 6745, 'funnier': 6746, 'ooooh': 6747, 'ellen': 6748, 'tod': 6749, 'elizabeth': 6750, 'flood': 6751, 'npr': 6752, 'listened': 6753, 'worms': 6754, 'remeber': 6755, 'ethics': 6756, 'productivity': 6757, 'onee': 6758, 'shoe': 6759, 'responding': 6760, 'mayhem': 6761, 'mmmmmm': 6762, 'papa': 6763, 'boom': 6764, 'reload': 6765, 'professional': 6766, 'fernanda': 6767, 'tigers': 6768, 'overcome': 6769, 'congrat': 6770, 'visitor': 6771, 'flavour': 6772, 'factor': 6773, '167': 6774, 'knoxville': 6775, 'troy': 6776, 'caca': 6777, '3000': 6778, 'logical': 6779, 'shampoo': 6780, 'crs': 6781, 'fascinating': 6782, 'charles': 6783, 'cody': 6784, 'elegance': 6785, 'majorly': 6786, '<unk>': 6787, '<pad>': 6788}\n",
            "{1: 'i', 2: 'd', 3: 'have', 4: 'if', 5: 'were', 6: 'going', 7: 'sooo', 8: 'sad', 9: 'me', 10: 'leave', 11: 'alone', 12: 'sons', 13: 'of', 14: 'http', 15: 'some', 16: 'plugging', 17: 'for', 18: 'the', 19: 'best', 20: 'rangers', 21: 'forum', 22: 'on', 23: 'earth', 24: 'fun', 25: 'soooo', 26: 'high', 27: 'both', 28: 'you', 29: 'wow', 30: 'u', 31: 'just', 32: 'became', 33: 'cooler', 34: 'as', 35: 'much', 36: 'love', 37: 'to', 38: 'be', 39: 'hopeful', 40: 'reckon', 41: 'chances', 42: 'are', 43: 'minimal', 44: 'm', 45: 'never', 46: 'gon', 47: 'na', 48: 'get', 49: 'my', 50: 'cake', 51: 'and', 52: 'stuff', 53: 'like', 54: 'lost', 55: 'test', 56: 'from', 57: 'lg', 58: 'uh', 59: 'oh', 60: 'am', 61: 'sunburned', 62: 'sigh', 63: 'sick', 64: 'hes', 65: 'not', 66: 'that', 67: 'into', 68: 'so', 69: 'sorry', 70: 'hope', 71: 'find', 72: 'her', 73: 'soon', 74: '3', 75: 'interesting', 76: 'is', 77: 'cleaning', 78: 'house', 79: 'family', 80: 'who', 81: 'comming', 82: 'later', 83: 'today', 84: 'got', 85: 'ta', 86: 'restart', 87: 'computer', 88: 'thought', 89: 'win7', 90: 'was', 91: 'supposed', 92: 'put', 93: 'an', 94: 'end', 95: 'constant', 96: 'see', 97: 'wat', 98: 'mean', 99: 'bout', 100: 'it', 101: 's', 102: 'called', 103: 'lose', 104: 'friday', 105: 'smh', 106: 'free', 107: 'app', 108: 'ipod', 109: 'im', 110: 'addicted', 111: 'internet', 112: 'power', 113: 'back', 114: 'up', 115: 'working', 116: 'too', 117: 'quite', 118: 'heavenly', 119: 'well', 120: 'being', 121: 'unhappy', 122: 'about', 123: '10', 124: 'minute', 125: 'funny', 126: 'ahhh', 127: 'slept', 128: 'through', 129: 'game', 130: 'try', 131: 'watch', 132: 'tomorrow', 133: 'though', 134: 'we', 135: 'play', 136: 'army', 137: 'thats', 138: 'its', 139: 'tears', 140: 'fears', 141: 'miss', 142: 'in', 143: 'case', 144: 'wonder', 145: 'really', 146: 'busy', 147: 'this', 148: 'coming', 149: 'with', 150: 'adding', 151: 'tons', 152: 'new', 153: 'blogs', 154: 'updates', 155: 'stay', 156: 'tuned', 157: 'soooooo', 158: 'a', 159: 'little', 160: 'happy', 161: 'fo', 162: 'car', 163: 'big', 164: 'boot', 165: 'hoping', 166: 'theyre', 167: 'write', 168: 'off', 169: 'crossing', 170: 'fingers', 171: 'waiting', 172: 'fan', 173: 'mayday', 174: 'rocked', 175: 'nashville', 176: 'tonite', 177: 'one', 178: 'thing', 179: 'sucked', 180: 'no', 181: 'encore', 182: '80', 183: 'they', 184: 'still', 185: 'show', 186: 'has', 187: 'hott', 188: 'bad', 189: 'boy', 190: 'look', 191: 'girl', 192: 'hair', 193: 'asked', 194: 'your', 195: 'eyebrows', 196: 'how', 197: 'old', 198: 'do', 199: 'feel', 200: 'visiting', 201: 'friendster', 202: 'facebook', 203: 'dont', 204: 'go', 205: 'thrilled', 206: 'at', 207: 'all', 208: 'mine', 209: 'then', 210: 'should', 211: 'check', 212: 'out', 213: 'connect', 214: 'other', 215: 'tweeple', 216: 'hate', 217: 'twitter', 218: 'also', 219: 'bored', 220: 'school', 221: 'third', 222: 'hm', 223: 'us', 224: 'guess', 225: 'past', 226: 'few', 227: 'days', 228: 'romance', 229: 'zero', 230: 'rather', 231: 'early', 232: 'run', 233: 'but', 234: 'morning', 235: 'hurts', 236: 'will', 237: 'torn', 238: 'ace', 239: 'hearts', 240: 'what', 241: 'speaking', 242: 'friends', 243: 'sleepy', 244: 'haha', 245: 'yes', 246: 'give', 247: 'easily', 248: 'favorite', 249: 'jealous', 250: 'photoshoot', 251: 'awesome', 252: 'yay', 253: 'playing', 254: 'tonight', 255: 'boo', 256: 'soggy', 257: 'work', 258: 'right', 259: 'before', 260: 'know', 261: 'such', 262: 'let', 263: 'smell', 264: 'smoke', 265: 'kitchenfire', 266: 'better', 267: 'anyone', 268: 'extra', 269: 'ticket', 270: 'promise', 271: 'buy', 272: 'drink', 273: 'take', 274: 'rad', 275: 'pics', 276: 'fb', 277: 'blog', 278: 'etc', 279: 'can', 280: 'ride', 281: 'catch', 282: 'summer', 283: 'til', 284: 'pop', 285: 'open', 286: 'she', 287: 'good', 288: 'yea', 289: 'kno', 290: 'yesterday', 291: 'when', 292: 'tha', 293: 'hospital', 294: 'talked', 295: 'said', 296: 'ok', 297: 'here', 298: 'now', 299: 'popped', 300: 'say', 301: 'hi', 302: 'things', 303: 'll', 304: 'probably', 305: 'head', 306: 'baddd', 307: 'sources', 308: 'tired', 309: 'hey', 310: 'change', 311: 'account', 312: 'didn', 313: 't', 314: 'even', 315: 'tell', 316: 'thank', 317: 'lucky', 318: 'fell', 319: 'asleep', 320: 'guys', 321: 'star', 322: 'wars', 323: 'day', 324: 'everyone', 325: 'enjoy', 326: 'holiday', 327: 'uk', 328: 'miles', 329: 'plenty', 330: 'warning', 331: 'arrive', 332: 'time', 333: 'least', 334: 'those', 335: 'beers', 336: 'his', 337: 'snoring', 338: 'annoying', 339: 'n', 340: 'keeps', 341: 'sleeping', 342: 'lol', 343: 'honestly', 344: 'wud', 345: 'eva', 346: 'left', 347: 'him', 348: 'bby', 349: 'cool', 350: 'there', 351: 'lasts', 352: 'way', 353: 'bedtime', 354: 'doing', 355: 'joined', 356: 'eating', 357: 'ice', 358: 'cream', 359: 'getting', 360: 'ready', 361: 'graduation', 362: 'mothers', 363: 'mums', 364: 'freaked', 365: 'unfortunately', 366: 'read', 367: 'story', 368: 'adam', 369: 'lambert', 370: 'online', 371: 'bed', 372: 'nighty', 373: 'night', 374: 'pretty', 375: 'certainly', 376: 'cheers', 377: 'than', 378: 'huh', 379: 'horrible', 380: 'over', 381: 'pens', 382: 'wear', 383: 'black', 384: 'most', 385: 'thanks', 386: 'safe', 387: 'wish', 388: 'allowed', 389: 'add', 390: 'email', 391: 'tickets', 392: 'think', 393: 'kept', 394: 'comfort', 395: 'our', 396: 'don', 397: 'confident', 398: 'hahaa', 399: 'awesomee', 400: 'making', 401: 'jump', 402: 'low', 403: 'health', 404: 'money', 405: 'food', 406: 'worry', 407: 'had', 408: 'itunes', 409: 'songs', 410: 'gloomy', 411: 'weather', 412: 'sun', 413: 'must', 414: 'come', 415: 'heading', 416: 'victoria', 417: 'looking', 418: 'forward', 419: 'poor', 420: 'prob', 421: 'dads', 422: 'watching', 423: 'mtv', 424: 'absolutely', 425: 'matter', 426: 'y', 427: 'adore', 428: 'painful', 429: 'e', 430: 'nice', 431: 'namaskar', 432: 'r', 433: 'same', 434: 'marathi', 435: 'people', 436: 'word', 437: 'congrats', 438: 'cuss', 439: 'minutes', 440: 'until', 441: 'reward', 442: 'missed', 443: 'normal', 444: 'group', 445: 'large', 446: 'last', 447: 'terrible', 448: 'unfortunatley', 449: 'sucks', 450: 'tho', 451: 'fighting', 452: 'watched', 453: 'didnt', 454: 'want', 455: 'win', 456: 'fight', 457: 'sprite', 458: 'tastes', 459: 'sore', 460: 'throat', 461: 'came', 462: 'cross', 463: 'country', 464: 'beat', 465: 'dumbo', 466: 'enjoyable', 467: 'lunch', 468: 'done', 469: 'late', 470: 'cousins', 471: 'or', 472: 'whatever', 473: 'spell', 474: 'goooooddd', 475: 'tweets', 476: 'fine', 477: 'ones', 478: 'neither', 479: 'hours', 480: 'sunday', 481: 'two', 482: 'hour', 483: 'yeah', 484: 'bugger', 485: 'forgot', 486: 'washing', 487: 'machine', 488: 'sending', 489: 'blessings', 490: 'thoughts', 491: 'peace', 492: 'ah', 493: 'feeling', 494: 'dad', 495: 'nope', 496: 'boring', 497: 'p', 498: 'sounds', 499: 'thunder', 500: 'storm', 501: 'almost', 502: 'maybe', 503: 'home', 504: 'great', 505: 'excited', 506: 'ever', 507: 'messed', 508: 'iv', 509: 'hurt', 510: 'tooth', 511: 'cassie', 512: 'having', 513: 'drawing', 514: 'draw', 515: 'cookies', 516: 'l', 517: 'auditions', 518: 'text', 519: 'reply', 520: 'please', 521: 'secret', 522: 'need', 523: 'fixed', 524: 'illness', 525: 'following', 526: 'english', 527: 'tweet', 528: 'sir', 529: 'woulda', 530: 'honey', 531: 'any', 532: 'totally', 533: 'loved', 534: 'helped', 535: 'thru', 536: 'life', 537: 'finally', 538: 'call', 539: 'marriage', 540: 'why', 541: 'baby', 542: 're', 543: 'impromptu', 544: 'pool', 545: 'party', 546: 'except', 547: 'swim', 548: 'oww', 549: '1', 550: 'year', 551: 'phew', 552: 'make', 553: 'note', 554: 'else', 555: 'runs', 556: 'vote', 557: 'every', 558: 'diet', 559: 'killing', 560: 'talk', 561: 'far', 562: 'did', 563: 'sleep', 564: '4', 565: 'bit', 566: 'lately', 567: 'either', 568: 'replies', 569: 'turn', 570: 'voice', 571: 've', 572: 'heard', 573: 'fall', 574: 'more', 575: 'nightmares', 576: 'huggles', 577: 'creeper', 578: 'disappointed', 579: 'because', 580: 'skills', 581: 'headache', 582: 'grabbing', 583: 'coffee', 584: 'mom', 585: 'breakfast', 586: 'major', 587: 'chop', 588: 'updated', 589: 'hahaha', 590: 'crush', 591: 'saw', 592: 'james', 593: 'store', 594: 'yellow', 595: 'which', 596: 'means', 597: 'vancouver', 598: 'hahah', 599: 'smooth', 600: 'ew', 601: 'traffic', 602: 'downloading', 603: 'while', 604: 'trying', 605: 'sneak', 606: 'lil', 607: 'homework', 608: 'main', 609: 'priority', 610: 'realize', 611: 'mess', 612: 'happiest', 613: 'bike', 614: 'worse', 615: 'jonas', 616: 'brothers', 617: 'live', 618: 'rocking', 619: 'hard', 620: 'would', 621: 'exception', 622: 'short', 623: 'dude', 624: 'yum', 625: 'wolverine', 626: 'hopefully', 627: '6', 628: 'hmmm', 629: 'meant', 630: 'something', 631: 'brand', 632: 'media', 633: 'spa', 634: 'meeting', 635: 'always', 636: 'wanted', 637: 'oz', 638: 'thx', 639: 'luv', 640: 'okay', 641: 'dedicating', 642: 'fact', 643: 'apple', 644: 'huge', 645: 'crack', 646: 'glass', 647: 'screen', 648: 'only', 649: 'could', 650: 'actually', 651: 'turns', 652: 'sass', 653: 'long', 654: 'isn', 655: 'ahaha', 656: 'sports', 657: 'bar', 658: 'rest', 659: 'ph', 660: 'w', 661: 'whether', 662: 'helps', 663: 'google', 664: 'jai', 665: 'ho', 666: 'un', 667: 'seriously', 668: 'pain', 669: 'bring', 670: 'g', 671: 'challenge', 672: 'keep', 673: 'talking', 674: 'newbie', 675: 'died', 676: 'drive', 677: 'moms', 678: 'pick', 679: 'myself', 680: 'first', 681: 'shower', 682: 'followers', 683: 'down', 684: 'bottle', 685: 'juice', 686: 'amazing', 687: 'once', 688: 'brother', 689: 'news', 690: 'finished', 691: 'workout', 692: 'been', 693: 'band', 694: 'wonderful', 695: 'neighborhood', 696: 'another', 697: '60', 698: 'waited', 699: 'listening', 700: 'wind', 701: 'blowing', 702: 'none', 703: 'enough', 704: 'someone', 705: 'says', 706: 'hell', 707: 'shirt', 708: 'dinner', 709: 'ask', 710: 'does', 711: 'smelly', 712: 'noooo', 713: 'alex', 714: 'glad', 715: 'twittering', 716: 'after', 717: '2', 718: 'depressed', 719: 'lot', 720: 'he', 721: 'friendly', 722: 'hang', 723: 'neck', 724: 'jacked', 725: 'forced', 726: 'pay', 727: 'parking', 728: 'bc', 729: 'parallel', 730: 'park', 731: 'spaces', 732: 'bathing', 733: 'angels', 734: 'hahahha', 735: 'true', 736: 'remember', 737: 'bd', 738: 'date', 739: 'hanging', 740: 'them', 741: 'gorgeous', 742: 'worried', 743: 'red', 744: 'top', 745: 'build', 746: 'em', 747: 'knock', 748: 'girls', 749: 'minus', 750: 'made', 751: 'jumping', 752: 'joy', 753: 'simple', 754: 'uploaded', 755: 'cats', 756: 'missy', 757: 'adult', 758: 'kitty', 759: 'kitten', 760: 'heaven', 761: 'bound', 762: 'eggs', 763: 'learn', 764: 'ship', 765: 'stuck', 766: 'wait', 767: 'shame', 768: 'nan', 769: 'looks', 770: 'office', 771: 'tv', 772: 'mlb', 773: 'network', 774: 'empty', 775: 'handed', 776: 'comics', 777: 'found', 778: 'shall', 779: 'indulge', 780: 'cupcakes', 781: 'bakery', 782: 'definitely', 783: 'pinched', 784: 'nerve', 785: 'exhausting', 786: 'weekend', 787: 'very', 788: 'distracted', 789: 'taking', 790: 'trouble', 791: 'follow', 792: 'others', 793: 'feelin', 794: 'broke', 795: 'sure', 796: 'jst', 797: 'ur', 798: 'bday', 799: 'looked', 800: 'planning', 801: 'times', 802: 'amazin', 803: 'migraine', 804: 'whens', 805: 'sway', 806: 'winner', 807: 'announced', 808: 'k', 809: 'wake', 810: 'writing', 811: 'booo', 812: 'whoo', 813: 'daddy', 814: 'mommy', 815: 'officially', 816: 'realized', 817: 'msgs', 818: 'iphone', 819: 'exciting', 820: 'peter', 821: 'pieces', 822: 'wan', 823: 'hide', 824: 'die', 825: 'lmao', 826: 'threw', 827: 'partying', 828: 'agree', 829: 'hopeless', 830: 'everything', 831: 'perfect', 832: 'ma', 833: 'dang', 834: 'damnit', 835: 'boss', 836: 'moving', 837: 'nyc', 838: 'crazy', 839: 'stupid', 840: 'gig', 841: 'ireland', 842: 'ya', 843: 'aww', 844: 'hungry', 845: 'ps', 846: 'send', 847: 'direct', 848: 'messages', 849: 'telling', 850: 'ha', 851: 'beer', 852: 'garden', 853: 'wit', 854: 'ill', 855: 'btw', 856: 'phone', 857: 'using', 858: 'told', 859: 'b4', 860: 'might', 861: 'comes', 862: 'sadly', 863: 'cant', 864: 'dentist', 865: 'next', 866: 'week', 867: 'molar', 868: 'driving', 869: 'omg', 870: 'tango', 871: 'awsome', 872: 'real', 873: 'by', 874: 'smile', 875: 'face', 876: 'believe', 877: 'went', 878: 'without', 879: '19', 880: 'counting', 881: 'discovered', 882: 'gravity', 883: 'use', 884: 'twitpic', 885: 'doesn', 886: 'pic', 887: 'url', 888: '140', 889: 'character', 890: 'limit', 891: 'sunburn', 892: 'perky', 893: 'purple', 894: 'nail', 895: 'polish', 896: 'camera', 897: 'pit', 898: 'longer', 899: 'door', 900: 'caught', 901: 'cuddle', 902: 'dying', 903: 'original', 904: 'respect', 905: 'needs', 906: 'job', 907: 'passed', 908: 'away', 909: 'around', 910: 'ghost', 911: 'form', 912: 'pants', 913: 'idea', 914: 'attempt', 915: 'business', 916: 'popular', 917: 'dosen', 918: 'birthday', 919: 'massacre', 920: 'australia', 921: 'thinking', 922: 'lobster', 923: 'rice', 924: 'bread', 925: 'chili', 926: 'minds', 927: 'evening', 928: 'dear', 929: 'save', 930: 'packing', 931: 'tea', 932: 'mouth', 933: 'history', 934: 'pm', 935: 'friend', 936: 'entertain', 937: 'kill', 938: 'keys', 939: 'stopped', 940: 'tony', 941: 'goodmorning', 942: 'john', 943: 'taylor', 944: 'snake', 945: 'picture', 946: 'gone', 947: 'waterfront', 948: 'anymore', 949: 'loves', 950: 'mum', 951: 'poop', 952: 'cry', 953: 'sharing', 954: 'reader', 955: 'chilled', 956: 'spew', 957: 'seems', 958: 'these', 959: 'pray', 960: 'lord', 961: 'knows', 962: 'usa', 963: 'name', 964: 'makes', 965: 'rough', 966: 'mention', 967: 'photo', 968: 'sit', 969: 'wishing', 970: 'concert', 971: 'happened', 972: 'dammit', 973: 'forever', 974: '21', 975: 'couldn', 976: 'easy', 977: 'beautiful', 978: 'sharp', 979: 'usually', 980: 'positive', 981: '15', 982: 'mins', 983: 'lee', 984: 'paris', 985: 'lots', 986: 'bouncing', 987: 'rush', 988: 'nauseous', 989: 'lovely', 990: 'singstar', 991: 'fave', 992: 'weird', 993: 'daughter', 994: 'lacking', 995: 'under', 996: 'honeymoon', 997: 'moon', 998: 'swollen', 999: 'ago', 1000: 'realised', 1001: 'referring', 1002: 'exchange', 1003: 'lj', 1004: 'act', 1005: 'scared', 1006: 'missing', 1007: 'shops', 1008: 'cut', 1009: 'grass', 1010: 'plan', 1011: 'bedroom', 1012: 'random', 1013: 'sorr', 1014: 'hw', 1015: 'uploading', 1016: 'bamboozle', 1017: 'pictures', 1018: 'congratulations', 1019: 'woke', 1020: 'wack', 1021: 'acts', 1022: 'seeing', 1023: 'commute', 1024: 'sometimes', 1025: 'tips', 1026: 'wasn', 1027: 'chance', 1028: 'hates', 1029: 'support', 1030: 'android', 1031: 'tweetie', 1032: 'mother', 1033: 'fail', 1034: 'cards', 1035: 'already', 1036: 'packed', 1037: 'allergic', 1038: 'tonsils', 1039: 'dooo', 1040: 'tough', 1041: 'nah', 1042: 'hot', 1043: 'clean', 1044: 'fresh', 1045: 'wearing', 1046: 'dirty', 1047: 'clothes', 1048: 'half', 1049: 'men', 1050: 'many', 1051: 'cuz', 1052: 'grown', 1053: 'living', 1054: 'awwww', 1055: 'relaxing', 1056: 'place', 1057: 'cost', 1058: 'part', 1059: 'figure', 1060: 'aint', 1061: 'connecting', 1062: 'start', 1063: 'quiet', 1064: 'clearly', 1065: 'wishes', 1066: 'spare', 1067: 'cash', 1068: 'punch', 1069: 'wii', 1070: 'flight', 1071: 'sweet', 1072: 'dreams', 1073: 'hay', 1074: 'wats', 1075: 'aim', 1076: 'chat', 1077: 'kool', 1078: 'touring', 1079: 'happen', 1080: 'op', 1081: 'dead', 1082: 'grandma', 1083: 'since', 1084: 'america', 1085: 'wassup', 1086: 'dropped', 1087: 'bac', 1088: 'sunshine', 1089: 'anxiety', 1090: 'issues', 1091: 'attempts', 1092: 'somehow', 1093: 'extend', 1094: 'inner', 1095: 'classes', 1096: 'close', 1097: 'ref', 1098: 'atm', 1099: 'join', 1100: 'require', 1101: 'cupcake', 1102: 'donation', 1103: 'super', 1104: 'puffy', 1105: 'eyes', 1106: 'access', 1107: 'site', 1108: 'shinning', 1109: 'slowest', 1110: 'train', 1111: 'cd', 1112: 'whole', 1113: 'bunch', 1114: 'failure', 1115: 'wasnt', 1116: 'tierd', 1117: 'doesnt', 1118: 'population', 1119: 'world', 1120: 'mondays', 1121: 'mozart', 1122: 'requiem', 1123: 'physically', 1124: 'attracted', 1125: 'although', 1126: 'style', 1127: 'pissed', 1128: 'usual', 1129: 'bake', 1130: 'bueno', 1131: 'asap', 1132: 'uni', 1133: 'aren', 1134: 'again', 1135: 'body', 1136: 'beta', 1137: 'fabulous', 1138: 'tease', 1139: 'bet', 1140: 'heavens', 1141: 'ear', 1142: 'popping', 1143: 'answer', 1144: 'catching', 1145: 'weeks', 1146: 'grey', 1147: 'kinda', 1148: 'o', 1149: 'beach', 1150: 'yeaaaah', 1151: 'nothing', 1152: 'starts', 1153: 'hysterical', 1154: 'device', 1155: 'battery', 1156: 'goes', 1157: 'fully', 1158: 'charged', 1159: '5', 1160: 'michelle', 1161: 'mama', 1162: 'rock', 1163: 'likes', 1164: 'boiled', 1165: 'ugh', 1166: 'cell', 1167: 'quality', 1168: 'compared', 1169: 'miley', 1170: 'took', 1171: 'bless', 1172: 'hooked', 1173: 'everybody', 1174: 'ohhhh', 1175: 'nooooo', 1176: 'ms', 1177: 'edge', 1178: 'contributors', 1179: 'list', 1180: 'month', 1181: 'issue', 1182: 'ooo', 1183: 'growl', 1184: 'yummy', 1185: 'hunting', 1186: 'combo', 1187: 'tshirt', 1188: 'problem', 1189: 'hating', 1190: 'started', 1191: 'tee', 1192: 'limited', 1193: 'edition', 1194: 'different', 1195: 'ways', 1196: 'husband', 1197: 'vegas', 1198: 'ideas', 1199: 'places', 1200: 'kiwi', 1201: 'artist', 1202: 'oooo', 1203: 'havent', 1204: 'accepted', 1205: 'causes', 1206: 'available', 1207: 'area', 1208: 'prize', 1209: 'cramps', 1210: 'plans', 1211: 'followed', 1212: 'bought', 1213: 'outfit', 1214: 'where', 1215: 'rain', 1216: 'pleasure', 1217: 'fml', 1218: 'help', 1219: 'study', 1220: 'tests', 1221: 'cute', 1222: 'mariah', 1223: 'rebel', 1224: 'exam', 1225: 'license', 1226: 'renewed', 1227: 'closer', 1228: 'thinks', 1229: 'signing', 1230: 'evryone', 1231: 'gna', 1232: 'stone', 1233: 'cold', 1234: 'austin', 1235: 'withdrawl', 1236: 'symptoms', 1237: 'senior', 1238: 'further', 1239: 'lobby', 1240: 'dates', 1241: 'chicago', 1242: 'adele', 1243: 'laughing', 1244: 'wondering', 1245: 'college', 1246: 'against', 1247: 'uncle', 1248: 'scare', 1249: 'rachel', 1250: 'slap', 1251: 'simpsons', 1252: 'special', 1253: 'mad', 1254: 'wife', 1255: 'bodyshop', 1256: 'bringing', 1257: 'invite', 1258: 'instead', 1259: 'ben', 1260: 'lane', 1261: 'choose', 1262: 'gets', 1263: 'info', 1264: 'points', 1265: 'gear', 1266: 'question', 1267: 'posted', 1268: 'set', 1269: 'remind', 1270: 'jeans', 1271: 'wore', 1272: 'gives', 1273: 'movie', 1274: 'laptop', 1275: 'grew', 1276: 'speakers', 1277: 'charlie', 1278: 'sound', 1279: 'rofl', 1280: 'fab', 1281: 'deadlines', 1282: 'outside', 1283: 'won', 1284: 'till', 1285: 'screwed', 1286: 'laid', 1287: 'becoming', 1288: 'unemployed', 1289: 'anytime', 1290: 'lem', 1291: 'ran', 1292: 'gym', 1293: 'waking', 1294: 'kids', 1295: 'recording', 1296: 'studio', 1297: 'knew', 1298: 'disappointing', 1299: 'yep', 1300: 'anthropomorphic', 1301: 'planter', 1302: '31st', 1303: 'shut', 1304: 'stop', 1305: 'creative', 1306: 'stock', 1307: 'tweeting', 1308: 'celebrate', 1309: 'everbody', 1310: 'gd', 1311: 'wkend', 1312: '12', 1313: 'designed', 1314: 'welcome', 1315: 'mystery', 1316: 'blood', 1317: 'bathroom', 1318: 'toilet', 1319: 'hasn', 1320: 'replied', 1321: '20', 1322: 'amazi', 1323: 'tried', 1324: 'shoes', 1325: 'sisters', 1326: 'vet', 1327: 'magic', 1328: 'jack', 1329: 'woken', 1330: 'greatest', 1331: 'dinners', 1332: 'raining', 1333: 'class', 1334: 'care', 1335: 'gosh', 1336: 'hai', 1337: 'twitterverse', 1338: 'mothersday', 1339: 'hubby', 1340: 'houston', 1341: 'web', 1342: 'completely', 1343: 'dm', 1344: 'cable', 1345: 'lock', 1346: 'tad', 1347: 'neglected', 1348: 'silly', 1349: 'grace', 1350: 'god', 1351: 'works', 1352: 'remote', 1353: 'controls', 1354: 'hit', 1355: 'emergency', 1356: 'delay', 1357: 'sitting', 1358: 'flew', 1359: 'lax', 1360: 'lights', 1361: 'thoug', 1362: 'considering', 1363: 'hav', 1364: 'b', 1365: 'often', 1366: 'wash', 1367: 'speak', 1368: 'ended', 1369: 'own', 1370: 'disappeared', 1371: 'everywhere', 1372: 'ohhh', 1373: 'gahhh', 1374: 'fair', 1375: 'count', 1376: 'review', 1377: 'final', 1378: 'saying', 1379: 'fat', 1380: 'offer', 1381: 'anywhere', 1382: 'ch', 1383: 'fu', 1384: 'mitchel', 1385: 'costs', 1386: 'loads', 1387: 'england', 1388: 'yessir', 1389: '100', 1390: 'warm', 1391: 'vip', 1392: 'di', 1393: 'channel', 1394: 'straight', 1395: 'tasks', 1396: 'crowd', 1397: 'hmm', 1398: 'depends', 1399: 'thanx', 1400: 'patience', 1401: 'drop', 1402: 'parts', 1403: 'buddy', 1404: 'press', 1405: 'expensive', 1406: 'fellow', 1407: 'goodnight', 1408: 'hangover', 1409: 'ol', 1410: 'fry', 1411: 'boooo', 1412: 'starbucks', 1413: 'fourth', 1414: 'hols', 1415: 'chomp', 1416: 'terribly', 1417: 'starting', 1418: 'assignments', 1419: 'november', 1420: 'soak', 1421: 'stars', 1422: 'bk', 1423: 'august', 1424: 'alright', 1425: 'kk', 1426: 'aha', 1427: 'round', 1428: 'copy', 1429: 'public', 1430: 'contacts', 1431: 'personal', 1432: 'deal', 1433: 'update', 1434: 'hannah', 1435: 'montana', 1436: 'saturday', 1437: 'victim', 1438: 'slip', 1439: 'selling', 1440: 'mac', 1441: 'bits', 1442: 'couple', 1443: 'fire', 1444: 'urban', 1445: 'ba', 1446: 'jus', 1447: 'doin', 1448: 'shifts', 1449: 'amusing', 1450: 'strongly', 1451: 'jason', 1452: 'hugh', 1453: 'jackman', 1454: 'mouse', 1455: 'signal', 1456: 'mate', 1457: 'couldnt', 1458: 'pulled', 1459: 'walmart', 1460: 'aunt', 1461: 'searching', 1462: 'cook', 1463: 'staying', 1464: 'awake', 1465: 'arm', 1466: 'kind', 1467: 'mood', 1468: 'reason', 1469: 'mushy', 1470: 'behave', 1471: 'delayed', 1472: 'responses', 1473: 'between', 1474: 'rocky', 1475: 'mountains', 1476: 'dare', 1477: 'man', 1478: 'sorted', 1479: 'enjoying', 1480: 'favourite', 1481: 'charging', 1482: 'charger', 1483: 'congratulatory', 1484: 'invisible', 1485: 'boost', 1486: 'honest', 1487: 'side', 1488: 'randoms', 1489: 'bsb', 1490: 'american', 1491: 'idol', 1492: 'performance', 1493: 'windsor', 1494: 'june', 1495: 'felt', 1496: 'lazy', 1497: 'roll', 1498: 'thursday', 1499: 'shipping', 1500: 'carriers', 1501: 'cavs', 1502: '2night', 1503: 'lebron', 1504: 'killed', 1505: 'triple', 1506: 'double', 1507: 'thanxx', 1508: 'arent', 1509: 'poorly', 1510: 'st', 1511: 'picked', 1512: 'taco', 1513: 'guitar', 1514: 'sold', 1515: 'music', 1516: 'wants', 1517: 'notice', 1518: 'page', 1519: 'kewl', 1520: 'youtube', 1521: 'calling', 1522: 'xbox', 1523: 'drinking', 1524: 'texted', 1525: 'chasing', 1526: 'their', 1527: 'backyard', 1528: 'awwwww', 1529: 'legs', 1530: 'h', 1531: 'push', 1532: 'level', 1533: 'lb', 1534: 'gain', 1535: 'grandparents', 1536: 'chile', 1537: '9', 1538: 'c', 1539: 'winter', 1540: 'cali', 1541: 'born', 1542: 'prison', 1543: 'break', 1544: 'cried', 1545: 'understand', 1546: 'finale', 1547: 'excuse', 1548: 'afternoon', 1549: 'isnt', 1550: 'afraid', 1551: 'hee', 1552: 'exams', 1553: 'shows', 1554: 'awww', 1555: 'ball', 1556: 'sez', 1557: 'flights', 1558: 'heat', 1559: 'turned', 1560: 'human', 1561: 'classic', 1562: 'dj', 1563: 'pattern', 1564: 'may', 1565: 'yucky', 1566: 'lame', 1567: 'med', 1568: 'checked', 1569: 'strep', 1570: 'admire', 1571: 'inspire', 1572: 'logging', 1573: 'yet', 1574: 'doubt', 1575: 'content', 1576: 'moment', 1577: 'luck', 1578: 'student', 1579: 'figured', 1580: 'esther', 1581: 'polyester', 1582: 'semester', 1583: 'lexus', 1584: 'studying', 1585: 'grades', 1586: 'difference', 1587: 'bash', 1588: 'stick', 1589: 'ut', 1590: 'eclipse', 1591: 'tweeten', 1592: 'greece', 1593: 'sunny', 1594: 'xd', 1595: 'refused', 1596: 'entry', 1597: 'id', 1598: 'gutted', 1599: 'tempted', 1600: 'babe', 1601: 'reading', 1602: 'fallen', 1603: 'apart', 1604: 'nxt', 1605: 'wk', 1606: 'track', 1607: 'fallin', 1608: 'strange', 1609: 'bloody', 1610: 'sum', 1611: 'itchy', 1612: 'flat', 1613: 'tire', 1614: 'unread', 1615: 'emails', 1616: 'yaay', 1617: 'waste', 1618: 'able', 1619: 'breathe', 1620: 'ff', 1621: 'chiodos', 1622: 'inside', 1623: 'grove', 1624: 'village', 1625: 'smart', 1626: 'especially', 1627: 'ppl', 1628: 'goooooood', 1629: 'loveeee', 1630: 'grateful', 1631: 'heart', 1632: 'burn', 1633: 'th', 1634: 'drunk', 1635: 'mail', 1636: 'address', 1637: 'touched', 1638: 'hrs', 1639: 'fly', 1640: 'singapore', 1641: 'air', 1642: 'positivity', 1643: 'regret', 1644: 'forsure', 1645: 'sent', 1646: 'dunno', 1647: 'credit', 1648: 'thts', 1649: 'leaving', 1650: 'medium', 1651: 'light', 1652: 'frappuccino', 1653: 'nom', 1654: 'become', 1655: 'myspace', 1656: 'worth', 1657: 'clever', 1658: 'extremely', 1659: 'amount', 1660: '24', 1661: 'loosing', 1662: 'jonathan', 1663: 'danny', 1664: 'momma', 1665: 'purse', 1666: 'photos', 1667: 'aw', 1668: 'toy', 1669: 'nooooooooo', 1670: 'yall', 1671: 'sooooo', 1672: 'dis', 1673: 'number', 1674: 'dashboard', 1675: '16th', 1676: 'aaawww', 1677: 'worries', 1678: 'slow', 1679: 'hahahah', 1680: 'plus', 1681: 'likely', 1682: 'evie', 1683: '30', 1684: 'freakin', 1685: 'anthony', 1686: 'product', 1687: 'lovelies', 1688: 'breaks', 1689: 'koi', 1690: 'fish', 1691: 'attention', 1692: 'kidding', 1693: 'respond', 1694: 'karma', 1695: 'musicmonday', 1696: 'attitude', 1697: 'invented', 1698: 'hallmark', 1699: 'bus', 1700: 'boys', 1701: 'ordering', 1702: 'white', 1703: 'chocolate', 1704: 'banana', 1705: 'pudding', 1706: 'lets', 1707: 'magento', 1708: 'flash', 1709: 'bein', 1710: 'lived', 1711: 'moved', 1712: 'shouldn', 1713: 'bank', 1714: 'holidays', 1715: 'x', 1716: 'hugs', 1717: 'flies', 1718: 'interview', 1719: 'badly', 1720: 'grans', 1721: 'amt', 1722: 'spammers', 1723: 'bell', 1724: 'rang', 1725: 'wen', 1726: 'okayy', 1727: 'idk', 1728: 'safari', 1729: 'os', 1730: 'crash', 1731: 'loop', 1732: 'cookie', 1733: 'saving', 1734: 'firefox', 1735: 'tan', 1736: 'sl', 1737: 'goin', 1738: 'falling', 1739: 'fewer', 1740: 'kisses', 1741: 'smacked', 1742: 'presentation', 1743: 'christmas', 1744: 'collecting', 1745: 'dust', 1746: 'balancing', 1747: 'chin', 1748: 'sixth', 1749: 'common', 1750: 'room', 1751: 'hung', 1752: 'balls', 1753: 'niceee', 1754: 'goodbye', 1755: 'audrey', 1756: 'fairness', 1757: 'post', 1758: 'offline', 1759: 'joke', 1760: 'wont', 1761: 'mind', 1762: 'nasty', 1763: 'display', 1764: 'math', 1765: 'seniors', 1766: 'fifteen', 1767: 'fever', 1768: 'jello', 1769: 'channing', 1770: 'tatum', 1771: 'lappy', 1772: 'sux', 1773: 'arms', 1774: 'golf', 1775: 'course', 1776: 'shoot', 1777: 'hurry', 1778: 'tuesday', 1779: 'guilty', 1780: 'icarly', 1781: 'aye', 1782: '4th', 1783: 'suns', 1784: 'suppose', 1785: 'comments', 1786: 'jog', 1787: 'exercise', 1788: 'dublin', 1789: 'putting', 1790: 'anything', 1791: 'salad', 1792: 'full', 1793: 'dan', 1794: 'babysitting', 1795: 'urgh', 1796: 'cafe', 1797: 'claude', 1798: 'canceled', 1799: 'macbook', 1800: 'adorable', 1801: 'producers', 1802: 'hero', 1803: 'afford', 1804: 'cup', 1805: 'tmrw', 1806: 'yup', 1807: 'dianne', 1808: 'claudia', 1809: 'active', 1810: 'dr', 1811: 'cheeks', 1812: 'ears', 1813: 'yeaaa', 1814: 'link', 1815: 'noone', 1816: 'colorful', 1817: 'ive', 1818: 'seen', 1819: 'somebody', 1820: 'goo', 1821: 'suck', 1822: 'pie', 1823: 'running', 1824: 'naked', 1825: 'streets', 1826: 'zealand', 1827: 'loving', 1828: 'behind', 1829: 'episodes', 1830: 'horses', 1831: 'sister', 1832: 'softball', 1833: 'wong', 1834: 'ping', 1835: 'pong', 1836: 'ding', 1837: 'ate', 1838: 'yey', 1839: 'wtf', 1840: 'stolen', 1841: 'sheep', 1842: 'record', 1843: 'dum', 1844: 'emotional', 1845: 'speed', 1846: 'lessons', 1847: 'center', 1848: 'court', 1849: 'dressed', 1850: 'ryan', 1851: 'italy', 1852: 'wedding', 1853: 'march', 1854: 'export', 1855: 'upload', 1856: 'share', 1857: 'thinkin', 1858: 'charge', 1859: 'dslr', 1860: 'bury', 1861: 'ours', 1862: 'six', 1863: 'fourteen', 1864: 'years', 1865: 'grrrr', 1866: 'outta', 1867: 'frankie', 1868: 'kirk', 1869: 'hotter', 1870: 'search', 1871: 'coupons', 1872: 'mm', 1873: 'jeffree', 1874: '1st', 1875: 'midnight', 1876: 'thurs', 1877: 'jay', 1878: 'leno', 1879: 'anyway', 1880: 'swine', 1881: 'flu', 1882: 'oceans', 1883: 'jimmy', 1884: 'jon', 1885: 'slides', 1886: 'swing', 1887: 'climbing', 1888: 'wall', 1889: 'built', 1890: 'understands', 1891: 'dayyyy', 1892: 'singer', 1893: 'sort', 1894: 'guilt', 1895: 'vids', 1896: 'audio', 1897: 'shine', 1898: 'feeding', 1899: 'cooking', 1900: 'sleepin', 1901: 'vintage', 1902: 'realizing', 1903: 'months', 1904: 'applications', 1905: 'fault', 1906: 'gigs', 1907: 'motivation', 1908: 'returning', 1909: 'rate', 1910: 'smaller', 1911: 'scott', 1912: 'champagne', 1913: 'gift', 1914: 'ther', 1915: 'forget', 1916: 'cinnamon', 1917: 'pains', 1918: 'buying', 1919: 'pair', 1920: 'library', 1921: 'equivalent', 1922: 'clock', 1923: 'somewhere', 1924: 'desk', 1925: 'coo', 1926: 'damned', 1927: 'awesomeness', 1928: 'ahhhh', 1929: 'rite', 1930: 'hat', 1931: 'club', 1932: 'gim', 1933: 'company', 1934: 'result', 1935: 'subject', 1936: 'line', 1937: 'texts', 1938: 'tongue', 1939: 'along', 1940: 'teeth', 1941: 'awe', 1942: 'french', 1943: 'toast', 1944: 'sticks', 1945: 'guy', 1946: 'grade', 1947: '9am', 1948: 'ups', 1949: 'shake', 1950: 'haven', 1951: '40', 1952: 'freezing', 1953: 'wherever', 1954: 'endure', 1955: 'point', 1956: 'ty', 1957: 'quashed', 1958: 'movies', 1959: 'united', 1960: 'kingdom', 1961: 'breaking', 1962: 'dawn', 1963: 'lovingly', 1964: 'showed', 1965: 'sushi', 1966: 'mix', 1967: 'pups', 1968: 'parents', 1969: 'feels', 1970: 'private', 1971: 'lettin', 1972: 'drove', 1973: 'asses', 1974: 'chandler', 1975: 'film', 1976: 'women', 1977: 'films', 1978: 'middle', 1979: 'messy', 1980: 'george', 1981: 'however', 1982: 'advice', 1983: 'wrong', 1984: 'whats', 1985: 'controversial', 1986: 'spend', 1987: 'west', 1988: 'ard', 1989: 'puts', 1990: 'refuses', 1991: 'beyond', 1992: 'cheap', 1993: 'grill', 1994: 'bbq', 1995: 'laugh', 1996: 'giggle', 1997: 'chicken', 1998: 'pizza', 1999: 'deep', 2000: 'dish', 2001: 'hear', 2002: 'ish', 2003: 'heavy', 2004: 'needed', 2005: 'dash', 2006: 'spirits', 2007: 'iced', 2008: 'latte', 2009: 'mr', 2010: 'seasons', 2011: 'noticed', 2012: 'previous', 2013: 'sis', 2014: 'sauce', 2015: 'que', 2016: 'msn', 2017: 'camping', 2018: 'fishing', 2019: 'together', 2020: 'wed', 2021: 'trip', 2022: 'lake', 2023: 'race', 2024: 'camp', 2025: 'total', 2026: 'option', 2027: 'spamming', 2028: 'followfriday', 2029: 'pull', 2030: 'weeds', 2031: 'sight', 2032: 'praying', 2033: 'humble', 2034: 'dangerous', 2035: 'bonjour', 2036: 'twitterland', 2037: 'crying', 2038: 'insane', 2039: 'byebye', 2040: 'blocks', 2041: 'hockey', 2042: 'rich', 2043: 'overcast', 2044: 'xmen', 2045: 'orange', 2046: 'pulp', 2047: 'pigs', 2048: 'risking', 2049: 'development', 2050: 'flying', 2051: 'pig', 2052: 'awesomely', 2053: 'wool', 2054: 'reboot', 2055: 'hibernate', 2056: 'bootcamp', 2057: 'dryer', 2058: 'electric', 2059: 'gas', 2060: 'grrr', 2061: 'load', 2062: 'return', 2063: 'justice', 2064: 'talent', 2065: 'voted', 2066: 'ad', 2067: 'plates', 2068: 'bird', 2069: 'hoo', 2070: 'gun', 2071: 'ab', 2072: 'circle', 2073: 'anddd', 2074: 'box', 2075: 'f', 2076: 'enthusiastic', 2077: 'hold', 2078: 'changed', 2079: 'hands', 2080: 'tool', 2081: 'nerd', 2082: 'no1', 2083: 'followin', 2084: 'sum1', 2085: 'deleted', 2086: 'due', 2087: 'activities', 2088: 'gardening', 2089: 'dragged', 2090: 'argue', 2091: 'complain', 2092: 'drugs', 2093: 'patient', 2094: 'fans', 2095: 'costume', 2096: 'mental', 2097: 'rotten', 2098: 'fam', 2099: 'sweetheart', 2100: 'niggas', 2101: 'talkin', 2102: 'da', 2103: 'ey', 2104: 'video', 2105: 'vid', 2106: 'mo', 2107: 'monday', 2108: 'opinion', 2109: 'headed', 2110: 'complete', 2111: 'books', 2112: 'arrived', 2113: 'entertaining', 2114: 'nights', 2115: 'dvd', 2116: 'per', 2117: 'lovelovelove', 2118: 'message', 2119: 'finishing', 2120: 'vh1', 2121: 'soul', 2122: 'water', 2123: 'difficult', 2124: 'donate', 2125: 'ahhhhh', 2126: 'methinks', 2127: 'doll', 2128: 'quotes', 2129: 'physics', 2130: 'rude', 2131: 'awful', 2132: 'props', 2133: 'awfully', 2134: 'nooo', 2135: 'developing', 2136: 'small', 2137: 'heehee', 2138: 'second', 2139: 'upset', 2140: 'surgery', 2141: 'recovery', 2142: 'expected', 2143: 'lawn', 2144: 'service', 2145: 'eric', 2146: 'avatar', 2147: 'hitting', 2148: 'interested', 2149: 'piss', 2150: 'flap', 2151: 'treating', 2152: 'cover', 2153: 'mite', 2154: 'bak', 2155: 'rob', 2156: 'boat', 2157: 'yer', 2158: 'hunny', 2159: 'nao', 2160: 'meet', 2161: 'bloggers', 2162: 'tapeworm', 2163: 'snuggle', 2164: 'whack', 2165: 'ruined', 2166: 'jr', 2167: 'four', 2168: 'wh', 2169: 'productive', 2170: 'timing', 2171: 'hence', 2172: 'smiley', 2173: 'hong', 2174: 'shade', 2175: 'kills', 2176: 'worst', 2177: 'sober', 2178: 'journey', 2179: 'sry', 2180: 'hurting', 2181: 'experience', 2182: 'apologies', 2183: 'um', 2184: 'role', 2185: 'model', 2186: 'growing', 2187: 'loading', 2188: 'oops', 2189: 'cause', 2190: 'weekends', 2191: 'cuppa', 2192: 'gooood', 2193: 'hereeeeee', 2194: 'imma', 2195: 'la', 2196: 'florida', 2197: 'misses', 2198: '6th', 2199: 'graders', 2200: 'appreciated', 2201: 'exactly', 2202: 'northern', 2203: 'vacation', 2204: 'follower', 2205: 'dark', 2206: 'makin', 2207: 'during', 2208: 'washed', 2209: 'eye', 2210: 'usb', 2211: 'nothin', 2212: 'verizon', 2213: 'fone', 2214: 'nite', 2215: 'painting', 2216: 'yrs', 2217: 'seem', 2218: 'hoedown', 2219: 'throwdown', 2220: 'piece', 2221: 'gah', 2222: 'satisfied', 2223: '09', 2224: 'ima', 2225: 'finish', 2226: 'client', 2227: 'tech', 2228: 'anybody', 2229: 'vista', 2230: 'sp2', 2231: 'multiple', 2232: 'skins', 2233: 'gt', 2234: 'members', 2235: 'nightmare', 2236: 'hack', 2237: 'redo', 2238: 'woe', 2239: 'soy', 2240: 'milk', 2241: 'cocoa', 2242: 'aswel', 2243: 'properly', 2244: 'shiny', 2245: 'failing', 2246: 'ummm', 2247: 'faith', 2248: 'marathon', 2249: 'crossed', 2250: 'sorta', 2251: 'gave', 2252: 'skin', 2253: 'cancer', 2254: 'overrated', 2255: 'blocked', 2256: 'move', 2257: 'process', 2258: 'motion', 2259: 'frustrated', 2260: 'comfortable', 2261: 'yesh', 2262: 'potato', 2263: 'cos', 2264: 'reality', 2265: 'hosp', 2266: 'rubbish', 2267: 'cardiff', 2268: 'directions', 2269: 'kay', 2270: 'swift', 2271: 'nathan', 2272: 'tour', 2273: 'walking', 2274: 'shopping', 2275: 'meets', 2276: 'entire', 2277: 'breath', 2278: 'decision', 2279: 'brooke', 2280: 'hyper', 2281: 'girly', 2282: 'polar', 2283: 'bears', 2284: 'bust', 2285: 'happ', 2286: 'headaches', 2287: 'situation', 2288: 'decided', 2289: 'meds', 2290: 'prefer', 2291: 'fuzzy', 2292: 'clear', 2293: 'caleb', 2294: 'insurance', 2295: 'tattoo', 2296: 'touch', 2297: 'literally', 2298: 'junk', 2299: 'everr', 2300: 'filipino', 2301: 'fitting', 2302: 'infection', 2303: 'hopefull', 2304: 'accept', 2305: 'industry', 2306: 'ohio', 2307: 'innocent', 2308: 'unfollowed', 2309: 'empire', 2310: 'scary', 2311: 'gadget', 2312: 'easier', 2313: 'lakers', 2314: 'ftw', 2315: 'nick', 2316: 'broken', 2317: 'bgt', 2318: 'soo', 2319: 'wa', 2320: 'creek', 2321: 'ahh', 2322: 'retweet', 2323: 'sync', 2324: 'outlook', 2325: 'san', 2326: 'diego', 2327: 'surf', 2328: 'proud', 2329: 'episode', 2330: 'details', 2331: 'radio', 2332: 'disney', 2333: 'latest', 2334: 'kid', 2335: 'loss', 2336: 'cat', 2337: 'visa', 2338: 'effects', 2339: 'lookin', 2340: 'permanent', 2341: 'et', 2342: 'finger', 2343: 'apparently', 2344: 'dog', 2345: 'green', 2346: 'album', 2347: 'serious', 2348: 'escape', 2349: 'town', 2350: 'mmmm', 2351: 'incredibly', 2352: 'less', 2353: 'mistake', 2354: 'spongebob', 2355: 'sucky', 2356: 'color', 2357: 'sexy', 2358: 'card', 2359: 'gold', 2360: 'yours', 2361: 'hosted', 2362: 'fridge', 2363: 'golden', 2364: 'dress', 2365: 'chai', 2366: 'rained', 2367: 'miami', 2368: 'subway', 2369: 'mmm', 2370: 'sowwie', 2371: 'ti', 2372: 'partied', 2373: 'mornin', 2374: 'stomach', 2375: 'ache', 2376: 'july', 2377: '8th', 2378: 'winning', 2379: 'impatient', 2380: 'waitin', 2381: 'budget', 2382: 'paid', 2383: 'bills', 2384: 'electricity', 2385: 'woot', 2386: '10pm', 2387: 'international', 2388: 'space', 2389: 'station', 2390: 'texas', 2391: 'eat', 2392: 'contemplate', 2393: 'holds', 2394: 'accomplished', 2395: '16', 2396: 'sm', 2397: 'hawaii', 2398: 'front', 2399: 'belinda', 2400: 'bf', 2401: 'glue', 2402: 'anyways', 2403: '17', 2404: 'looong', 2405: 'minimum', 2406: 'requirements', 2407: 'sims', 2408: 'decide', 2409: 'leg', 2410: 'coast', 2411: 'stint', 2412: 'missions', 2413: 'meaning', 2414: 'li', 2415: 'ot', 2416: 'protect', 2417: 'worldwide', 2418: 'birds', 2419: 'upside', 2420: 'lmk', 2421: 'splendid', 2422: 'bump', 2423: 'unable', 2424: 'muster', 2425: 'energy', 2426: 'sundays', 2427: 'essay', 2428: 'written', 2429: 'references', 2430: 'snl', 2431: 'justin', 2432: 'timberlake', 2433: 'dedicated', 2434: 'server', 2435: 'slice', 2436: 'sql', 2437: 'blues', 2438: 'hadn', 2439: 'held', 2440: 'onto', 2441: 'debit', 2442: 'spoilt', 2443: '11', 2444: 'woo', 2445: 'alas', 2446: 'stoked', 2447: 'horse', 2448: 'dollar', 2449: 'practice', 2450: 'er', 2451: 'fairly', 2452: 'whispering', 2453: 'workin', 2454: '150', 2455: 'drag', 2456: 'slammed', 2457: 'trunk', 2458: 'trek', 2459: 'twhirl', 2460: 'tweetdeck', 2461: 'filter', 2462: 'peeps', 2463: 'ii', 2464: 'grr', 2465: 'oooh', 2466: 'aiden', 2467: 'woohoo', 2468: 'bummed', 2469: 'amaze', 2470: 'digital', 2471: 'detox', 2472: 'skint', 2473: 'johnny', 2474: 'invited', 2475: 'stressful', 2476: 'geee', 2477: 'blast', 2478: 'lisa', 2479: 'ahahah', 2480: 'urge', 2481: 'person', 2482: 'blink', 2483: 'general', 2484: 'art', 2485: 'quiz', 2486: 'compensate', 2487: 'toddler', 2488: 'yaaaaaay', 2489: 'depressing', 2490: 'evolution', 2491: 'beats', 2492: 'drinks', 2493: 'jury', 2494: 'duty', 2495: '2009', 2496: 'annoyed', 2497: 'freckles', 2498: 'father', 2499: 'ordered', 2500: 'celebrities', 2501: 'cholesterol', 2502: 'tumors', 2503: 'loaded', 2504: 'salvation', 2505: 'corner', 2506: 'fast', 2507: 'dump', 2508: 'dangggg', 2509: 'romeo', 2510: 'bryant', 2511: 'period', 2512: 'scratchy', 2513: 'co', 2514: 'host', 2515: 'gray', 2516: 'sudden', 2517: 'besties', 2518: 'geez', 2519: 'obvious', 2520: 'suggest', 2521: 'wives', 2522: 'nuts', 2523: 'three', 2524: 'shots', 2525: 'lift', 2526: 'starving', 2527: 'aparently', 2528: 'recover', 2529: 'windows', 2530: 'visible', 2531: 'microsoft', 2532: 'fear', 2533: 'jared', 2534: 'hug', 2535: 'listen', 2536: 'canada', 2537: 'website', 2538: 'tasty', 2539: 'rum', 2540: 'earlier', 2541: 'chosen', 2542: 'child', 2543: 'interviewed', 2544: 'spent', 2545: 'dream', 2546: 'delicious', 2547: 'meal', 2548: 'landed', 2549: 'noises', 2550: 'book', 2551: 'report', 2552: 'added', 2553: 'dyed', 2554: 'blackberry', 2555: 'fantastic', 2556: 'az', 2557: 'taste', 2558: 'otherwise', 2559: 'heh', 2560: 'talks', 2561: 'wee', 2562: 'itt', 2563: 'iz', 2564: 'doggy', 2565: 'uses', 2566: 'browser', 2567: 'copies', 2568: 'song', 2569: 'lack', 2570: 'damp', 2571: 'cba', 2572: 'ohwell', 2573: 'failed', 2574: 'tweeps', 2575: 'jk', 2576: 'ooh', 2577: 'ouch', 2578: 'blisters', 2579: 'perfection', 2580: 'tune', 2581: 'present', 2582: 'wasssup', 2583: 'recognize', 2584: 'gmail', 2585: 'testing', 2586: 'loooong', 2587: '8am', 2588: 'assume', 2589: 'truth', 2590: 'nervous', 2591: 'toll', 2592: 'uncomfortable', 2593: 'ducks', 2594: 'upon', 2595: 'morrissey', 2596: 'brixton', 2597: 'postponed', 2598: 'fwd', 2599: 'slowly', 2600: 'gettin', 2601: 'supernatural', 2602: 'hunt', 2603: '630', 2604: 'tag', 2605: '50', 2606: 'tags', 2607: 'walk', 2608: '7', 2609: 'pages', 2610: 'champs', 2611: 'season', 2612: 'flags', 2613: 'mushroom', 2614: 'bbl', 2615: 'boyfriend', 2616: 'angry', 2617: 'vegan', 2618: 'intense', 2619: 'trending', 2620: 'topics', 2621: 'recorded', 2622: 'tame', 2623: 'hated', 2624: 'words', 2625: 'spending', 2626: 'pals', 2627: 'cruel', 2628: 'sometime', 2629: 'whoa', 2630: 'whores', 2631: 'superman', 2632: 'beside', 2633: 'philippines', 2634: 'lay', 2635: 'todays', 2636: 'bluetooth', 2637: 'brief', 2638: 'cs4', 2639: 'prints', 2640: 'appreciation', 2641: 'script', 2642: 'rly', 2643: 'pro', 2644: 'stable', 2645: 'trent', 2646: 'reznor', 2647: 'title', 2648: 'aliens', 2649: 'craig', 2650: 'rise', 2651: 'clicked', 2652: 'spam', 2653: 'sea', 2654: 'cordova', 2655: 'rez', 2656: 'everyday', 2657: 'freaking', 2658: 'ri', 2659: 'nba', 2660: 'lonely', 2661: 'cherry', 2662: 'italian', 2663: 'heyya', 2664: 'create', 2665: 'sudoku', 2666: 'watchin', 2667: 'hike', 2668: 'knee', 2669: 'ignored', 2670: 'fiona', 2671: '25', 2672: 'screaming', 2673: 'plz', 2674: 'knowing', 2675: 'darn', 2676: 'language', 2677: 'stops', 2678: 'gross', 2679: 'holding', 2680: 'fluffy', 2681: 'towel', 2682: 'dry', 2683: 'self', 2684: 'tummy', 2685: 'london', 2686: 'sense', 2687: 'china', 2688: 'helpful', 2689: 'pan', 2690: 'teach', 2691: 'chinese', 2692: 'pee', 2693: 'kickin', 2694: 'butt', 2695: 'competition', 2696: 'soup', 2697: 'blessed', 2698: 'wisdom', 2699: 'unique', 2700: 'anywho', 2701: 'pug', 2702: 'hopes', 2703: 'played', 2704: 'steak', 2705: 'heyyyyy', 2706: 'drew', 2707: 'mon', 2708: 'helping', 2709: 'nighttt', 2710: 'ily', 2711: 'ugly', 2712: 'bye', 2713: 'ghosts', 2714: 'girlfriends', 2715: 'predictable', 2716: 'damage', 2717: 'disturbance', 2718: 'hilarious', 2719: 'politicians', 2720: 'stories', 2721: 'city', 2722: 'guessing', 2723: 'andy', 2724: 'owner', 2725: '1000', 2726: 'belgian', 2727: 'wifi', 2728: 'blogging', 2729: 'cheer', 2730: 'trailer', 2731: 'removed', 2732: 'lasted', 2733: 'intern', 2734: 'sat', 2735: 'tehe', 2736: '9th', 2737: 'ashamed', 2738: 'california', 2739: 'smells', 2740: 'sincerely', 2741: 'mcfly', 2742: 'parody', 2743: 'chris', 2744: 'ladies', 2745: 'lub', 2746: 'hehe', 2747: 'thnx', 2748: 'neil', 2749: 'essays', 2750: 'important', 2751: 'adem', 2752: 'vcr', 2753: 'stephen', 2754: 'king', 2755: 'sho', 2756: 'reeeally', 2757: 'icant', 2758: 'stand', 2759: 'deserve', 2760: 'step', 2761: 'min', 2762: 'cg', 2763: 'spot', 2764: 'gnight', 2765: 'bugs', 2766: 'liked', 2767: '26', 2768: 'festival', 2769: 'rejected', 2770: 'w00t', 2771: 'proudly', 2772: 'downloaded', 2773: 'eee', 2774: 'pc', 2775: 'settings', 2776: 'kick', 2777: 'above', 2778: 'lorraine', 2779: 'recently', 2780: 'strawberries', 2781: 'icons', 2782: 'revision', 2783: 'cooperating', 2784: 'sittin', 2785: 'appreciate', 2786: 'learned', 2787: 'lesson', 2788: 'neighbor', 2789: 'wknd', 2790: 'gona', 2791: 'steady', 2792: 'income', 2793: 'nine', 2794: 'happier', 2795: 'delays', 2796: 'negative', 2797: 'serve', 2798: 'phuket', 2799: 'thailand', 2800: 'cereal', 2801: '2am', 2802: 'unpleasant', 2803: 'eh', 2804: 'picking', 2805: 'cotton', 2806: 'jealousy', 2807: 'bro', 2808: 'switch', 2809: 'tiring', 2810: 'famous', 2811: 'bill', 2812: 'bailey', 2813: 'discount', 2814: 'code', 2815: 'actual', 2816: 'heartbreak', 2817: 'jeff', 2818: 'hiding', 2819: 'behalf', 2820: 'mod', 2821: 'chad', 2822: 'impressive', 2823: 'correct', 2824: 'laundry', 2825: 'speech', 2826: 'arg', 2827: 'feet', 2828: 'calls', 2829: 'taken', 2830: 'aol', 2831: '96', 2832: 'coincidence', 2833: 'basically', 2834: 'doubled', 2835: 'tis', 2836: 'former', 2837: 'stubborn', 2838: 'sweetie', 2839: 'ohh', 2840: 'yeahh', 2841: 'pr', 2842: 'incredible', 2843: 'omelette', 2844: 'dvds', 2845: 'csi', 2846: 'careful', 2847: 'hiya', 2848: 'hows', 2849: 'tourist', 2850: 'bio', 2851: 'honor', 2852: 'de', 2853: 'montreal', 2854: 'typical', 2855: 'training', 2856: 'dc', 2857: 'paranoid', 2858: 'performed', 2859: 'version', 2860: 'lumberjack', 2861: 'comcast', 2862: 'crappy', 2863: 'par', 2864: 'doctor', 2865: 'appointment', 2866: 'stalking', 2867: 'saynow', 2868: 'yayy', 2869: 'jbs', 2870: 'canadian', 2871: 'killers', 2872: 'remembered', 2873: 'managed', 2874: 'chill', 2875: 'bob', 2876: '18th', 2877: 'miserable', 2878: 'weak', 2879: 'twitterville', 2880: 'enjoyed', 2881: 'pearl', 2882: 'xoxo', 2883: 'possibly', 2884: 'lafayette', 2885: 'nd', 2886: 'updating', 2887: '0', 2888: 'useless', 2889: 'havin', 2890: 'passing', 2891: 'maryland', 2892: 'tight', 2893: 'utter', 2894: 'shite', 2895: 'bee', 2896: 'yahoo', 2897: 'shape', 2898: 'stale', 2899: 'sweets', 2900: 'reminds', 2901: 'classics', 2902: 'wabble', 2903: 'enterprise', 2904: 'mrs', 2905: 'creepy', 2906: 'nto', 2907: 'tweeters', 2908: 'sacramento', 2909: 'continue', 2910: '2008', 2911: 'window', 2912: 'posts', 2913: 'poo', 2914: 'comment', 2915: 'inspired', 2916: 'sa', 2917: 'grab', 2918: 'tip', 2919: 'bi', 2920: 'rf', 2921: 'target', 2922: 'near', 2923: 'tooo', 2924: 'hendrix', 2925: 'seattle', 2926: 'joint', 2927: 'complicated', 2928: 'tank', 2929: 'wolf', 2930: 'meme', 2931: 'fabric', 2932: 'ain', 2933: 'nod', 2934: 'writers', 2935: 'notes', 2936: 'shift', 2937: 'pocket', 2938: 'accident', 2939: 'member', 2940: 'street', 2941: 'soft', 2942: 'centre', 2943: 'sidewalk', 2944: 'harvard', 2945: 'square', 2946: 'hand', 2947: 'keen', 2948: 'forest', 2949: 'opera', 2950: 'wild', 2951: 'herself', 2952: 'vaccines', 2953: 'envy', 2954: 'spoiled', 2955: 'explain', 2956: 'worked', 2957: 'insomnia', 2958: 'finest', 2959: 'chillin', 2960: 'mel', 2961: 'shud', 2962: 'ik', 2963: 'needing', 2964: 'virus', 2965: 'software', 2966: 'daily', 2967: 'chilling', 2968: '10am', 2969: 'focus', 2970: 'weren', 2971: 'venue', 2972: 'fangirl', 2973: 'president', 2974: 'effing', 2975: 'single', 2976: 'million', 2977: 'dollars', 2978: 'mobile', 2979: 'brit', 2980: 'epic', 2981: 'shorts', 2982: 'phones', 2983: 'choice', 2984: 'idiot', 2985: 'sing', 2986: 'regretting', 2987: 'knitting', 2988: 'needles', 2989: 'normally', 2990: 'non', 2991: 'recent', 2992: 'novels', 2993: 'october', 2994: 'buffett', 2995: 'videos', 2996: 'genius', 2997: 'nursing', 2998: 'scratches', 2999: 'mud', 3000: 'swear', 3001: 'dirt', 3002: 'obama', 3003: 'via', 3004: 'mayb', 3005: 'fix', 3006: 'culture', 3007: 'yard', 3008: 'aches', 3009: 'connection', 3010: 'young', 3011: 'ripped', 3012: 'avoiding', 3013: 'sydney', 3014: 'diamond', 3015: 'force', 3016: 'wheres', 3017: 'cobra', 3018: 'starship', 3019: 'suggestion', 3020: 'nvm', 3021: 'mutual', 3022: 'society', 3023: 'neighbours', 3024: 'brought', 3025: 'hudgens', 3026: 'seat', 3027: 'entered', 3028: 'mode', 3029: 'apartment', 3030: 'temporary', 3031: 'jelous', 3032: 'theatre', 3033: '3d', 3034: 'celebrating', 3035: 'itsucks', 3036: 'cam', 3037: 'chillaxing', 3038: 'delete', 3039: 'bands', 3040: 'teenagers', 3041: 'nearly', 3042: 'conversation', 3043: 'domestic', 3044: 'partner', 3045: 'maxim', 3046: 'takes', 3047: 'cancel', 3048: 'backup', 3049: 'planes', 3050: 'follows', 3051: 'saddest', 3052: 'comm', 3053: 'twitters', 3054: 'mammals', 3055: 'produce', 3056: 'series', 3057: 'team', 3058: 'dallas', 3059: 'derby', 3060: 'talented', 3061: 'audition', 3062: 'anna', 3063: 'spray', 3064: 'lady', 3065: 'thankfully', 3066: 'yess', 3067: 'hr', 3068: 'fries', 3069: 'faces', 3070: 'cubs', 3071: 'miller', 3072: 'tonights', 3073: 'prolly', 3074: 'jamba', 3075: 'thirty', 3076: 'shop', 3077: 'awhile', 3078: 'airport', 3079: 'aching', 3080: 'showers', 3081: 'srry', 3082: 'hun', 3083: 'soldiers', 3084: 'tesco', 3085: 'fav', 3086: 'promising', 3087: 'oven', 3088: 'blerg', 3089: 'wooo', 3090: 'nuggets', 3091: 'pj', 3092: 'dayy', 3093: 'relatively', 3094: 'heal', 3095: 'americans', 3096: 'system', 3097: 'cleaned', 3098: 'spammer', 3099: '3rd', 3100: 'nina', 3101: 'reminded', 3102: 'blown', 3103: 'closed', 3104: 'cloudy', 3105: 'wanting', 3106: 'sunburnt', 3107: 'frustrating', 3108: 'bruised', 3109: 'grounded', 3110: 'truly', 3111: 'besides', 3112: 'themselves', 3113: 'each', 3114: 'shell', 3115: 'scrub', 3116: 'showering', 3117: 'en', 3118: 'michael', 3119: 'jackson', 3120: 'chillen', 3121: 'madison', 3122: 'abit', 3123: 'ashleigh', 3124: 'soonish', 3125: 'toss', 3126: 'tom', 3127: 'rocks', 3128: 'socks', 3129: 'careless', 3130: 'chip', 3131: 'whew', 3132: 'rc', 3133: 'sounding', 3134: 'action', 3135: 'age', 3136: 'questions', 3137: 'logic', 3138: 'x3', 3139: 'horribly', 3140: 'drained', 3141: 'angle', 3142: 'marley', 3143: 'unless', 3144: 'hd', 3145: 'political', 3146: 'throw', 3147: 'knocked', 3148: 'abt', 3149: 'begun', 3150: 'students', 3151: 'union', 3152: 'truck', 3153: 'treats', 3154: 'demons', 3155: 'mostly', 3156: 'deck', 3157: 'confused', 3158: 'crispy', 3159: 'waffles', 3160: 'twitterena', 3161: 'thomas', 3162: 'gunna', 3163: 'torta', 3164: 'los', 3165: 'weigh', 3166: 'miserably', 3167: 'pack', 3168: 'relay', 3169: 'possible', 3170: 'earned', 3171: 'erin', 3172: 'bug', 3173: 'colorado', 3174: 'hello', 3175: 'ca', 3176: 'asking', 3177: 'breathing', 3178: 'tgif', 3179: 'used', 3180: 'sam', 3181: 'numb', 3182: 'loner', 3183: 'speaks', 3184: 'bliss', 3185: 'adventure', 3186: 'treatment', 3187: 'yoga', 3188: 'healthy', 3189: 'warped', 3190: 'mag', 3191: 'fest', 3192: 'jelly', 3193: 'fond', 3194: 'memories', 3195: 'kittens', 3196: 'balloon', 3197: 'txt', 3198: 'joys', 3199: 'dmv', 3200: 'stood', 3201: 'heels', 3202: 'twittered', 3203: 'ring', 3204: 'ashleighhh', 3205: 'cruise', 3206: 'wayne', 3207: 'triste', 3208: 'screw', 3209: 'booked', 3210: 'price', 3211: 'lo', 3212: 'legend', 3213: '31', 3214: 'medicine', 3215: 'joe', 3216: '1am', 3217: 'curious', 3218: 'cab', 3219: 'brave', 3220: 'match', 3221: 'cyrus', 3222: 'ach', 3223: 'ly', 3224: 'planting', 3225: 'photoshop', 3226: 'auto', 3227: 'suv', 3228: 'https', 3229: 'effort', 3230: 'loveee', 3231: 'rat', 3232: 'mirrors', 3233: 'management', 3234: 'refreshing', 3235: 'entering', 3236: 'keyboard', 3237: 'whiskey', 3238: 'bots', 3239: 'retweets', 3240: 'sign', 3241: 'local', 3242: 'tommorow', 3243: 'collect', 3244: 'gurl', 3245: 'greet', 3246: 'swimming', 3247: 'tanning', 3248: 'slower', 3249: 'replying', 3250: 'bb', 3251: 'yourself', 3252: 'pancakes', 3253: 'bette', 3254: 'bride', 3255: 'rockin', 3256: 'reception', 3257: 'button', 3258: 'yumm', 3259: 'fed', 3260: 'goodness', 3261: 'pinch', 3262: 'roast', 3263: 'wednesday', 3264: 'rehearsal', 3265: 'cheesecake', 3266: 'sic', 3267: 'planned', 3268: 'sub', 3269: 'ross', 3270: 'laurie', 3271: 'folks', 3272: 'nephew', 3273: 'twilight', 3274: 'saddened', 3275: 'imagine', 3276: 'cinema', 3277: 'layout', 3278: 'default', 3279: 'plurk', 3280: 'themes', 3281: 'pero', 3282: 'ko', 3283: 'font', 3284: 'giant', 3285: 'wet', 3286: 'nose', 3287: 'ny', 3288: 'oct', 3289: '2010', 3290: 'agreed', 3291: 'animal', 3292: 'tnx', 3293: 'immediately', 3294: 'paying', 3295: 'nowhere', 3296: 'jobs', 3297: 'heartbroken', 3298: 'chapter', 3299: 'kiyosaki', 3300: 'cleaner', 3301: 'confusing', 3302: 'e3', 3303: 'g4', 3304: 'basic', 3305: 'premium', 3306: 'survive', 3307: '8', 3308: 'j', 3309: 'hopin', 3310: 'belong', 3311: 'appt', 3312: '4pm', 3313: 'powerful', 3314: 'tackle', 3315: 'ng', 3316: 'appropriate', 3317: 'concur', 3318: 'clouds', 3319: 'reborn', 3320: 'takers', 3321: 'block', 3322: 'hiii', 3323: 'meditate', 3324: 'effective', 3325: 'burning', 3326: 'honour', 3327: 'starwarsday', 3328: 'fired', 3329: 'player', 3330: 'glory', 3331: 'salt', 3332: 'vinegar', 3333: 'waaa', 3334: 'pfff', 3335: 'sucksss', 3336: 'myrtle', 3337: 'sc', 3338: '45', 3339: 'salute', 3340: 'al', 3341: 'mashed', 3342: 'potatoes', 3343: 'rub', 3344: 'moi', 3345: 'smashed', 3346: 'wgn', 3347: 'calm', 3348: 'dope', 3349: 'ilove', 3350: 'program', 3351: '90', 3352: 'goodluck', 3353: 'stole', 3354: 'offf', 3355: 'yu', 3356: 'lives', 3357: 'roots', 3358: 'syndrome', 3359: 'overheating', 3360: 'hacked', 3361: 'seemed', 3362: 'suspicious', 3363: 'britney', 3364: 'bff', 3365: 'theme', 3366: 'fortunately', 3367: 'learning', 3368: 'originally', 3369: 'including', 3370: 'south', 3371: 'beginning', 3372: 'profile', 3373: 'grand', 3374: 'washer', 3375: 'se', 3376: 'mami', 3377: 'fancy', 3378: 'gg', 3379: 'screwing', 3380: 'lovee', 3381: 'grandpa', 3382: 'imo', 3383: 'trade', 3384: 'livin', 3385: 'nightshift', 3386: 'creating', 3387: 'jewelry', 3388: 'walks', 3389: 'magnificent', 3390: 'restrictions', 3391: 'mikey', 3392: 'thin', 3393: 'cheese', 3394: 'olives', 3395: 'storms', 3396: 'hoodie', 3397: 'showin', 3398: 'greg', 3399: 'directing', 3400: 'esp', 3401: 'daylight', 3402: 'moan', 3403: 'standing', 3404: 'slight', 3405: 'rarely', 3406: 'log', 3407: 'heated', 3408: 'misss', 3409: 'loser', 3410: 'everyoneeeee', 3411: 'handsome', 3412: 'twitts', 3413: 'mines', 3414: 'shot', 3415: 'editing', 3416: 'currently', 3417: 'trash', 3418: 'dreamt', 3419: 'monsters', 3420: '24hrs', 3421: 'snap', 3422: 'afterwards', 3423: 'cringe', 3424: 'blahh', 3425: 'kiddies', 3426: 'bestie', 3427: 'sites', 3428: 'contact', 3429: 'nicky', 3430: 'mates', 3431: 'fails', 3432: 'voting', 3433: 'chips', 3434: 'din', 3435: 'instant', 3436: 'launch', 3437: 'hiking', 3438: 'trekking', 3439: 'rainy', 3440: 'figuring', 3441: 'adsense', 3442: 'indian', 3443: 'govt', 3444: 'publishers', 3445: 'shadow', 3446: 'realistic', 3447: 'tennessee', 3448: 'singing', 3449: 'ashley', 3450: 'scream', 3451: 'chunky', 3452: 'beef', 3453: 'impression', 3454: 'considerably', 3455: 'slightly', 3456: 'disturbed', 3457: 'hotness', 3458: 'older', 3459: 'download', 3460: 'suggestions', 3461: 'states', 3462: 'dun', 3463: 'urs', 3464: 'county', 3465: '14', 3466: 'definately', 3467: 'te', 3468: 'fake', 3469: 'upcoming', 3470: 'election', 3471: 'twice', 3472: 'documents', 3473: 'expenses', 3474: 'grub', 3475: 'surprising', 3476: 'injured', 3477: 'wooooo', 3478: 'twitterberry', 3479: 'revise', 3480: 'berry', 3481: 'rabbit', 3482: 'younger', 3483: 'lauren', 3484: 'hills', 3485: 'pass', 3486: 'idiots', 3487: 'refresh', 3488: 'laying', 3489: 'fox', 3490: 'options', 3491: 'leaves', 3492: 'september', 3493: 'repeat', 3494: 'actress', 3495: 'poked', 3496: 'nemo', 3497: 'yo', 3498: 'loveeeee', 3499: 'youu', 3500: 'humor', 3501: '2nd', 3502: 'qld', 3503: 'teaching', 3504: 'baseball', 3505: 'plain', 3506: 'impressed', 3507: 'position', 3508: 'toys', 3509: 'prototype', 3510: 'pat', 3511: 'kenny', 3512: 'focused', 3513: 'barack', 3514: 'votes', 3515: 'whip', 3516: 'released', 3517: 'europe', 3518: 'sac', 3519: 'overtime', 3520: 'dig', 3521: 'wwe', 3522: 'wrestler', 3523: 'cousin', 3524: 'daaay', 3525: 'solution', 3526: 'involving', 3527: 'tape', 3528: 'rome', 3529: 'tricky', 3530: 'drives', 3531: 'wireless', 3532: 'farm', 3533: 'guessed', 3534: 'luke', 3535: 'pets', 3536: 'church', 3537: 'mall', 3538: 'backpack', 3539: 'fit', 3540: 'married', 3541: 'playin', 3542: 'lovey', 3543: 'printer', 3544: 'stuffed', 3545: 'twiiter', 3546: 'erm', 3547: 'fountain', 3548: 'keeping', 3549: 'regular', 3550: 'coke', 3551: 'unfortunate', 3552: 'reminding', 3553: 'strategic', 3554: 'maps', 3555: 'deliver', 3556: 'value', 3557: 'texting', 3558: 'holly', 3559: 'parties', 3560: 'quit', 3561: 'attend', 3562: 'martini', 3563: 'glasses', 3564: 'road', 3565: 'taipei', 3566: 'dreamwidth', 3567: 'vs', 3568: 'twits', 3569: 'hamilton', 3570: 'prom', 3571: 'playlist', 3572: 'melbourne', 3573: 'jb', 3574: 'hardly', 3575: 'martin', 3576: 'ski', 3577: 'blind', 3578: 'degree', 3579: 'bs', 3580: 'article', 3581: 'ip', 3582: 'necessary', 3583: 'teams', 3584: 'missin', 3585: 'headin', 3586: '7am', 3587: 'lah', 3588: 'bleh', 3589: 'obsessed', 3590: 'christian', 3591: 'artists', 3592: 'sympathy', 3593: 'nest', 3594: 'bud', 3595: 'bg', 3596: 'trust', 3597: 'pepsi', 3598: 'pepper', 3599: 'error', 3600: 'correction', 3601: 'shining', 3602: 'password', 3603: 'login', 3604: 'pw', 3605: 'boooooooo', 3606: 'exited', 3607: 'concern', 3608: 'luckily', 3609: 'versions', 3610: 'newcastle', 3611: 'aidan', 3612: 'chu', 3613: 'indiana', 3614: 'katie', 3615: 'sayin', 3616: 'scratch', 3617: 'chest', 3618: 'lies', 3619: 'breast', 3620: 'hah', 3621: 'death', 3622: 'evil', 3623: 'gaining', 3624: 'losing', 3625: 'brings', 3626: 'island', 3627: 'staring', 3628: 'joan', 3629: 'estate', 3630: 'input', 3631: 'mic', 3632: 'qualifying', 3633: 'hole', 3634: 'regions', 3635: 'overdue', 3636: 'argentina', 3637: 'obviously', 3638: 'female', 3639: 'ang', 3640: 'tragic', 3641: 'sob', 3642: 'holla', 3643: 'insanely', 3644: 'mis', 3645: 'ss', 3646: 'buddies', 3647: 'cracking', 3648: 'league', 3649: 'apps', 3650: 'iam', 3651: 'brittany', 3652: 'grad', 3653: 'probobly', 3654: 'yelled', 3655: 'lighter', 3656: 'amy', 3657: 'marvelous', 3658: 'crushed', 3659: 'dye', 3660: 'bleach', 3661: 'topic', 3662: 'alison', 3663: 'perhaps', 3664: 'clients', 3665: 'heads', 3666: 'saga', 3667: 'charm', 3668: 'giving', 3669: 'visit', 3670: 'ooops', 3671: 'children', 3672: 'devastated', 3673: '3wordsaftersex', 3674: 'ow', 3675: 'rug', 3676: 'burns', 3677: 'ends', 3678: 'cycling', 3679: 'puppy', 3680: 'results', 3681: 'feed', 3682: 'law', 3683: 'strong', 3684: 'collection', 3685: 'rip', 3686: '2nite', 3687: '2b', 3688: 'bath', 3689: 'anne', 3690: 'surely', 3691: 'racket', 3692: 'stairs', 3693: 'several', 3694: 'bones', 3695: 'quick', 3696: 'entertained', 3697: 'pork', 3698: 'inability', 3699: 'sales', 3700: 'beans', 3701: 'disapointed', 3702: 'driver', 3703: 'handy', 3704: 'lie', 3705: 'cow', 3706: 'gf', 3707: 'male', 3708: 'nurse', 3709: 'wave', 3710: 'trend', 3711: 'higher', 3712: 'bing', 3713: 'impossible', 3714: 'task', 3715: 'prank', 3716: 'alive', 3717: 'comic', 3718: 'phenomenon', 3719: 'finals', 3720: 'theres', 3721: 'britains', 3722: 'shouts', 3723: 'heaps', 3724: 'edinburgh', 3725: 'biased', 3726: 'india', 3727: 'micro', 3728: 'lab', 3729: 'individual', 3730: 'bacteria', 3731: 'teehee', 3732: 'halo', 3733: 'brazil', 3734: 'rents', 3735: 'delivered', 3736: 'earphones', 3737: 'shocked', 3738: 'liking', 3739: 'noise', 3740: 'table', 3741: 'blonde', 3742: 'rubbing', 3743: 'field', 3744: 'order', 3745: 'dat', 3746: 'ova', 3747: 'excellent', 3748: 'release', 3749: 'confirmed', 3750: 'exhausted', 3751: 'dissapointed', 3752: 'ja', 3753: 'personally', 3754: 'mans', 3755: 'brain', 3756: 'blank', 3757: 'willing', 3758: 'met', 3759: 'clubbing', 3760: 'problems', 3761: 'depress', 3762: 'current', 3763: 'wallet', 3764: 'tupac', 3765: 'mountain', 3766: 'dew', 3767: 'throwback', 3768: 'bottles', 3769: 'nap', 3770: 'sunniest', 3771: 'ages', 3772: 'refuse', 3773: 'master', 3774: 'happiness', 3775: 'bubble', 3776: 'cambodian', 3777: 'changs', 3778: 'trains', 3779: 'superstar', 3780: 'knooow', 3781: 'sail', 3782: 'atl', 3783: 'ikea', 3784: 'cancelled', 3785: 'ebay', 3786: 'mile', 3787: 'rule', 3788: 'leather', 3789: 'trousers', 3790: 'hostage', 3791: 'h1n1', 3792: 'knox', 3793: 'ky', 3794: 'panic', 3795: 'somewhat', 3796: 'future', 3797: 'warmed', 3798: 'discuss', 3799: 'seconds', 3800: 'linux', 3801: 'bore', 3802: 'es', 3803: 'omfg', 3804: 'elses', 3805: 'locked', 3806: 'silence', 3807: 'sorrry', 3808: '2moro', 3809: 'letters', 3810: 'nfg', 3811: 'schedule', 3812: 'pokes', 3813: 'gm', 3814: 'tax', 3815: 'wise', 3816: 'simply', 3817: 'ra', 3818: '5th', 3819: 'drums', 3820: 'peoples', 3821: 'sets', 3822: 'safely', 3823: 'attics', 3824: 'logo', 3825: 'brown', 3826: 'sink', 3827: 'photography', 3828: 'exhibition', 3829: 'argh', 3830: 'any1', 3831: 'lying', 3832: 'cus', 3833: 'relax', 3834: 'moore', 3835: 'lungs', 3836: '3am', 3837: 'shoulder', 3838: 'pumps', 3839: 'dumb', 3840: 'pin', 3841: 'mexican', 3842: 'bowling', 3843: 'blame', 3844: 'prove', 3845: 'himself', 3846: 'turtle', 3847: 'fishes', 3848: 'cud', 3849: 'mock', 3850: 'glasgow', 3851: 'seats', 3852: 'doc', 3853: '23', 3854: 'happening', 3855: 'kicked', 3856: 'bunny', 3857: 'diversity', 3858: 'todayyyyyy', 3859: 'compare', 3860: 'alarm', 3861: 'scheduled', 3862: 'cough', 3863: 'leavin', 3864: 'ye', 3865: 'dem', 3866: 'tryed', 3867: 'imax', 3868: 'allow', 3869: 'robin', 3870: 'aight', 3871: 'pissing', 3872: 'makeup', 3873: 'gud', 3874: 'lili', 3875: 'homie', 3876: '75', 3877: 'exact', 3878: 'babies', 3879: 'heap', 3880: 'tu', 3881: 'sack', 3882: 'tracks', 3883: 'popularity', 3884: 'contest', 3885: 'eight', 3886: 'junior', 3887: 'whoops', 3888: 'entertainment', 3889: 'ultra', 3890: 'firmware', 3891: 'installed', 3892: '48', 3893: 'gloom', 3894: '333', 3895: 'ev', 3896: 'malaysian', 3897: 'useful', 3898: 'forgetting', 3899: 'desktop', 3900: 'twitterific', 3901: 'terrific', 3902: '2day', 3903: 'unpaid', 3904: 'taxi', 3905: 'cashier', 3906: 'hulu', 3907: 'el', 3908: 'nkotb', 3909: 'bag', 3910: 'coolest', 3911: 'setting', 3912: 'scroll', 3913: 'bottom', 3914: 'twitterfon', 3915: 'jesus', 3916: 'christ', 3917: 'prayers', 3918: 'pub', 3919: 'invitation', 3920: 'madness', 3921: 'chef', 3922: 'ending', 3923: 'recovering', 3924: 'francisco', 3925: 'social', 3926: 'discovery', 3927: 'downside', 3928: 'thread', 3929: 'wo', 3930: 'ego', 3931: 'pjs', 3932: 'continually', 3933: 'knocking', 3934: 'crashed', 3935: 'rb', 3936: 'sesh', 3937: 'stayed', 3938: 'hon', 3939: 'rules', 3940: 'colleague', 3941: 'dms', 3942: 'pix', 3943: 'musical', 3944: 'actor', 3945: 'recommend', 3946: 'flats', 3947: 'niece', 3948: 'planted', 3949: '400', 3950: 'bumped', 3951: 'domain', 3952: 'award', 3953: 'funniest', 3954: 'converter', 3955: 'ed', 3956: 'lm', 3957: 'shes', 3958: 'spain', 3959: 'tbh', 3960: 'lap', 3961: 'eve', 3962: 'vaca', 3963: 'closing', 3964: 'eek', 3965: 'smiles', 3966: 'blanket', 3967: 'shed', 3968: 'skirt', 3969: 'thankful', 3970: 'lyrics', 3971: 'research', 3972: 'edmonton', 3973: 'podcast', 3974: 'resist', 3975: 'terminal', 3976: 'thier', 3977: 'roses', 3978: 'offering', 3979: 'yuk', 3980: 'blue', 3981: 'dizzy', 3982: 'five', 3983: 'noodles', 3984: 'fried', 3985: 'wouldn', 3986: 'gossip', 3987: 'fiasco', 3988: 'include', 3989: 'sadness', 3990: 'intended', 3991: 'context', 3992: 'barely', 3993: 'ughhhh', 3994: 'east', 3995: 'wrapped', 3996: 'midterms', 3997: '7th', 3998: 'cutie', 3999: 'bracelet', 4000: 'stranger', 4001: 'admitting', 4002: 'niley', 4003: 'kiss', 4004: 'amazes', 4005: 'wales', 4006: 'regarding', 4007: 'mastered', 4008: 'technique', 4009: 'byeeeee', 4010: 'dilemma', 4011: 'sanfran', 4012: 'foggy', 4013: '58', 4014: 'wheels', 4015: 'tends', 4016: 'revising', 4017: 'costa', 4018: 'mark', 4019: 'muffins', 4020: 'neat', 4021: 'stress', 4022: 'supporting', 4023: 'smoking', 4024: 'lung', 4025: 'unlucky', 4026: 'dogs', 4027: 'meeeee', 4028: 'celebrity', 4029: 'handle', 4030: 'demi', 4031: 'coz', 4032: 'raimi', 4033: 'faster', 4034: 'slave', 4035: 'sleepover', 4036: 'wine', 4037: 'query', 4038: 'raise', 4039: 'trips', 4040: 'twit', 4041: 'fridays', 4042: 'banking', 4043: 'floor', 4044: 'twpp', 4045: 'bagel', 4046: '27th', 4047: 'starwars', 4048: 'paul', 4049: 'eventful', 4050: 'wrote', 4051: 'surprise', 4052: 'lower', 4053: 'odd', 4054: 'expecting', 4055: 'broadway', 4056: 'advanced', 4057: 'grow', 4058: 'woman', 4059: 'relaxin', 4060: 'cent', 4061: 'william', 4062: 'toes', 4063: 'refreshed', 4064: 'forgive', 4065: 'aware', 4066: 'yesss', 4067: 'background', 4068: 'construction', 4069: 'downtown', 4070: 'pink', 4071: 'yeh', 4072: 'resting', 4073: 'stressed', 4074: 'magazine', 4075: 'harddrive', 4076: 'image', 4077: 'database', 4078: 'term', 4079: 'paper', 4080: 'chit', 4081: 'chatting', 4082: 'projects', 4083: 'warren', 4084: 'crawl', 4085: 'exist', 4086: 'begins', 4087: 'economy', 4088: 'response', 4089: 'appeal', 4090: 'ahead', 4091: 'barry', 4092: 'worrying', 4093: 'va', 4094: 'struggling', 4095: 'mummy', 4096: 'todd', 4097: 'pasta', 4098: 'juss', 4099: 'thus', 4100: 'virtual', 4101: 'worlds', 4102: 'nova', 4103: 'tn', 4104: 'ughhh', 4105: 'rope', 4106: 'effect', 4107: 'burnt', 4108: 'plane', 4109: 'alot', 4110: 'ultimate', 4111: 'event', 4112: 'ignore', 4113: 'prosper', 4114: 'techno', 4115: 'shuffle', 4116: 'loud', 4117: '800', 4118: 'suicide', 4119: 'boredom', 4120: 'closeness', 4121: 'distance', 4122: 'distant', 4123: 'loft', 4124: 'traumatized', 4125: 'stealth', 4126: 'skillz', 4127: 'rear', 4128: 'yew', 4129: 'shoutout', 4130: 'dubai', 4131: 'settle', 4132: 'dance', 4133: 'berlin', 4134: 'arrival', 4135: 'haircut', 4136: 'ciao', 4137: 'blow', 4138: 'soz', 4139: 'geography', 4140: 'laodicean', 4141: 'kavya', 4142: 'spelling', 4143: 'crown', 4144: 'hol', 4145: 'nooooooo', 4146: 'retiring', 4147: 'kidney', 4148: '35', 4149: 'boxing', 4150: 'hollywood', 4151: 'quizzes', 4152: 'grocery', 4153: 'stinks', 4154: 'wot', 4155: 'morn', 4156: 'travesty', 4157: 'numbers', 4158: 'dated', 4159: 'v', 4160: 'building', 4161: 'eww', 4162: 'dislike', 4163: 'ing', 4164: 'thousand', 4165: 'surviving', 4166: 'annoy', 4167: 'straighten', 4168: 'decent', 4169: '67', 4170: 'complaints', 4171: 'across', 4172: 'package', 4173: 'asus', 4174: 'sings', 4175: 'dodger', 4176: 'games', 4177: 'chica', 4178: 'holy', 4179: 'naw', 4180: 'grilled', 4181: 'gnite', 4182: 'twitties', 4183: 'hayfever', 4184: 'womp', 4185: 'nails', 4186: 'joyfull', 4187: 'nico', 4188: 'cnt', 4189: 'plants', 4190: 'shooting', 4191: 'daisy', 4192: 'shy', 4193: 'ac', 4194: 'repair', 4195: 'bright', 4196: 'cartoons', 4197: 'land', 4198: 'def', 4199: 'plug', 4200: 'stretch', 4201: 'nightly', 4202: 'scan', 4203: 'graduated', 4204: 'someday', 4205: 'disgusted', 4206: 'baron', 4207: 'cuuuute', 4208: 'fella', 4209: 'watered', 4210: 'pumped', 4211: '06', 4212: 'howard', 4213: 'happens', 4214: 'obsession', 4215: 'bleed', 4216: 'woops', 4217: 'personality', 4218: 'gots', 4219: 'customer', 4220: 'attack', 4221: '4d', 4222: 'ttyl', 4223: 'haters', 4224: 'seventeen', 4225: 'trampoline', 4226: 'kimba', 4227: 'certain', 4228: 'groups', 4229: 'korea', 4230: 'dnt', 4231: 'knw', 4232: 'drama', 4233: 'babes', 4234: 'fields', 4235: 'sim', 4236: 'transfer', 4237: 'core', 4238: 'youre', 4239: 'yday', 4240: '5pm', 4241: 'anita', 4242: 'tree', 4243: 'athens', 4244: 'utterly', 4245: 'wi', 4246: 'skype', 4247: 'beating', 4248: 'row', 4249: 'corrupted', 4250: 'cap', 4251: 'hip', 4252: 'hop', 4253: 'ww', 4254: 'treadmill', 4255: 'install', 4256: 'schools', 4257: 'kevin', 4258: 'stat', 4259: 'fyi', 4260: 'riot', 4261: 'veggie', 4262: 'burgers', 4263: 'disagree', 4264: 'beast', 4265: 'beyonce', 4266: 'nicole', 4267: 'geek', 4268: 'boiling', 4269: 'youuu', 4270: 'vancity', 4271: 'shizz', 4272: 'prince', 4273: 'sleeps', 4274: 'routine', 4275: 'jet', 4276: 'lag', 4277: 'thanking', 4278: 'awkward', 4279: 'situations', 4280: 'satellite', 4281: 'winds', 4282: 'blew', 4283: 'aunts', 4284: 'cart', 4285: 'si', 4286: 'struggle', 4287: 'drake', 4288: 'impersonal', 4289: 'mcdonald', 4290: 'cheetos', 4291: 'wizard', 4292: 'spinach', 4293: 'dip', 4294: 'hotel', 4295: 'bebo', 4296: 'click', 4297: 'timeline', 4298: 'alllll', 4299: 'sony', 4300: 'sweetest', 4301: 'familiar', 4302: 'project', 4303: 'fill', 4304: 'elsewhere', 4305: 'intentionally', 4306: 'rogers', 4307: 'state', 4308: 'parks', 4309: 'temp', 4310: 'biting', 4311: 'bali', 4312: 'jt', 4313: 'bsg', 4314: 'weekly', 4315: 'movement', 4316: 'funnn', 4317: 'status', 4318: 'carry', 4319: 'thankyou', 4320: 'stack', 4321: 'gilbert', 4322: 'queens', 4323: 'bklyn', 4324: 'revenge', 4325: 'wings', 4326: 'southend', 4327: 'solo', 4328: 'dey', 4329: 'climb', 4330: 'plays', 4331: 'niceeeee', 4332: 'vacuum', 4333: 'snow', 4334: 'delivery', 4335: 'ui', 4336: 'answers', 4337: 'albums', 4338: 'hog', 4339: 'audience', 4340: 'advance', 4341: 'designers', 4342: 'connected', 4343: 'standards', 4344: 'maths', 4345: 'slices', 4346: 'developed', 4347: 'schedules', 4348: 'exploring', 4349: 'plots', 4350: 'knife', 4351: 'replacing', 4352: 'ken', 4353: 'onion', 4354: 'homeless', 4355: 'named', 4356: 'ruby', 4357: 'sandwich', 4358: 'deed', 4359: 'wht', 4360: 'nonsense', 4361: 'workshop', 4362: 'willy', 4363: 'david', 4364: 'hmmmm', 4365: 'minneapolis', 4366: 'brad', 4367: 'baking', 4368: 'rolls', 4369: 'palm', 4370: 'pre', 4371: 'dies', 4372: 'philosophical', 4373: 'official', 4374: 'atleast', 4375: 'braid', 4376: 'thee', 4377: 'blond', 4378: 'cases', 4379: 'decides', 4380: 'visits', 4381: 'elle', 4382: 'rap', 4383: 'matthew', 4384: 'jungle', 4385: 'mary', 4386: 'poppins', 4387: 'depending', 4388: 'manly', 4389: 'z', 4390: 'everytime', 4391: 'russians', 4392: 'russian', 4393: 'metal', 4394: 'bat', 4395: 'object', 4396: 'xo', 4397: 'emma', 4398: 'learnt', 4399: '2morrow', 4400: 'bangs', 4401: 'gents', 4402: 'disappointment', 4403: 'roof', 4404: 'travis', 4405: 'clark', 4406: 'ppls', 4407: 'bucks', 4408: 'af', 4409: 'freaky', 4410: 'pity', 4411: 'ton', 4412: 'asthma', 4413: 'pastors', 4414: 'chew', 4415: 'kicking', 4416: 'sean', 4417: 'japanese', 4418: 'pride', 4419: 'terminator', 4420: 'susan', 4421: 'ack', 4422: 'wiped', 4423: '18', 4424: 'lines', 4425: 'canterbury', 4426: 'tales', 4427: 'whoop', 4428: 'scene', 4429: '10th', 4430: 'foolish', 4431: 'tuna', 4432: 'dragon', 4433: 'ruled', 4434: 'maxed', 4435: 'drops', 4436: 'stream', 4437: 'hearing', 4438: 'internal', 4439: 'fuse', 4440: 'waves', 4441: 'admit', 4442: 'pointing', 4443: 'aaron', 4444: 'christine', 4445: 'evr', 4446: 'vp', 4447: 'shirts', 4448: 'nt', 4449: 'err', 4450: 'worksheet', 4451: 'science', 4452: 'wb', 4453: 'sniffle', 4454: 'mitch', 4455: 'command', 4456: 'apply', 4457: 'jays', 4458: 'charity', 4459: 'changing', 4460: 'redhead', 4461: 'size', 4462: 'finaly', 4463: 'pen', 4464: 'jam', 4465: 'cleared', 4466: 'wonders', 4467: 'counter', 4468: 'comp', 4469: 'rant', 4470: 'tumblr', 4471: 'gums', 4472: 'ne', 4473: 'design', 4474: 'portfolio', 4475: 'tweaking', 4476: 'cheating', 4477: 'flick', 4478: 'skip', 4479: 'alice', 4480: '200', 4481: 'paint', 4482: 'nobody', 4483: 'archuleta', 4484: 'bother', 4485: 'theory', 4486: 'wikipedia', 4487: 'attacked', 4488: 'smoothly', 4489: 'hubs', 4490: 'bummer', 4491: 'chocolates', 4492: 'mid', 4493: 'section', 4494: 'ds', 4495: 'heyy', 4496: 'necklace', 4497: 'graduate', 4498: 'wah', 4499: 'tscc', 4500: 'pls', 4501: 'shhh', 4502: 'progress', 4503: 'jo', 4504: 'upgrade', 4505: 'stadium', 4506: 'madly', 4507: 'misplaced', 4508: 'indeed', 4509: 'kitties', 4510: '11pm', 4511: 'saddd', 4512: 'relaxed', 4513: 'rested', 4514: 'created', 4515: 'flickr', 4516: 'dreaded', 4517: 'crispies', 4518: '6pm', 4519: 'workplace', 4520: 'upgraded', 4521: 'exceeded', 4522: 'invites', 4523: 'congratulation', 4524: 'gre', 4525: 'ten', 4526: 'homes', 4527: 'hitman', 4528: 'demo', 4529: 'goood', 4530: 'motivated', 4531: 'cheered', 4532: 'given', 4533: 'hehehe', 4534: 'belly', 4535: 'wayyy', 4536: 'charlotte', 4537: 'thrown', 4538: 'wut', 4539: 'closet', 4540: 'ug', 4541: 'belated', 4542: 'lead', 4543: 'uve', 4544: 'posh', 4545: 'installing', 4546: 'commercial', 4547: 'tokyo', 4548: 'violently', 4549: 'confirmation', 4550: 'experiment', 4551: 'relying', 4552: 'greenville', 4553: 'ruth', 4554: 'wonderfu', 4555: 'annual', 4556: 'generation', 4557: 'finding', 4558: 'functioning', 4559: 'shure', 4560: 'bass', 4561: '500', 4562: 'degrees', 4563: 'con', 4564: 'vi', 4565: 'lied', 4566: 'disneyland', 4567: 'reno', 4568: 'storage', 4569: 'romantic', 4570: 'noooooooo', 4571: 'hmph', 4572: 'hp', 4573: 'bums', 4574: 'munch', 4575: 'milan', 4576: 'amber', 4577: 'market', 4578: 'yeahhh', 4579: 'judge', 4580: 'pillow', 4581: 'sugar', 4582: 'quote', 4583: 'charming', 4584: 'guests', 4585: 'dreading', 4586: 'lacey', 4587: 'tail', 4588: 'kazim', 4589: 'max', 4590: 'dealership', 4591: 'utah', 4592: 'van', 4593: 'lov', 4594: 'underwood', 4595: 'sang', 4596: 'kinds', 4597: 'expired', 4598: 'hve', 4599: 'ugg', 4600: 'false', 4601: 'ex', 4602: 'hairstyle', 4603: 'disconnected', 4604: 'loooooong', 4605: 'completed', 4606: 'percent', 4607: 'mommas', 4608: 'intelligent', 4609: '13', 4610: 'sb', 4611: 'flop', 4612: 'q', 4613: 'river', 4614: 'brick', 4615: 'tiff', 4616: 'nature', 4617: 'suckssss', 4618: 'buzz', 4619: 'eu', 4620: 'probs', 4621: 'provider', 4622: 'simon', 4623: 'tweeted', 4624: 'dozen', 4625: 'quilt', 4626: 'source', 4627: 'sp', 4628: 'jenny', 4629: 'tooooo', 4630: 'chem', 4631: 'leigh', 4632: 'mart', 4633: 'suffer', 4634: 'proof', 4635: 'fl', 4636: 'bum', 4637: 'york', 4638: 'crashing', 4639: 'couch', 4640: 'adobe', 4641: 'realise', 4642: 'owl', 4643: 'ties', 4644: 'lovin', 4645: 'awards', 4646: 'tennis', 4647: 'smack', 4648: 'insomniac', 4649: 'chores', 4650: 'yearbook', 4651: 'within', 4652: 'casa', 4653: 'intro', 4654: 'purchase', 4655: 'national', 4656: 'adventures', 4657: 'jamie', 4658: 'tempting', 4659: 'eatin', 4660: 'nachos', 4661: 'oatmeal', 4662: 'sara', 4663: 'aghhh', 4664: 'thrilling', 4665: 'das', 4666: 'dearly', 4667: 'stalker', 4668: 'drank', 4669: 'girlies', 4670: 'suspect', 4671: 'becky', 4672: 'calculator', 4673: 'alaska', 4674: 'windy', 4675: 'dh', 4676: 'handles', 4677: 'newport', 4678: 'academy', 4679: 'liverpool', 4680: 'spring', 4681: 'mcdonalds', 4682: 'browsing', 4683: 'somatic', 4684: 'leopard', 4685: 'unreal', 4686: 'steve', 4687: 'jones', 4688: 'fade', 4689: 'moring', 4690: 'mister', 4691: 'dancing', 4692: 'laker', 4693: 'grease', 4694: 'ham', 4695: 'deli', 4696: 'brighter', 4697: 'g1', 4698: 'massive', 4699: 'successful', 4700: 'dubbed', 4701: 'legit', 4702: 'illegal', 4703: 'scratched', 4704: 'rove', 4705: 'hk', 4706: 'sparkly', 4707: 'chick', 4708: 'overall', 4709: 'showing', 4710: '22', 4711: 'captain', 4712: 'rescheduled', 4713: 'hectic', 4714: 'checking', 4715: 'germany', 4716: 'bu', 4717: 'beauty', 4718: 'extension', 4719: 'jazzy', 4720: 'sumone', 4721: 'twins', 4722: 'france', 4723: 'noe', 4724: 'forgets', 4725: 'excitement', 4726: 'doctors', 4727: 'butter', 4728: 'pune', 4729: 'realy', 4730: 'bothering', 4731: 'sooooooo', 4732: 'laughs', 4733: '300', 4734: '22nd', 4735: 'vmware', 4736: 'fusion', 4737: 'notices', 4738: 'awesom', 4739: 'ironic', 4740: 'lynne', 4741: 'falls', 4742: 'youth', 4743: 'chemistry', 4744: 'oil', 4745: '160', 4746: 'goal', 4747: 'accomplish', 4748: 'seafood', 4749: 'hall', 4750: 'toe', 4751: 'aaah', 4752: 'congratss', 4753: 'strawberry', 4754: 'lemonade', 4755: 'slush', 4756: 'announce', 4757: 'fishy', 4758: 'wrap', 4759: 'awwwh', 4760: 'technical', 4761: 'technician', 4762: 'sumthin', 4763: 'ku', 4764: 'kan', 4765: 'curling', 4766: 'acid', 4767: 'reflux', 4768: 'nicer', 4769: 'burned', 4770: 'ginger', 4771: 'discussions', 4772: 'randomly', 4773: 'lasagna', 4774: 'ht', 4775: 'mb', 4776: 'picnic', 4777: 'spelt', 4778: 'posting', 4779: 'appearance', 4780: 'mia', 4781: 'saved', 4782: 'dining', 4783: 'peru', 4784: 'om', 4785: 'german', 4786: 'particularly', 4787: 'challenging', 4788: 'gps', 4789: 'depot', 4790: 'sweden', 4791: 'british', 4792: 'duh', 4793: 'zoo', 4794: 'fantasy', 4795: 'shock', 4796: 'agh', 4797: 'bear', 4798: 'glorious', 4799: 'success', 4800: 'wasted', 4801: 'dragging', 4802: 'monster', 4803: 'errands', 4804: 'keyboards', 4805: 'spinning', 4806: 'shack', 4807: 'likey', 4808: 'urself', 4809: 'tucking', 4810: 'mogwai', 4811: 'charleston', 4812: 'jj', 4813: 'led', 4814: 'turning', 4815: 'megan', 4816: 'roomies', 4817: 'funn', 4818: 'perry', 4819: 'soundtrack', 4820: 'relaxation', 4821: 'request', 4822: 'bbm', 4823: 'matt', 4824: 'username', 4825: 'politics', 4826: 'clue', 4827: 'coughing', 4828: 'boooooo', 4829: 'melissa', 4830: 'earn', 4831: 'ssd', 4832: 'sec', 4833: 'guide', 4834: 'billy', 4835: 'colin', 4836: 'sell', 4837: 'icecream', 4838: 'abandoned', 4839: 'models', 4840: 'mea', 4841: 'frame', 4842: 'sweating', 4843: 'tat', 4844: 'heck', 4845: 'closes', 4846: 'curve', 4847: 'shields', 4848: 'md', 4849: 'melted', 4850: 'speaker', 4851: 'tend', 4852: 'owe', 4853: 'insanity', 4854: 'fr', 4855: 'edward', 4856: 'cullen', 4857: 'nh', 4858: 'bonus', 4859: 'insulting', 4860: 'pills', 4861: 'wheat', 4862: 'protein', 4863: 'son', 4864: 'tix', 4865: 'deals', 4866: '38', 4867: 'returned', 4868: 'tiny', 4869: 'grape', 4870: 'tattoos', 4871: 'hahahaha', 4872: 'sms', 4873: 'itagg', 4874: 'neuroanatomy', 4875: 'hardcore', 4876: 'penalty', 4877: 'shannon', 4878: 'contain', 4879: 'amazingly', 4880: 'unfair', 4881: 'wreck', 4882: 'parent', 4883: 'jd', 4884: 'hii', 4885: 'tripped', 4886: 'spread', 4887: 'angel', 4888: 'whom', 4889: 'righ', 4890: 'phil', 4891: 'carbon', 4892: 'footprint', 4893: 'session', 4894: 'triumph', 4895: 'events', 4896: 'manage', 4897: 'mimi', 4898: 'rss', 4899: 'snuggled', 4900: 'retarded', 4901: 'anime', 4902: 'assignment', 4903: 'concentrate', 4904: 'unofficially', 4905: 'football', 4906: 'fricken', 4907: 'swedish', 4908: 'mandy', 4909: 'bridge', 4910: 'mistakes', 4911: 'messenger', 4912: 'feedback', 4913: 'replace', 4914: 'brian', 4915: 'avoid', 4916: 'pushing', 4917: 'dudes', 4918: 'jordan', 4919: 'advantage', 4920: 'pathetic', 4921: 'pg', 4922: 'yawn', 4923: '21st', 4924: 'claires', 4925: 'sky', 4926: 'cheering', 4927: 'meanie', 4928: 'teasing', 4929: 'teacher', 4930: 'asian', 4931: 'foot', 4932: 'cl', 4933: 'feelings', 4934: 'killen', 4935: 'blankets', 4936: 'comin', 4937: 'bastos', 4938: 'rains', 4939: 'stil', 4940: 'funeral', 4941: 'lactose', 4942: 'progressive', 4943: 'aweful', 4944: 'hangin', 4945: 'reruns', 4946: 'manager', 4947: 'switched', 4948: 'lang', 4949: 'carmen', 4950: 'tafe', 4951: 'gaming', 4952: 'troubleshooting', 4953: 'control', 4954: 'grea', 4955: 'curse', 4956: 'unavailable', 4957: 'transformers', 4958: 'jackass', 4959: 'opportunity', 4960: 'recipe', 4961: 'shudder', 4962: 'raised', 4963: 'prices', 4964: 'rose', 4965: 'cars', 4966: 'annas', 4967: 'anxious', 4968: 'spicy', 4969: 'mango', 4970: 'sausages', 4971: 'corn', 4972: 'covered', 4973: 'bikes', 4974: 'comeback', 4975: 'ep', 4976: 'receive', 4977: 'officer', 4978: 'jersey', 4979: 'conditions', 4980: 'drivers', 4981: 'wealthy', 4982: 'havnt', 4983: 'chattin', 4984: 'nearest', 4985: 'bites', 4986: 'philly', 4987: 'montanna', 4988: 'cardboard', 4989: 'based', 4990: 'deserved', 4991: 'location', 4992: 'preview', 4993: 'restaurant', 4994: 'reads', 4995: 'whatta', 4996: 'doo', 4997: 'midday', 4998: 'pressure', 4999: 'opted', 5000: 'ballerina', 5001: 'varsity', 5002: 'fanclub', 5003: 'retro', 5004: 'channels', 5005: 'view', 5006: 'kate', 5007: 'microwave', 5008: 'dreaming', 5009: 'bothered', 5010: 'letter', 5011: 'rates', 5012: 'april', 5013: 'repaired', 5014: 'yuck', 5015: 'raw', 5016: 'nat', 5017: 'hundred', 5018: 'plce', 5019: 'letting', 5020: 'category', 5021: 'ruin', 5022: 'thnks', 5023: 'gumbo', 5024: 'according', 5025: 'fitness', 5026: 'hehehehe', 5027: 'looooong', 5028: 'spectacular', 5029: 'security', 5030: 'marc', 5031: 'reach', 5032: 'crawling', 5033: 'den', 5034: 'sneezing', 5035: 'suffering', 5036: 'drowsy', 5037: 'dolls', 5038: 'directly', 5039: 'pal', 5040: 'trapped', 5041: 'pretend', 5042: 'loudly', 5043: 'convince', 5044: 'overjoyed', 5045: 'checkin', 5046: 'pushed', 5047: 'rp', 5048: 'girlfriend', 5049: 'sinking', 5050: 'twitterbugs', 5051: 'flowers', 5052: 'koreans', 5053: 'poems', 5054: 'matters', 5055: 'tells', 5056: 'boston', 5057: 'composition', 5058: 'zombies', 5059: 'damm', 5060: 'chicks', 5061: 'pleasant', 5062: 'sewing', 5063: 'agreement', 5064: 'biggest', 5065: 'names', 5066: 'kc', 5067: 'ou', 5068: 'fuzzball', 5069: 'hardest', 5070: 'hire', 5071: 'ray', 5072: 'delish', 5073: 'achievement', 5074: 'suspended', 5075: 'harder', 5076: 'jacket', 5077: 'apologize', 5078: 'spurs', 5079: 'edit', 5080: 'tryna', 5081: 'surrounded', 5082: 'toda', 5083: 'gigantic', 5084: 'louis', 5085: 'portland', 5086: 'dork', 5087: 'links', 5088: 'borrow', 5089: 'nz', 5090: 'pierced', 5091: 'lip', 5092: '12th', 5093: 'cod', 5094: 'lemon', 5095: 'stage', 5096: 'laughed', 5097: 'cue', 5098: 'cp', 5099: 'endless', 5100: 'flow', 5101: 'velvet', 5102: 'meow', 5103: 'trippin', 5104: 'alike', 5105: 'hottest', 5106: 'creativity', 5107: 'inspirational', 5108: 'hoped', 5109: 'baked', 5110: 'du', 5111: 'jour', 5112: 'ewww', 5113: 'disappoint', 5114: 'barcelona', 5115: 'drummer', 5116: 'walked', 5117: 'sitter', 5118: 'woop', 5119: 'donuts', 5120: 'noes', 5121: 'steph', 5122: 'improve', 5123: 'dutch', 5124: 'tr', 5125: 'amazed', 5126: 'headphones', 5127: 'purpose', 5128: 'dave', 5129: 'challenged', 5130: 'lashes', 5131: 'earliest', 5132: 'trick', 5133: 'ankle', 5134: 'curly', 5135: 'irish', 5136: 'rooms', 5137: 'documentation', 5138: 'saddo', 5139: '29', 5140: 'tmr', 5141: 'distractions', 5142: 'scarred', 5143: 'relative', 5144: 'malibu', 5145: 'north', 5146: 'lit', 5147: 'trees', 5148: 'treasures', 5149: 'plant', 5150: 'toothache', 5151: 'sinus', 5152: 'arriving', 5153: 'babyy', 5154: 'jacks', 5155: 'stats', 5156: 'surfing', 5157: 'offense', 5158: 'rickbaker24', 5159: 'caption', 5160: 'planet', 5161: 'sandwhich', 5162: 'ihate', 5163: 'thankies', 5164: 'scotland', 5165: 'ry', 5166: 'excite', 5167: 'princess', 5168: 'fastest', 5169: 'fashion', 5170: 'le', 5171: 'files', 5172: 'mp3', 5173: 'promised', 5174: 'steel', 5175: 'dexter', 5176: 'spf', 5177: 'burrito', 5178: 'chipotle', 5179: 'snacks', 5180: 'tila', 5181: 'mommies', 5182: 'accidents', 5183: 'visited', 5184: 'icon', 5185: 'hamburger', 5186: 'batman', 5187: 'pd', 5188: 'speeds', 5189: 'audit', 5190: 'matilda', 5191: 'bowl', 5192: 'uncool', 5193: 'heheee', 5194: 'jordie', 5195: 'patrick', 5196: 'hurtin', 5197: 'allergies', 5198: 'thm', 5199: 'apartments', 5200: 'pad', 5201: 'thai', 5202: 'cloud', 5203: 'consider', 5204: 'remove', 5205: 'scratching', 5206: 'wallace', 5207: 'gromit', 5208: 'bbc1', 5209: 'tricked', 5210: 'thousands', 5211: 'monkey', 5212: 'phoenix', 5213: 'hardware', 5214: 'bend', 5215: 'outdated', 5216: 'godawful', 5217: 'defo', 5218: 'jess', 5219: 'mumbai', 5220: 'waikiki', 5221: 'breakie', 5222: 'surprisingly', 5223: 'surprised', 5224: 'br', 5225: 'matrix', 5226: 'performing', 5227: 'laws', 5228: 'therapy', 5229: 'indoors', 5230: 'answered', 5231: 'wks', 5232: 'cutest', 5233: 'brilliant', 5234: 'brownie', 5235: 'dam', 5236: 'celebs', 5237: 'queen', 5238: 'jake', 5239: 'gr8', 5240: '2pm', 5241: 'goat', 5242: 'tommy', 5243: 'umm', 5244: 'prix', 5245: 'bandwagon', 5246: 'drinkin', 5247: 'looove', 5248: 'kong', 5249: 'acting', 5250: 'yayyy', 5251: 'hoe', 5252: 'typing', 5253: 'sucker', 5254: 'freak', 5255: 'smiling', 5256: 'ikr', 5257: 'cheesy', 5258: 'hurrah', 5259: 'central', 5260: 'disco', 5261: 'rid', 5262: 'danger', 5263: 'jesse', 5264: 'cape', 5265: 'nuthin', 5266: 'discouraged', 5267: 'whenever', 5268: 'funnnn', 5269: 'gary', 5270: 'lime', 5271: 'fare', 5272: 'ea', 5273: 'boredddd', 5274: 'gained', 5275: 'predict', 5276: 'score', 5277: 'defending', 5278: 'sticking', 5279: 'tweeples', 5280: 'doubtful', 5281: 'directory', 5282: 'recession', 5283: 'debating', 5284: 'harry', 5285: 'potter', 5286: 'farmer', 5287: 'sentences', 5288: 'locations', 5289: 'uber', 5290: 'sunglasses', 5291: 'rescue', 5292: 'fatty', 5293: 'tw', 5294: 'hella', 5295: 'deeply', 5296: 'key', 5297: 'unloved', 5298: 'compliment', 5299: 'freezer', 5300: 'hahahahah', 5301: 'oo', 5302: 'poke', 5303: 'dishes', 5304: 'victor', 5305: 'complaining', 5306: 'lotion', 5307: 'spanish', 5308: 'mass', 5309: 'papers', 5310: 'transparency', 5311: 'hooray', 5312: 'swag', 5313: 'cryin', 5314: 'every1', 5315: 'alpha', 5316: 'tipsy', 5317: 'cakes', 5318: 'maddies', 5319: 'aka', 5320: 'board', 5321: 'economic', 5322: 'wal', 5323: 'conference', 5324: 'route', 5325: 'phrase', 5326: 'drip', 5327: 'doubles', 5328: 'engine', 5329: 'suit', 5330: 'amused', 5331: 'recommendation', 5332: 'pot', 5333: 'nvr', 5334: 'frm', 5335: 'mike', 5336: 'arsenal', 5337: 'abby', 5338: 'folk', 5339: 'relatives', 5340: 'toronto', 5341: 'somethin', 5342: 'hill', 5343: 'engage', 5344: 'applied', 5345: 'ec', 5346: 'josh', 5347: 'begin', 5348: 'bullied', 5349: 'worn', 5350: 'knight', 5351: 'owners', 5352: 'graduates', 5353: 'cudve', 5354: 'attended', 5355: 'kdg', 5356: 'kudos', 5357: 'longest', 5358: 'hurdle', 5359: 'fri', 5360: 'loool', 5361: 'pa', 5362: 'irregularly', 5363: 'explode', 5364: 'slacking', 5365: 'slim', 5366: 'raises', 5367: 'carrie', 5368: 'sadd', 5369: 'priceless', 5370: 'liesboystell', 5371: 'mens', 5372: 'theater', 5373: 'upsetting', 5374: 'nic', 5375: 'setup', 5376: 'tabs', 5377: 'reel', 5378: 'killin', 5379: 'decently', 5380: 'priced', 5381: 'cutting', 5382: 'orphan', 5383: 'diff', 5384: 'neva', 5385: 'tossed', 5386: 'textbooks', 5387: 'sole', 5388: 'education', 5389: 'hahahahahaha', 5390: 'bah', 5391: 'teh', 5392: 'teachers', 5393: 'johnathan', 5394: 'grim', 5395: 'tim', 5396: 'ads', 5397: 'marks', 5398: 'roommate', 5399: 'era', 5400: 'bt', 5401: 'logged', 5402: 'forth', 5403: 'drum', 5404: '15th', 5405: 'shattered', 5406: 'drowning', 5407: 'sorrows', 5408: 'accidentally', 5409: 'crisps', 5410: 'yr', 5411: 'imagination', 5412: 'emotionally', 5413: 'boxes', 5414: 'hired', 5415: 'marketing', 5416: 'seuss', 5417: 'companies', 5418: 'buzzed', 5419: 'dany', 5420: 'sorcha', 5421: 'denied', 5422: 'yaaaay', 5423: 'ay', 5424: 'digging', 5425: 'hobby', 5426: 'bot', 5427: 'soccer', 5428: 'suss', 5429: 'chap', 5430: 'meh', 5431: 'drivin', 5432: 'carol', 5433: 'cnn', 5434: 'pays', 5435: 'alcohol', 5436: 'desire', 5437: 'boil', 5438: 'eeee', 5439: 'understandable', 5440: 'sweaty', 5441: 'excursion', 5442: 'tomoz', 5443: 'moss', 5444: 'separate', 5445: 'considered', 5446: 'columns', 5447: 'scrubs', 5448: 'sooner', 5449: 'hmv', 5450: 'fundraiser', 5451: 'opening', 5452: 'lenny', 5453: 'caps', 5454: 'peed', 5455: 'bo', 5456: 'potty', 5457: 'nj', 5458: 'eithe', 5459: 'shortly', 5460: 'voodoo', 5461: 'kelly', 5462: 'related', 5463: 'terri', 5464: 'pies', 5465: 'macs', 5466: 'jp', 5467: 'whisperer', 5468: 'hawt', 5469: 'environment', 5470: 'recoup', 5471: 'investment', 5472: 'marked', 5473: 'websites', 5474: 'riding', 5475: 'zac', 5476: 'bees', 5477: 'iloveyou', 5478: 'mc', 5479: 'travel', 5480: 'goose', 5481: 'biology', 5482: 'prejudice', 5483: 'signed', 5484: 'bite', 5485: 'sweat', 5486: 'convenient', 5487: 'yah', 5488: 'digg', 5489: 'spoke', 5490: 'horror', 5491: 'registered', 5492: 'ment', 5493: 'sh', 5494: 'pure', 5495: 'nicely', 5496: 'pilot', 5497: 'leah', 5498: 'treat', 5499: 'tomato', 5500: 'peppers', 5501: 'viral', 5502: 'mayer', 5503: 'bleeding', 5504: 'candy', 5505: 'sizes', 5506: 'ocean', 5507: 'technically', 5508: 'zelda', 5509: 'guest', 5510: 'difficulties', 5511: 'typos', 5512: 'maintenance', 5513: 'females', 5514: 'bacon', 5515: 'mushrooms', 5516: 'nokia', 5517: 'ovi', 5518: 'mask', 5519: 'quickly', 5520: 'melt', 5521: 'characters', 5522: 'precious', 5523: 'humbug', 5524: 'ahahaha', 5525: 'muscle', 5526: 'wrist', 5527: 'proper', 5528: 'musso', 5529: 'spilled', 5530: 'blah', 5531: 'olive', 5532: 'massage', 5533: 'medical', 5534: 'framework', 5535: 'enought', 5536: 'spilling', 5537: 'surgury', 5538: '2000', 5539: 'misunderstood', 5540: 'lonley', 5541: '6am', 5542: 'benjamin', 5543: 'shout', 5544: 'denver', 5545: 'converse', 5546: 'nerves', 5547: 'reached', 5548: 'jose', 5549: 'fallow', 5550: 'charges', 5551: 'average', 5552: 'discussion', 5553: 'attending', 5554: 'beatweetup', 5555: 'camcorder', 5556: 'ignoring', 5557: 'morrisons', 5558: 'cries', 5559: 'frozen', 5560: 'views', 5561: 'published', 5562: 'shave', 5563: 'highlight', 5564: 'ali', 5565: 'donnie', 5566: 'reschedule', 5567: 'kent', 5568: 'ver', 5569: 'mamas', 5570: 'hq', 5571: 'similar', 5572: 'bigger', 5573: 'del', 5574: 'burger', 5575: 'castle', 5576: 'battle', 5577: 'indie', 5578: 'euro', 5579: 'tale', 5580: 'shifting', 5581: 'dice', 5582: 'infamous', 5583: 'pill', 5584: 'paramore', 5585: 'occasionally', 5586: 'yt', 5587: 'meagan', 5588: 'knees', 5589: 'iron', 5590: 'puppies', 5591: 'basement', 5592: 'blocking', 5593: 'pet', 5594: 'frickin', 5595: 'forecast', 5596: 'cinemas', 5597: 'wears', 5598: 'xox', 5599: 'cof', 5600: 'technology', 5601: 'crew', 5602: 'robert', 5603: 'happend', 5604: 'collapses', 5605: 'queer', 5606: 'some1', 5607: 'wel', 5608: 'sissy', 5609: 'netball', 5610: 'joining', 5611: 'bella', 5612: 'bes', 5613: 'kickass', 5614: 'aswell', 5615: 'wrk', 5616: 'vodka', 5617: 'piercing', 5618: 'les', 5619: 'borde', 5620: 'networking', 5621: 'sticky', 5622: 'argument', 5623: 'pusher', 5624: 'pounds', 5625: 'wicked', 5626: 'ie', 5627: 'python', 5628: 'nintendo', 5629: 'capital', 5630: 'allah', 5631: 'goldfish', 5632: 'reports', 5633: 'gotcha', 5634: 'loose', 5635: 'zone', 5636: 'bats', 5637: '33', 5638: 'html', 5639: 'favor', 5640: 'milkshake', 5641: 'mornings', 5642: 'cheek', 5643: 'thoughh', 5644: 'physical', 5645: 'sensible', 5646: 'user', 5647: 'ian', 5648: 'ako', 5649: 'holes', 5650: 'coldplay', 5651: 'nov', 5652: 'f1', 5653: 'nonetheless', 5654: 'ave', 5655: 'pfft', 5656: 'wayy', 5657: 'kitchen', 5658: 'beard', 5659: 'doors', 5660: 'sucking', 5661: 'gods', 5662: 'sake', 5663: 'pollution', 5664: 'prep', 5665: 'gifts', 5666: 'avenue', 5667: 'una', 5668: 'yan', 5669: '5k', 5670: 'headlining', 5671: 'lbs', 5672: 'lamb', 5673: 'patients', 5674: 'selected', 5675: 'alley', 5676: 'lowest', 5677: '30mins', 5678: 'goodies', 5679: 'ubuntu', 5680: 'branch', 5681: 'newly', 5682: 'porridge', 5683: 'killer', 5684: 'ga', 5685: 'nicest', 5686: 'shelby', 5687: 'madrid', 5688: 'docks', 5689: 'museum', 5690: 'worcester', 5691: 'exit', 5692: 'enter', 5693: 'looooove', 5694: 'perth', 5695: 'hood', 5696: 'terrified', 5697: 'wand', 5698: '70', 5699: 'boulder', 5700: 'swineflu', 5701: 'citizens', 5702: 'community', 5703: 'subtly', 5704: 'type', 5705: 'vehicle', 5706: 'ant', 5707: 'wallpaper', 5708: 'monitor', 5709: 'hallway', 5710: 'mocha', 5711: 'scent', 5712: 'relief', 5713: 'prettier', 5714: 'mentioning', 5715: 'srsly', 5716: 'belfast', 5717: 'statement', 5718: 'cory', 5719: 'convinced', 5720: 'cop', 5721: 'meeeeeeee', 5722: 'aston', 5723: 'il', 5724: 'angela', 5725: 'compliments', 5726: 'bean', 5727: 'appear', 5728: 'snif', 5729: 'dosent', 5730: 'seperate', 5731: 'attacking', 5732: 'selfish', 5733: 'nambu', 5734: 'fa', 5735: 'whn', 5736: 'uhh', 5737: 'feature', 5738: 'juz', 5739: 'tires', 5740: 'tisdale', 5741: 'sweats', 5742: 'frown', 5743: 'aussie', 5744: 'muah', 5745: 'represent', 5746: 'net', 5747: 'weight', 5748: 'poopy', 5749: 'satan', 5750: 'opened', 5751: 'aero', 5752: 'borin', 5753: 'sickness', 5754: 'yao', 5755: 'snail', 5756: 'employee', 5757: 'poetry', 5758: 'rockstar', 5759: 'eden', 5760: 'forms', 5761: 'cents', 5762: 'phase', 5763: 'liver', 5764: 'format', 5765: 'avail', 5766: 'brody', 5767: 'coach', 5768: 'yaaaaaaay', 5769: 'espresso', 5770: 'anniversary', 5771: 'australian', 5772: 'counts', 5773: 'brooklyn', 5774: 'chino', 5775: 'gentleman', 5776: 'pouting', 5777: 'automatically', 5778: 'punk', 5779: 'redbull', 5780: 'kfc', 5781: 'gotten', 5782: 'pineapple', 5783: 'decisions', 5784: '7pm', 5785: 'additional', 5786: 'required', 5787: 'merlin', 5788: 'attractive', 5789: 'meetings', 5790: 'deadline', 5791: 'sarcastic', 5792: 'boohoo', 5793: 'listed', 5794: 'modem', 5795: 'garbage', 5796: 'frank', 5797: 'file', 5798: 'joey', 5799: 'lmfao', 5800: 'od', 5801: 'smoothie', 5802: 'ponytail', 5803: 'wide', 5804: 'apt', 5805: 'hobo', 5806: 'sarah', 5807: 'disgusting', 5808: 'pta', 5809: 'generally', 5810: 'stands', 5811: 'confuse', 5812: 'whatcha', 5813: 'energized', 5814: 'friggin', 5815: 'lifetime', 5816: 'broadband', 5817: 'intrigued', 5818: 'dunkin', 5819: 'hungover', 5820: 'limo', 5821: 'metro', 5822: 'cops', 5823: 'cycle', 5824: 'tweetup', 5825: 'comedy', 5826: 'ahhhhhh', 5827: 'britain', 5828: 'develop', 5829: 'thick', 5830: 'ericka', 5831: 'closest', 5832: 'destroy', 5833: 'daisies', 5834: 'mission', 5835: 'rosie', 5836: 'busted', 5837: 'confusin', 5838: 'yeaah', 5839: 'pebbles', 5840: 'someones', 5841: 'zombie', 5842: 'chronicles', 5843: 'bittersweet', 5844: 'vice', 5845: 'bullet', 5846: 'japan', 5847: 'squeeze', 5848: 'mga', 5849: 'lng', 5850: 'leeds', 5851: 'hawks', 5852: 'mighty', 5853: 'solid', 5854: 'chose', 5855: 'mu', 5856: 'mk', 5857: 'mentioned', 5858: 'hype', 5859: 'etsy', 5860: 'hairs', 5861: 'ts', 5862: 'conversations', 5863: 'mor', 5864: 'bros', 5865: 'lamer', 5866: 'unbearable', 5867: 'blasting', 5868: 'gaga', 5869: 'screamin', 5870: 'tweep', 5871: 'impose', 5872: 'fort', 5873: 'pigeon', 5874: 'allen', 5875: 'sees', 5876: 'boyle', 5877: 'scaring', 5878: 'assembly', 5879: 'application', 5880: 'arranged', 5881: 'function', 5882: 'debugging', 5883: 'daw', 5884: 'ittt', 5885: 'peaceful', 5886: 'sausage', 5887: 'egg', 5888: 'mcmuffin', 5889: 'coat', 5890: 'u2', 5891: 'parvo', 5892: 'vibes', 5893: 'freeze', 5894: 'bomb', 5895: 'downstairs', 5896: 'piano', 5897: 'haz', 5898: 'buffet', 5899: 'rated', 5900: 'bea', 5901: 'dieing', 5902: 'machines', 5903: 'protection', 5904: 'stores', 5905: 'birmingham', 5906: 'cope', 5907: 'darts', 5908: 'craigslist', 5909: 'maccy', 5910: 'overseas', 5911: 'backed', 5912: 'lincoln', 5913: 'tunnel', 5914: 'filthy', 5915: 'jerk', 5916: 'stanky', 5917: 'spotlight', 5918: 'embarrassed', 5919: 'entirely', 5920: 'meann', 5921: 'spears', 5922: 'southland', 5923: 'bruce', 5924: 'noooooo', 5925: 'voicemail', 5926: 'laser', 5927: 'aah', 5928: 'candace', 5929: 'bubba', 5930: 'shaw', 5931: 'gays', 5932: 'cure', 5933: 'idiotat', 5934: 'nks', 5935: 'bare', 5936: 'coding', 5937: 'sgt', 5938: 'hughes', 5939: 'meningitis', 5940: 'includes', 5941: 'jayk', 5942: 'nugget', 5943: 'unexpected', 5944: 'darling', 5945: 'fool', 5946: 'monk', 5947: 'portugal', 5948: 'graphics', 5949: 'bookmarks', 5950: 'bay', 5951: 'itching', 5952: 'java', 5953: 'gooooood', 5954: 'teased', 5955: 'mini', 5956: 'girlie', 5957: 'commence', 5958: 'coursework', 5959: 'kayla', 5960: 'cisco', 5961: 'katies', 5962: 'com', 5963: 'maria', 5964: 'thas', 5965: 'bush', 5966: '36', 5967: 'lecture', 5968: 'bugles', 5969: 'snack', 5970: 'sale', 5971: 'mattress', 5972: 'vega', 5973: 'flavor', 5974: 'unit', 5975: 'eachother', 5976: 'denny', 5977: 'crane', 5978: 'stung', 5979: 'todayy', 5980: 'probly', 5981: 'inspection', 5982: 'sticker', 5983: 'peppermint', 5984: 'dual', 5985: 'comfy', 5986: 'despite', 5987: 'heyyy', 5988: 'mann', 5989: 'santa', 5990: 'forgotten', 5991: 'stink', 5992: 'twitting', 5993: 'volleyball', 5994: 'embarrased', 5995: 'fate', 5996: 'lappytop', 5997: 'noo', 5998: 'oldies', 5999: 'wif', 6000: 'dyeing', 6001: 'seamless', 6002: 'tomorow', 6003: 'carpet', 6004: 'appears', 6005: 'spider', 6006: 'dougie', 6007: 'harsh', 6008: 'listing', 6009: 'injury', 6010: 'hurray', 6011: 'olds', 6012: 'soda', 6013: 'quiero', 6014: 'gut', 6015: 'toasting', 6016: 'nigh', 6017: 'rabbits', 6018: 'cleanin', 6019: 'hash', 6020: 'base', 6021: 'costco', 6022: 'print', 6023: 'police', 6024: 'itself', 6025: 'auntie', 6026: 'fathers', 6027: 'messing', 6028: 'snapping', 6029: 'twisted', 6030: 'hugged', 6031: 'olympic', 6032: 'rack', 6033: 'brunch', 6034: 'unny', 6035: 'advert', 6036: 'meee', 6037: 'enj', 6038: 'whining', 6039: 'weeding', 6040: 'lazing', 6041: 'articles', 6042: 'concept', 6043: 'escaped', 6044: 'teleport', 6045: 'boa', 6046: 'misse', 6047: 'gi', 6048: 'paws', 6049: 'strike', 6050: 'smith', 6051: 'twitterworld', 6052: 'docs', 6053: 'fkn', 6054: 'matches', 6055: 'unfortunatly', 6056: 'canucks', 6057: 'glitch', 6058: 'remains', 6059: 'terms', 6060: 'barbeque', 6061: 'nettles', 6062: 'bull', 6063: 'slippers', 6064: 'cubbies', 6065: 'laura', 6066: 'jazz', 6067: 'organizing', 6068: 'vent', 6069: 'bestfriend', 6070: 'ranch', 6071: 'biz', 6072: 'overnight', 6073: 'troubles', 6074: 'denial', 6075: 'firts', 6076: '3333', 6077: 'synced', 6078: 'backround', 6079: 'delight', 6080: 'meeee', 6081: 'mcr', 6082: 'oll', 6083: 'givin', 6084: 'decreasing', 6085: 'arre', 6086: 'laughter', 6087: 'muna', 6088: 'maaaaaan', 6089: 'flo', 6090: 'pregnant', 6091: 'changes', 6092: 'hasnt', 6093: 'hahahahaha', 6094: 'rember', 6095: 'zoe', 6096: 'cheaper', 6097: 'orthodontist', 6098: 'agencies', 6099: 'exotic', 6100: 'pakistan', 6101: 'dd', 6102: 'yelling', 6103: 'upgrades', 6104: 'profiles', 6105: 'ants', 6106: 'orientation', 6107: 'staff', 6108: 'adopted', 6109: 'shelter', 6110: 'pasadena', 6111: 'ease', 6112: 'animated', 6113: 'cravings', 6114: 'poppin', 6115: 'strangely', 6116: '14th', 6117: 'cuba', 6118: 'users', 6119: 'chrome', 6120: 'fonts', 6121: 'stumble', 6122: 'mommys', 6123: 'torture', 6124: 'sg', 6125: 'sana', 6126: 'hindi', 6127: 'ni', 6128: 'banquet', 6129: 'breezy', 6130: 'hint', 6131: 'maternity', 6132: 'traditional', 6133: 'eliminated', 6134: 'gummy', 6135: 'tear', 6136: 'grabbed', 6137: 'mya', 6138: 'pedicure', 6139: 'neighbors', 6140: 'shouldve', 6141: 'sheffield', 6142: 'item', 6143: 'publish', 6144: 'mba', 6145: 'runny', 6146: 'ugggh', 6147: '1tb', 6148: 'las', 6149: 'inspiring', 6150: '5am', 6151: 'lava', 6152: 'syncing', 6153: 'polaroid', 6154: 'ck', 6155: 'weirdest', 6156: 'negativity', 6157: 'assholes', 6158: 'blueberry', 6159: 'lotsa', 6160: 'devon', 6161: 'heir', 6162: 'draft', 6163: 'colour', 6164: 'expect', 6165: 's3', 6166: 'engines', 6167: 'nowadays', 6168: 'trail', 6169: 'theirs', 6170: 'harley', 6171: 'december', 6172: 'allll', 6173: 'cooks', 6174: 'brighton', 6175: 'algebra', 6176: 'choir', 6177: 'studied', 6178: 'loic', 6179: 'acct', 6180: 'mentally', 6181: 'craving', 6182: 'africa', 6183: 'costly', 6184: 'recommended', 6185: 'frog', 6186: 'rides', 6187: 'huntsville', 6188: 'tribute', 6189: 'practically', 6190: 'tottaly', 6191: 'ringtones', 6192: 'payday', 6193: 'ps3', 6194: 'amanda', 6195: 'thingy', 6196: 'carolina', 6197: 'handmade', 6198: 'mexico', 6199: 'wished', 6200: 'career', 6201: 'bangin', 6202: 'blech', 6203: 'brb', 6204: 'preferred', 6205: 'reasonable', 6206: 'rent', 6207: 'peanut', 6208: 'pulling', 6209: 'mmot', 6210: 'whoever', 6211: 'bra', 6212: 'twenty', 6213: 'vegetarian', 6214: 'traitor', 6215: 'atlas', 6216: '33333', 6217: 'imm', 6218: 'callin', 6219: 'lenses', 6220: 'fifties', 6221: 'mmmmm', 6222: 'jammin', 6223: 'contribute', 6224: 'bulb', 6225: 'reaction', 6226: 'tradition', 6227: 'puke', 6228: 'tonigh', 6229: 'lego', 6230: 'hallooo', 6231: 'turnout', 6232: 'boarding', 6233: 'sonny', 6234: 'sw', 6235: 'biggie', 6236: 'sf', 6237: 'fog', 6238: 'inspiration', 6239: 'commands', 6240: 'mish', 6241: 'sykes', 6242: 'below', 6243: 'norm', 6244: 'tisk', 6245: 'nikki', 6246: 'readyyy', 6247: 'sweatshirt', 6248: 'hittin', 6249: 'involves', 6250: 'bonding', 6251: 'garage', 6252: '3k', 6253: 'uhhh', 6254: 'sats', 6255: 'celebrated', 6256: 'calorie', 6257: 'sicker', 6258: 'hahha', 6259: 'manchester', 6260: 'perez', 6261: 'stepped', 6262: 'buggy', 6263: 'journalists', 6264: 'michigan', 6265: 'ughh', 6266: 'm8', 6267: 'pisses', 6268: 'specifically', 6269: 'bahaha', 6270: 'shoo', 6271: 'sin', 6272: 'ridiculously', 6273: 'chilis', 6274: 'ashington', 6275: 'cig', 6276: 'benefit', 6277: 'burst', 6278: 'mosquito', 6279: 'foods', 6280: 'nutella', 6281: 'playoffs', 6282: 'cruising', 6283: 'gaskarth', 6284: 'effed', 6285: 'enthusiasm', 6286: 'pup', 6287: 'teddy', 6288: 'shipped', 6289: 'jumps', 6290: 'coolness', 6291: 'standby', 6292: 'havn', 6293: 'designer', 6294: 'ram', 6295: 'pouring', 6296: 'concrete', 6297: 'jackie', 6298: 'increasing', 6299: 'favorites', 6300: 'robbie', 6301: 'promo', 6302: 'translation', 6303: 'rio', 6304: 'janeiro', 6305: 'scores', 6306: 'conquered', 6307: 'ctrl', 6308: 'yeeeeah', 6309: 'tubes', 6310: 'colleagues', 6311: 'received', 6312: 'lastnight', 6313: 'convo', 6314: 'circus', 6315: 'aweso', 6316: 'banned', 6317: 'bron', 6318: 'rays', 6319: 'stronger', 6320: 'lineup', 6321: 'yorkshire', 6322: 'suprisingly', 6323: 'goodbyes', 6324: 'currency', 6325: 'msg', 6326: 'skl', 6327: 'naman', 6328: 'dl', 6329: 'vacations', 6330: 'laterz', 6331: 'lovers', 6332: 'leader', 6333: 'nanna', 6334: 'competitive', 6335: 'highly', 6336: 'genes', 6337: 'bl', 6338: 'diane', 6339: 'pshh', 6340: 'knackered', 6341: 'dreambears', 6342: 'bebe', 6343: 'sanity', 6344: '2moz', 6345: 'carrying', 6346: 'crime', 6347: 'diy', 6348: 'joker', 6349: 'honored', 6350: 'pleased', 6351: 'finds', 6352: 'memory', 6353: 'juddday', 6354: 'witness', 6355: 'soooooooo', 6356: 'dreamin', 6357: 'hook', 6358: 'smashing', 6359: 'wagon', 6360: 'sicky', 6361: 'kindle', 6362: 'kennel', 6363: 'yal', 6364: 'ftsk', 6365: 'rapids', 6366: 'desperate', 6367: 'cares', 6368: 'lighting', 6369: 'wins', 6370: 'chopped', 6371: 'eventually', 6372: 'gb', 6373: 'fashioned', 6374: 'hel', 6375: 'touchin', 6376: 'involved', 6377: 'blows', 6378: 'mysterious', 6379: 'mow', 6380: 'ridiculous', 6381: 'rainin', 6382: 'shallow', 6383: 'ninja', 6384: 'appreciat', 6385: 'transport', 6386: 'cha', 6387: 'charley', 6388: 'stressin', 6389: 'powerpoint', 6390: 'freedom', 6391: 'badluck', 6392: 'tiger', 6393: 'claws', 6394: 'straightener', 6395: 'relieve', 6396: 'cooked', 6397: 'dixon', 6398: 'grrrrrrr', 6399: 'beware', 6400: 'war', 6401: 'klemm', 6402: 'initial', 6403: 'ic', 6404: 'filled', 6405: 'unpacking', 6406: 'cert', 6407: 'proposals', 6408: 'supporter', 6409: 'perfectly', 6410: 'yaaay', 6411: 'grandmother', 6412: 'trading', 6413: 'speedy', 6414: 'relationship', 6415: 'thud', 6416: 'eaten', 6417: 'scones', 6418: 'monica', 6419: 'moments', 6420: 'mtn', 6421: 'horrid', 6422: 'guts', 6423: 'nanny', 6424: 'lifesaver', 6425: 'computing', 6426: 'register', 6427: 'doh', 6428: 'burritos', 6429: 'chilly', 6430: 'drizzle', 6431: 'coolio', 6432: 'aunty', 6433: 'dimple', 6434: 'bucket', 6435: 'dried', 6436: 'oui', 6437: 'believed', 6438: 'hellotxt', 6439: 'declined', 6440: 'streamline', 6441: 'balance', 6442: 'millionaire', 6443: 'breeding', 6444: 'offered', 6445: 'hosts', 6446: 'lapit', 6447: 'salary', 6448: 'steal', 6449: 'nancy', 6450: 'marry', 6451: 'legal', 6452: 'bone', 6453: 'wiv', 6454: 'missus', 6455: 'pole', 6456: 'boxers', 6457: 'pitcher', 6458: 'locker', 6459: 'edited', 6460: 'donny', 6461: 'noisy', 6462: 'loveliness', 6463: 'programme', 6464: 'skyping', 6465: 'sweety', 6466: 'chemo', 6467: 'accounts', 6468: 'halls', 6469: 'vietnam', 6470: 'pools', 6471: 'ap', 6472: 'gov', 6473: 'harmless', 6474: 'compute', 6475: 'grabe', 6476: 'kaloka', 6477: 'dreary', 6478: 'dk', 6479: 'hers', 6480: 'guinea', 6481: 'acing', 6482: 'goooo', 6483: 'icky', 6484: 'reviews', 6485: 'tyler', 6486: 'naps', 6487: '2007', 6488: 'jokes', 6489: 'afterall', 6490: 'apples', 6491: 'htc', 6492: 'constantly', 6493: 'rooting', 6494: 'disc', 6495: 'jane', 6496: 'straw', 6497: 'qot', 6498: 'cabin', 6499: 'witty', 6500: 'detention', 6501: 'filling', 6502: 'cebu', 6503: 'tooooooo', 6504: 'tidy', 6505: 'pe', 6506: 'billion', 6507: 'horrific', 6508: 'newest', 6509: 'cave', 6510: 'paracetamol', 6511: 'presentations', 6512: 'topped', 6513: 'jim', 6514: 'navy', 6515: 'hits', 6516: 'gh', 6517: 'computers', 6518: 'choked', 6519: 'stuffs', 6520: 'niamh', 6521: 'booth', 6522: 'coraline', 6523: 'liam', 6524: 'torrent', 6525: 'caffeine', 6526: 'thunderstorm', 6527: 'sfo', 6528: 'perform', 6529: 'uno', 6530: 'lovato', 6531: 'dito', 6532: 'split', 6533: 'snuggles', 6534: 'everyones', 6535: 'expert', 6536: 'depression', 6537: 'fuckkk', 6538: 'apathetic', 6539: 'bushes', 6540: 'bruise', 6541: 'strength', 6542: 'gl', 6543: 'darl', 6544: 'dampen', 6545: 'scenie', 6546: 'monthly', 6547: 'puter', 6548: 'newspaper', 6549: 'detroit', 6550: 'ink', 6551: 'filming', 6552: 'sorting', 6553: 'hanson', 6554: 'rogue', 6555: 'weed', 6556: 'yummm', 6557: 'extended', 6558: 'cache', 6559: 'listenin', 6560: 'dull', 6561: 'ust', 6562: 'baltimore', 6563: 'feeder', 6564: 'thistle', 6565: 'pod', 6566: 'helmet', 6567: 'humid', 6568: 'luvvv', 6569: 'limb', 6570: 'wana', 6571: 'buuuut', 6572: 'addictive', 6573: 'twinz', 6574: 'moods', 6575: 'omj', 6576: 'detour', 6577: 'capacity', 6578: 'butterfly', 6579: 'tension', 6580: 'darkness', 6581: 'closely', 6582: 'sized', 6583: 'tori', 6584: 'bai', 6585: 'kt', 6586: 'parade', 6587: 'mirror', 6588: 'tatami', 6589: 'imac', 6590: 'gambit', 6591: 'pantera', 6592: 'grader', 6593: 'pizzas', 6594: 'twittersphere', 6595: 'dressing', 6596: 'woods', 6597: 'plugs', 6598: 'debate', 6599: 'toooo', 6600: 'und', 6601: 'shish', 6602: '99', 6603: 'ustream', 6604: 'fellas', 6605: 'amen', 6606: 'bang', 6607: 'ohhhhh', 6608: 'strikes', 6609: 'pointy', 6610: 'amp', 6611: 'nola', 6612: 'distraction', 6613: 'shh', 6614: 'pau', 6615: '94', 6616: 'pasty', 6617: 'shocking', 6618: 'giveaway', 6619: 'kbs', 6620: 'peer', 6621: 'taught', 6622: 'shark', 6623: 'coco', 6624: 'superb', 6625: 'pooped', 6626: 'spoon', 6627: 'eagle', 6628: 'dippin', 6629: 'dots', 6630: 'scrambled', 6631: 'remembering', 6632: 'permission', 6633: 'nai', 6634: 'nevermind', 6635: 'headline', 6636: 'sides', 6637: 'paperwork', 6638: 'vast', 6639: 'partyin', 6640: '2nyt', 6641: 'placements', 6642: 'dreadfully', 6643: 'knowledge', 6644: 'nor', 6645: 'tweetstats', 6646: 'hiccups', 6647: 'whyyyy', 6648: 'lips', 6649: 'horde', 6650: 'urls', 6651: 'karaoke', 6652: 'among', 6653: 'shitttt', 6654: 'funerals', 6655: 'quitting', 6656: 'financial', 6657: 'welts', 6658: 'kl', 6659: 'heeey', 6660: 'mega', 6661: 'coffe', 6662: 'distracting', 6663: 'abandoning', 6664: 'muy', 6665: 'spelled', 6666: 'godfather', 6667: 'touching', 6668: 'asylm', 6669: 'satisfying', 6670: 'gymnastics', 6671: 'hips', 6672: 'ground', 6673: 'lens', 6674: 'wink', 6675: 'signs', 6676: 'accadentally', 6677: 'potential', 6678: 'thumb', 6679: 'poorer', 6680: 'omlette', 6681: 'ere', 6682: 'sads', 6683: 'crutches', 6684: 'butts', 6685: 'voegele', 6686: 'stanley', 6687: 'kings', 6688: 'menu', 6689: 'cna', 6690: 'cal', 6691: 'heater', 6692: 'sox', 6693: 'tx', 6694: 'cities', 6695: 'wendy', 6696: 'dayyy', 6697: 'har', 6698: 'pacman', 6699: 'whales', 6700: 'skate', 6701: 'greeting', 6702: 'needle', 6703: 'toro', 6704: 'fee', 6705: 'sounded', 6706: 'gahh', 6707: 'prepare', 6708: 'amazon', 6709: 'shoulda', 6710: 'asylum', 6711: 'replay', 6712: 'adriana', 6713: 'buffalo', 6714: 'harm', 6715: 'dylan', 6716: 'reagan', 6717: '08', 6718: 'fruits', 6719: 'greedy', 6720: 'brandy', 6721: 'discounts', 6722: 'sniff', 6723: 'mourning', 6724: 'warnings', 6725: 'paycheck', 6726: 'dominos', 6727: 'hut', 6728: 'au', 6729: 'mh', 6730: 'clara', 6731: 'disaster', 6732: 'fieldnotes', 6733: 'soooooooooo', 6734: 'quits', 6735: 'ahhhhhhh', 6736: 'mah', 6737: 'embarrassing', 6738: 'seo', 6739: 'sparkling', 6740: 'sour', 6741: 'strings', 6742: 'eps', 6743: 'rolling', 6744: 'fanta', 6745: 'champion', 6746: 'funnier', 6747: 'ooooh', 6748: 'ellen', 6749: 'tod', 6750: 'elizabeth', 6751: 'flood', 6752: 'npr', 6753: 'listened', 6754: 'worms', 6755: 'remeber', 6756: 'ethics', 6757: 'productivity', 6758: 'onee', 6759: 'shoe', 6760: 'responding', 6761: 'mayhem', 6762: 'mmmmmm', 6763: 'papa', 6764: 'boom', 6765: 'reload', 6766: 'professional', 6767: 'fernanda', 6768: 'tigers', 6769: 'overcome', 6770: 'congrat', 6771: 'visitor', 6772: 'flavour', 6773: 'factor', 6774: '167', 6775: 'knoxville', 6776: 'troy', 6777: 'caca', 6778: '3000', 6779: 'logical', 6780: 'shampoo', 6781: 'crs', 6782: 'fascinating', 6783: 'charles', 6784: 'cody', 6785: 'elegance', 6786: 'majorly', 6787: '<unk>', 6788: '<pad>'}\n"
          ]
        }
      ],
      "source": [
        "vocab ={}\n",
        "for sentence in sentence_l:\n",
        "  for word in sentence:\n",
        "    if word in vocab:\n",
        "      vocab[word]+=1\n",
        "    else:\n",
        "      vocab[word]=1\n",
        "print(len(vocab))\n",
        "\n",
        "for word in list(vocab.keys()):\n",
        "  if vocab[word]<2:\n",
        "    del vocab[word]\n",
        "print(len(vocab))\n",
        "\n",
        "index = 1\n",
        "reverse_vocab = {}\n",
        "for word in list(vocab.keys()):\n",
        "  vocab[word] = index\n",
        "  reverse_vocab[index] = word\n",
        "  index+=1\n",
        "\n",
        "vocab['<unk>']=index\n",
        "reverse_vocab[index] = '<unk>'\n",
        "index+=1\n",
        "vocab['<pad>']=index\n",
        "reverse_vocab[index] = '<pad>'\n",
        "\n",
        "print(vocab)\n",
        "print(reverse_vocab)\n",
        "\n"
      ]
    },
    {
      "cell_type": "code",
      "execution_count": null,
      "metadata": {
        "id": "EXSZpBwvk1gW"
      },
      "outputs": [],
      "source": [
        "def tokenize_words(word_list):\n",
        "  for index,word in enumerate(word_list,0):\n",
        "    if word in vocab:\n",
        "      word_list[index] = vocab[word]\n",
        "    else:\n",
        "      word_list[index] = vocab['<unk>']\n",
        "  return word_list"
      ]
    },
    {
      "cell_type": "code",
      "execution_count": null,
      "metadata": {
        "colab": {
          "base_uri": "https://localhost:8080/"
        },
        "id": "vC_1U73IlcpK",
        "outputId": "6eaed39a-f513-4326-eb5e-2c9d363110ca"
      },
      "outputs": [
        {
          "output_type": "stream",
          "name": "stdout",
          "text": [
            "0    [1, 2, 3, 6787, 4, 1, 5, 6]\n",
            "1                         [7, 8]\n",
            "2                      [6787, 9]\n",
            "3                    [10, 9, 11]\n",
            "4                       [12, 13]\n",
            "Name: selected_text, dtype: object\n",
            "27481\n",
            "27481\n",
            "27320\n",
            "27320\n"
          ]
        }
      ],
      "source": [
        "sentence_l = sentence_l.apply(tokenize_words)\n",
        "print(sentence_l[:5])\n",
        "print(len(sentence_l))\n",
        "print(len(y_train))\n",
        "non_empty_mask = sentence_l.apply(len) > 0\n",
        "sentence_l = sentence_l[non_empty_mask].reset_index(drop=True)\n",
        "y_train = pd.Series(y_train)\n",
        "y_train = y_train[non_empty_mask].reset_index(drop=True)\n",
        "print(len(sentence_l))\n",
        "print(len(y_train))"
      ]
    },
    {
      "cell_type": "code",
      "execution_count": 24,
      "metadata": {
        "id": "_psal474UVNg"
      },
      "outputs": [],
      "source": [
        "\n",
        "\n",
        "class RNN(nn.Module):\n",
        "  def __init__(self,emb_dim,h_dim):\n",
        "    super().__init__()\n",
        "    print('RNN init')\n",
        "    self.emd_dim = emb_dim\n",
        "    self.h_dim = h_dim\n",
        "    self.Wi = nn.Linear(emb_dim,h_dim,bias=True)\n",
        "    self.Wh = nn.Linear(h_dim,h_dim,bias=True)\n",
        "\n",
        "    self.norm = nn.LayerNorm(h_dim)\n",
        "    self.act = nn.Tanh()\n",
        "    self.device = torch.device(\"cuda\" if torch.cuda.is_available() else \"cpu\")\n",
        "\n",
        "  def forward(self,x):\n",
        "    batch_size , sequence_length , emb_dim = x.size()\n",
        "\n",
        "    h = torch.zeros(batch_size,self.h_dim).to(self.device)\n",
        "    output = torch.zeros(batch_size,sequence_length,self.h_dim).to(self.device)\n",
        "    for i in range(0,sequence_length):\n",
        "      #print('in loop ',i)\n",
        "      inp = x[:,i,:]\n",
        "      #print('inp shape ',inp.shape)\n",
        "\n",
        "      h =  self.act(self.norm (self.Wi(inp)+self.Wh(h)))\n",
        "      output[:,i,:] =h\n",
        "\n",
        "    return output\n",
        "\n",
        "class Sequence_model(nn.Module):\n",
        "  def __init__(self,V,embd_dim,h_dim):\n",
        "    super().__init__()\n",
        "    print(\"init Sequence model\")\n",
        "\n",
        "    self.h_dim = h_dim\n",
        "    self.embd_dim = embd_dim\n",
        "    self.embedding_layer = nn.Embedding(V,self.embd_dim)\n",
        "    self.rnn_layer =  RNN(self.embd_dim,self.h_dim)\n",
        "    self.dropout = nn.Dropout(0.5)\n",
        "    self.dropout2 = nn.Dropout(0.5)\n",
        "    self.rnn_layer2 =  RNN(self.h_dim,self.h_dim)\n",
        "    self.fc = nn.Linear(self.h_dim,3)\n",
        "    #self.act = nn.Softmax(dim=1)\n",
        "\n",
        "  def forward(self,x):\n",
        "    #print('in sequence forward ',x.shape)\n",
        "\n",
        "    x = self.embedding_layer(x)\n",
        "\n",
        "\n",
        "    #print('embedded shape ',x.shape)\n",
        "\n",
        "    out = self.rnn_layer(x)\n",
        "    out = self.dropout(out)\n",
        "    out = self.rnn_layer2(out)\n",
        "    out = self.dropout2(out)\n",
        "    #print('rnn out shape ',out.shape)\n",
        "    out = self.fc(out[:,-1,:])\n",
        "    #print('fc out shape ',out.shape)\n",
        "    #out = self.act(out)\n",
        "    #print('act out shape ',out.shape)\n",
        "    return out\n",
        "\n"
      ]
    },
    {
      "cell_type": "code",
      "source": [
        "class RNN(nn.Module):\n",
        "  def __init__(self,emb_dim,h_dim):\n",
        "    super().__init__()\n",
        "    print('RNN init')\n",
        "    self.emd_dim = emb_dim\n",
        "    self.h_dim = h_dim\n",
        "    self.Wi = nn.Linear(emb_dim,h_dim,bias=True)\n",
        "    self.Wh = nn.Linear(h_dim,h_dim,bias=True)\n",
        "\n",
        "    self.norm = nn.LayerNorm(h_dim)\n",
        "    self.act = nn.Tanh()\n",
        "    self.device = torch.device(\"cuda\" if torch.cuda.is_available() else \"cpu\")\n",
        "\n",
        "  def forward(self,x):\n",
        "    batch_size , sequence_length , emb_dim = x.size()\n",
        "\n",
        "    h = torch.zeros(batch_size,self.h_dim).to(self.device)\n",
        "    output = torch.zeros(batch_size,sequence_length,self.h_dim).to(self.device)\n",
        "    for i in range(0,sequence_length):\n",
        "      #print('in loop ',i)\n",
        "      inp = x[:,i,:]\n",
        "      #print('inp shape ',inp.shape)\n",
        "\n",
        "      h =  self.act(self.norm (self.Wi(inp)+self.Wh(h)))\n",
        "      output[:,i,:] =h\n",
        "\n",
        "    return output\n",
        "\n",
        "class Sequence_model(nn.Module):\n",
        "  def __init__(self,V,embd_dim,h_dim):\n",
        "    super().__init__()\n",
        "    print(\"init Sequence model\")\n",
        "\n",
        "    self.h_dim = h_dim\n",
        "    self.embd_dim = embd_dim\n",
        "    self.embedding_layer = nn.Embedding(V,self.embd_dim)\n",
        "    self.rnn_layer =  RNN(self.embd_dim,self.h_dim)\n",
        "    self.dropout = nn.Dropout(0.5)\n",
        "    self.dropout2 = nn.Dropout(0.5)\n",
        "    self.rnn_layer2 =  RNN(self.h_dim,self.h_dim)\n",
        "    self.fc = nn.Linear(self.h_dim,3)\n",
        "    #self.act = nn.Softmax(dim=1)\n",
        "\n",
        "  def forward(self,x):\n",
        "    #print('in sequence forward ',x.shape)\n",
        "\n",
        "    x = self.embedding_layer(x)\n",
        "\n",
        "\n",
        "    #print('embedded shape ',x.shape)\n",
        "\n",
        "    out = self.rnn_layer(x)\n",
        "    out = self.dropout(out)\n",
        "    out = self.rnn_layer2(out)\n",
        "    out = self.dropout2(out)\n",
        "    #print('rnn out shape ',out.shape)\n",
        "    out = self.fc(out[:,-1,:])\n",
        "    #print('fc out shape ',out.shape)\n",
        "    #out = self.act(out)\n",
        "    #print('act out shape ',out.shape)\n",
        "    return out"
      ],
      "metadata": {
        "id": "SAQuBay2DG_L"
      },
      "execution_count": 45,
      "outputs": []
    },
    {
      "cell_type": "code",
      "execution_count": null,
      "metadata": {
        "id": "G8nWLpqfTy0D"
      },
      "outputs": [],
      "source": []
    },
    {
      "cell_type": "code",
      "execution_count": null,
      "metadata": {
        "id": "KEj8_mUXTlQG"
      },
      "outputs": [],
      "source": []
    },
    {
      "cell_type": "code",
      "execution_count": null,
      "metadata": {
        "id": "iafrYB24VNNh"
      },
      "outputs": [],
      "source": [
        "print( [{name ,p.shape} for name,p in lstm_model.named_parameters()])"
      ]
    },
    {
      "cell_type": "code",
      "execution_count": null,
      "metadata": {
        "id": "-167KMnHpYy_"
      },
      "outputs": [],
      "source": [
        "from torch.utils.data import Dataset\n",
        "class sentence_sim_dataset(Dataset):\n",
        "  def __init__(self,sentence_l,y_train,max_len,vocab):\n",
        "    self.sentence_l = sentence_l\n",
        "    self.y_train = y_train\n",
        "    self.max_len = max_len\n",
        "\n",
        "  def __len__(self):\n",
        "    print(len(self.sentence_l))\n",
        "    return len(self.sentence_l)\n",
        "\n",
        "  def __getitem__(self,index):\n",
        "    sentence = self.sentence_l[index]\n",
        "    if(len(sentence)<self.max_len):\n",
        "      sentence = sentence + [vocab['<pad>']]*(self.max_len-len(sentence))\n",
        "    else:\n",
        "      sentence = sentence[:self.max_len]\n",
        "\n",
        "    #print(sentence.shape)\n",
        "    sentence = torch.tensor(sentence,dtype=torch.long)\n",
        "    label = torch.tensor(self.y_train[index],dtype=torch.long)\n",
        "\n",
        "\n",
        "\n",
        "    return sentence,label"
      ]
    },
    {
      "cell_type": "code",
      "execution_count": null,
      "metadata": {
        "id": "26YuMeYmpANW",
        "colab": {
          "base_uri": "https://localhost:8080/"
        },
        "outputId": "84742d6c-ea06-400a-ca00-d20ceb5b44f2"
      },
      "outputs": [
        {
          "output_type": "stream",
          "name": "stdout",
          "text": [
            "{8: 1032, 2: 2476, 3: 2065, 11: 681, 1: 6905, 5: 1610, 24: 296, 6: 1365, 14: 504, 12: 642, 18: 400, 10: 804, 22: 318, 4: 2092, 20: 375, 27: 143, 17: 416, 9: 847, 13: 599, 19: 370, 16: 460, 26: 190, 28: 96, 7: 1153, 31: 18, 23: 280, 21: 349, 29: 58, 15: 481, 25: 259, 30: 27, 33: 5, 32: 4}\n"
          ]
        }
      ],
      "source": [
        "dataset = sentence_sim_dataset(sentence_l,y_train,12,vocab)\n",
        "sentence_lengths={}\n",
        "for s in sentence_l:\n",
        "  if(len(s) in sentence_lengths):\n",
        "    sentence_lengths[len(s)]+=1\n",
        "  else:\n",
        "    sentence_lengths[len(s)]=1\n",
        "print(sentence_lengths)\n",
        "dataloader = torch.utils.data.DataLoader(dataset,batch_size=32,shuffle=False)\n"
      ]
    },
    {
      "cell_type": "code",
      "source": [
        "def get_back_sentence(tokens):\n",
        "\n",
        "  tokens = [reverse_vocab[t] for t in tokens]\n",
        "  return tokens\n",
        "\n",
        "count = 0\n",
        "for item_X , item_Y in dataset:\n",
        "  if(count %1000 ==0):\n",
        "    print(get_back_sentence(item_X.tolist()))\n",
        "    print(item_Y)\n",
        "  count+=1\n"
      ],
      "metadata": {
        "colab": {
          "base_uri": "https://localhost:8080/",
          "height": 1000
        },
        "id": "LFlOefAkzl01",
        "outputId": "24d6f1d1-b9ee-4725-d30b-dbc116bb7b31"
      },
      "execution_count": 25,
      "outputs": [
        {
          "output_type": "stream",
          "name": "stdout",
          "text": [
            "['i', 'd', 'have', '<unk>', 'if', 'i', 'were', 'going', '<pad>', '<pad>', '<pad>', '<pad>']\n",
            "tensor(1)\n",
            "['i', 'hope', '<pad>', '<pad>', '<pad>', '<pad>', '<pad>', '<pad>', '<pad>', '<pad>', '<pad>', '<pad>']\n",
            "tensor(2)\n",
            "['i', 'miss', 'having', 'an', 'it', '<unk>', '<pad>', '<pad>', '<pad>', '<pad>', '<pad>', '<pad>']\n",
            "tensor(0)\n",
            "['good', 'weekend', '<pad>', '<pad>', '<pad>', '<pad>', '<pad>', '<pad>', '<pad>', '<pad>', '<pad>', '<pad>']\n",
            "tensor(2)\n",
            "['awe', 'i', 'am', 'sorry', 'probably', 'true', '<pad>', '<pad>', '<pad>', '<pad>', '<pad>', '<pad>']\n",
            "tensor(2)\n",
            "['worth', '<pad>', '<pad>', '<pad>', '<pad>', '<pad>', '<pad>', '<pad>', '<pad>', '<pad>', '<pad>', '<pad>']\n",
            "tensor(2)\n",
            "['i', 'wan', 'na', 'go', 'there', 'where', 'you', 'go', 'i', 'wan', 'na', 'find']\n",
            "tensor(1)\n",
            "['to', 'enjoy', 'a', 'lovely', 'bbq', 'with', 'the', 'family', 'loving', 'the', 'may', 'day']\n",
            "tensor(2)\n",
            "['is', 'go', '<pad>', '<pad>', '<pad>', '<pad>', '<pad>', '<pad>', '<pad>', '<pad>', '<pad>', '<pad>']\n",
            "tensor(2)\n",
            "['so', 'afraid', '<pad>', '<pad>', '<pad>', '<pad>', '<pad>', '<pad>', '<pad>', '<pad>', '<pad>', '<pad>']\n",
            "tensor(0)\n",
            "['ok', 'you', 'are', 'such', 'a', 'wild', 'one', 'can', 'only', 'imagine', 'this', 'one']\n",
            "tensor(1)\n",
            "['good', '<pad>', '<pad>', '<pad>', '<pad>', '<pad>', '<pad>', '<pad>', '<pad>', '<pad>', '<pad>', '<pad>']\n",
            "tensor(2)\n",
            "['loved', 'you', '<pad>', '<pad>', '<pad>', '<pad>', '<pad>', '<pad>', '<pad>', '<pad>', '<pad>', '<pad>']\n",
            "tensor(2)\n",
            "['ruined', 'th', '<pad>', '<pad>', '<pad>', '<pad>', '<pad>', '<pad>', '<pad>', '<pad>', '<pad>', '<pad>']\n",
            "tensor(0)\n",
            "['yeah', 'that', 's', 'me', 'i', 'used', 'my', '<unk>', 'for', 'my', 'flickr', 'account']\n",
            "tensor(1)\n",
            "['my', 'head', 'is', 'hurtin', '<pad>', '<pad>', '<pad>', '<pad>', '<pad>', '<pad>', '<pad>', '<pad>']\n",
            "tensor(0)\n",
            "['i', 'failed', 'miserably', '<pad>', '<pad>', '<pad>', '<pad>', '<pad>', '<pad>', '<pad>', '<pad>', '<pad>']\n",
            "tensor(0)\n",
            "['hello', 'twitter', '<pad>', '<pad>', '<pad>', '<pad>', '<pad>', '<pad>', '<pad>', '<pad>', '<pad>', '<pad>']\n",
            "tensor(1)\n",
            "['it', 'would', 'be', 'cool', '<pad>', '<pad>', '<pad>', '<pad>', '<pad>', '<pad>', '<pad>', '<pad>']\n",
            "tensor(2)\n",
            "['love', '<pad>', '<pad>', '<pad>', '<pad>', '<pad>', '<pad>', '<pad>', '<pad>', '<pad>', '<pad>', '<pad>']\n",
            "tensor(2)\n",
            "['i', 'hate', 'bad', 'grades', '1st', 'time', 'i', 've', 'ever', 'failed', 'a', 'class']\n",
            "tensor(0)\n",
            "['it', 'works', 'ok', '<pad>', '<pad>', '<pad>', '<pad>', '<pad>', '<pad>', '<pad>', '<pad>', '<pad>']\n",
            "tensor(2)\n",
            "['wish', '<pad>', '<pad>', '<pad>', '<pad>', '<pad>', '<pad>', '<pad>', '<pad>', '<pad>', '<pad>', '<pad>']\n",
            "tensor(2)\n",
            "['keep', 'telling', 'yourself', 'you', 'll', 'feel', 'better', 'by', 'doing', 'it', 'and', 'tomorrow']\n",
            "tensor(2)\n",
            "['i', 'really', 'need', 'to', 'go', 'with', 'you', '<pad>', '<pad>', '<pad>', '<pad>', '<pad>']\n",
            "tensor(2)\n",
            "['goin', 'to', 'work', '<pad>', '<pad>', '<pad>', '<pad>', '<pad>', '<pad>', '<pad>', '<pad>', '<pad>']\n",
            "tensor(1)\n",
            "['nice', 'song', '<pad>', '<pad>', '<pad>', '<pad>', '<pad>', '<pad>', '<pad>', '<pad>', '<pad>', '<pad>']\n",
            "tensor(2)\n",
            "['moving', 'is', 'great', '<pad>', '<pad>', '<pad>', '<pad>', '<pad>', '<pad>', '<pad>', '<pad>', '<pad>']\n",
            "tensor(2)\n"
          ]
        },
        {
          "output_type": "error",
          "ename": "KeyError",
          "evalue": "27320",
          "traceback": [
            "\u001b[0;31m---------------------------------------------------------------------------\u001b[0m",
            "\u001b[0;31mValueError\u001b[0m                                Traceback (most recent call last)",
            "\u001b[0;32m/usr/local/lib/python3.11/dist-packages/pandas/core/indexes/range.py\u001b[0m in \u001b[0;36mget_loc\u001b[0;34m(self, key)\u001b[0m\n\u001b[1;32m    412\u001b[0m             \u001b[0;32mtry\u001b[0m\u001b[0;34m:\u001b[0m\u001b[0;34m\u001b[0m\u001b[0;34m\u001b[0m\u001b[0m\n\u001b[0;32m--> 413\u001b[0;31m                 \u001b[0;32mreturn\u001b[0m \u001b[0mself\u001b[0m\u001b[0;34m.\u001b[0m\u001b[0m_range\u001b[0m\u001b[0;34m.\u001b[0m\u001b[0mindex\u001b[0m\u001b[0;34m(\u001b[0m\u001b[0mnew_key\u001b[0m\u001b[0;34m)\u001b[0m\u001b[0;34m\u001b[0m\u001b[0;34m\u001b[0m\u001b[0m\n\u001b[0m\u001b[1;32m    414\u001b[0m             \u001b[0;32mexcept\u001b[0m \u001b[0mValueError\u001b[0m \u001b[0;32mas\u001b[0m \u001b[0merr\u001b[0m\u001b[0;34m:\u001b[0m\u001b[0;34m\u001b[0m\u001b[0;34m\u001b[0m\u001b[0m\n",
            "\u001b[0;31mValueError\u001b[0m: 27320 is not in range",
            "\nThe above exception was the direct cause of the following exception:\n",
            "\u001b[0;31mKeyError\u001b[0m                                  Traceback (most recent call last)",
            "\u001b[0;32m/tmp/ipython-input-3404813900.py\u001b[0m in \u001b[0;36m<cell line: 0>\u001b[0;34m()\u001b[0m\n\u001b[1;32m      5\u001b[0m \u001b[0;34m\u001b[0m\u001b[0m\n\u001b[1;32m      6\u001b[0m \u001b[0mcount\u001b[0m \u001b[0;34m=\u001b[0m \u001b[0;36m0\u001b[0m\u001b[0;34m\u001b[0m\u001b[0;34m\u001b[0m\u001b[0m\n\u001b[0;32m----> 7\u001b[0;31m \u001b[0;32mfor\u001b[0m \u001b[0mitem_X\u001b[0m \u001b[0;34m,\u001b[0m \u001b[0mitem_Y\u001b[0m \u001b[0;32min\u001b[0m \u001b[0mdataset\u001b[0m\u001b[0;34m:\u001b[0m\u001b[0;34m\u001b[0m\u001b[0;34m\u001b[0m\u001b[0m\n\u001b[0m\u001b[1;32m      8\u001b[0m   \u001b[0;32mif\u001b[0m\u001b[0;34m(\u001b[0m\u001b[0mcount\u001b[0m \u001b[0;34m%\u001b[0m\u001b[0;36m1000\u001b[0m \u001b[0;34m==\u001b[0m\u001b[0;36m0\u001b[0m\u001b[0;34m)\u001b[0m\u001b[0;34m:\u001b[0m\u001b[0;34m\u001b[0m\u001b[0;34m\u001b[0m\u001b[0m\n\u001b[1;32m      9\u001b[0m     \u001b[0mprint\u001b[0m\u001b[0;34m(\u001b[0m\u001b[0mget_back_sentence\u001b[0m\u001b[0;34m(\u001b[0m\u001b[0mitem_X\u001b[0m\u001b[0;34m.\u001b[0m\u001b[0mtolist\u001b[0m\u001b[0;34m(\u001b[0m\u001b[0;34m)\u001b[0m\u001b[0;34m)\u001b[0m\u001b[0;34m)\u001b[0m\u001b[0;34m\u001b[0m\u001b[0;34m\u001b[0m\u001b[0m\n",
            "\u001b[0;32m/tmp/ipython-input-309334837.py\u001b[0m in \u001b[0;36m__getitem__\u001b[0;34m(self, index)\u001b[0m\n\u001b[1;32m     11\u001b[0m \u001b[0;34m\u001b[0m\u001b[0m\n\u001b[1;32m     12\u001b[0m   \u001b[0;32mdef\u001b[0m \u001b[0m__getitem__\u001b[0m\u001b[0;34m(\u001b[0m\u001b[0mself\u001b[0m\u001b[0;34m,\u001b[0m\u001b[0mindex\u001b[0m\u001b[0;34m)\u001b[0m\u001b[0;34m:\u001b[0m\u001b[0;34m\u001b[0m\u001b[0;34m\u001b[0m\u001b[0m\n\u001b[0;32m---> 13\u001b[0;31m     \u001b[0msentence\u001b[0m \u001b[0;34m=\u001b[0m \u001b[0mself\u001b[0m\u001b[0;34m.\u001b[0m\u001b[0msentence_l\u001b[0m\u001b[0;34m[\u001b[0m\u001b[0mindex\u001b[0m\u001b[0;34m]\u001b[0m\u001b[0;34m\u001b[0m\u001b[0;34m\u001b[0m\u001b[0m\n\u001b[0m\u001b[1;32m     14\u001b[0m     \u001b[0;32mif\u001b[0m\u001b[0;34m(\u001b[0m\u001b[0mlen\u001b[0m\u001b[0;34m(\u001b[0m\u001b[0msentence\u001b[0m\u001b[0;34m)\u001b[0m\u001b[0;34m<\u001b[0m\u001b[0mself\u001b[0m\u001b[0;34m.\u001b[0m\u001b[0mmax_len\u001b[0m\u001b[0;34m)\u001b[0m\u001b[0;34m:\u001b[0m\u001b[0;34m\u001b[0m\u001b[0;34m\u001b[0m\u001b[0m\n\u001b[1;32m     15\u001b[0m       \u001b[0msentence\u001b[0m \u001b[0;34m=\u001b[0m \u001b[0msentence\u001b[0m \u001b[0;34m+\u001b[0m \u001b[0;34m[\u001b[0m\u001b[0mvocab\u001b[0m\u001b[0;34m[\u001b[0m\u001b[0;34m'<pad>'\u001b[0m\u001b[0;34m]\u001b[0m\u001b[0;34m]\u001b[0m\u001b[0;34m*\u001b[0m\u001b[0;34m(\u001b[0m\u001b[0mself\u001b[0m\u001b[0;34m.\u001b[0m\u001b[0mmax_len\u001b[0m\u001b[0;34m-\u001b[0m\u001b[0mlen\u001b[0m\u001b[0;34m(\u001b[0m\u001b[0msentence\u001b[0m\u001b[0;34m)\u001b[0m\u001b[0;34m)\u001b[0m\u001b[0;34m\u001b[0m\u001b[0;34m\u001b[0m\u001b[0m\n",
            "\u001b[0;32m/usr/local/lib/python3.11/dist-packages/pandas/core/series.py\u001b[0m in \u001b[0;36m__getitem__\u001b[0;34m(self, key)\u001b[0m\n\u001b[1;32m   1119\u001b[0m \u001b[0;34m\u001b[0m\u001b[0m\n\u001b[1;32m   1120\u001b[0m         \u001b[0;32melif\u001b[0m \u001b[0mkey_is_scalar\u001b[0m\u001b[0;34m:\u001b[0m\u001b[0;34m\u001b[0m\u001b[0;34m\u001b[0m\u001b[0m\n\u001b[0;32m-> 1121\u001b[0;31m             \u001b[0;32mreturn\u001b[0m \u001b[0mself\u001b[0m\u001b[0;34m.\u001b[0m\u001b[0m_get_value\u001b[0m\u001b[0;34m(\u001b[0m\u001b[0mkey\u001b[0m\u001b[0;34m)\u001b[0m\u001b[0;34m\u001b[0m\u001b[0;34m\u001b[0m\u001b[0m\n\u001b[0m\u001b[1;32m   1122\u001b[0m \u001b[0;34m\u001b[0m\u001b[0m\n\u001b[1;32m   1123\u001b[0m         \u001b[0;31m# Convert generator to list before going through hashable part\u001b[0m\u001b[0;34m\u001b[0m\u001b[0;34m\u001b[0m\u001b[0m\n",
            "\u001b[0;32m/usr/local/lib/python3.11/dist-packages/pandas/core/series.py\u001b[0m in \u001b[0;36m_get_value\u001b[0;34m(self, label, takeable)\u001b[0m\n\u001b[1;32m   1235\u001b[0m \u001b[0;34m\u001b[0m\u001b[0m\n\u001b[1;32m   1236\u001b[0m         \u001b[0;31m# Similar to Index.get_value, but we do not fall back to positional\u001b[0m\u001b[0;34m\u001b[0m\u001b[0;34m\u001b[0m\u001b[0m\n\u001b[0;32m-> 1237\u001b[0;31m         \u001b[0mloc\u001b[0m \u001b[0;34m=\u001b[0m \u001b[0mself\u001b[0m\u001b[0;34m.\u001b[0m\u001b[0mindex\u001b[0m\u001b[0;34m.\u001b[0m\u001b[0mget_loc\u001b[0m\u001b[0;34m(\u001b[0m\u001b[0mlabel\u001b[0m\u001b[0;34m)\u001b[0m\u001b[0;34m\u001b[0m\u001b[0;34m\u001b[0m\u001b[0m\n\u001b[0m\u001b[1;32m   1238\u001b[0m \u001b[0;34m\u001b[0m\u001b[0m\n\u001b[1;32m   1239\u001b[0m         \u001b[0;32mif\u001b[0m \u001b[0mis_integer\u001b[0m\u001b[0;34m(\u001b[0m\u001b[0mloc\u001b[0m\u001b[0;34m)\u001b[0m\u001b[0;34m:\u001b[0m\u001b[0;34m\u001b[0m\u001b[0;34m\u001b[0m\u001b[0m\n",
            "\u001b[0;32m/usr/local/lib/python3.11/dist-packages/pandas/core/indexes/range.py\u001b[0m in \u001b[0;36mget_loc\u001b[0;34m(self, key)\u001b[0m\n\u001b[1;32m    413\u001b[0m                 \u001b[0;32mreturn\u001b[0m \u001b[0mself\u001b[0m\u001b[0;34m.\u001b[0m\u001b[0m_range\u001b[0m\u001b[0;34m.\u001b[0m\u001b[0mindex\u001b[0m\u001b[0;34m(\u001b[0m\u001b[0mnew_key\u001b[0m\u001b[0;34m)\u001b[0m\u001b[0;34m\u001b[0m\u001b[0;34m\u001b[0m\u001b[0m\n\u001b[1;32m    414\u001b[0m             \u001b[0;32mexcept\u001b[0m \u001b[0mValueError\u001b[0m \u001b[0;32mas\u001b[0m \u001b[0merr\u001b[0m\u001b[0;34m:\u001b[0m\u001b[0;34m\u001b[0m\u001b[0;34m\u001b[0m\u001b[0m\n\u001b[0;32m--> 415\u001b[0;31m                 \u001b[0;32mraise\u001b[0m \u001b[0mKeyError\u001b[0m\u001b[0;34m(\u001b[0m\u001b[0mkey\u001b[0m\u001b[0;34m)\u001b[0m \u001b[0;32mfrom\u001b[0m \u001b[0merr\u001b[0m\u001b[0;34m\u001b[0m\u001b[0;34m\u001b[0m\u001b[0m\n\u001b[0m\u001b[1;32m    416\u001b[0m         \u001b[0;32mif\u001b[0m \u001b[0misinstance\u001b[0m\u001b[0;34m(\u001b[0m\u001b[0mkey\u001b[0m\u001b[0;34m,\u001b[0m \u001b[0mHashable\u001b[0m\u001b[0;34m)\u001b[0m\u001b[0;34m:\u001b[0m\u001b[0;34m\u001b[0m\u001b[0;34m\u001b[0m\u001b[0m\n\u001b[1;32m    417\u001b[0m             \u001b[0;32mraise\u001b[0m \u001b[0mKeyError\u001b[0m\u001b[0;34m(\u001b[0m\u001b[0mkey\u001b[0m\u001b[0;34m)\u001b[0m\u001b[0;34m\u001b[0m\u001b[0;34m\u001b[0m\u001b[0m\n",
            "\u001b[0;31mKeyError\u001b[0m: 27320"
          ]
        }
      ]
    },
    {
      "cell_type": "code",
      "execution_count": 36,
      "metadata": {
        "colab": {
          "base_uri": "https://localhost:8080/"
        },
        "id": "0ofJRUWxpJAo",
        "outputId": "0790c27d-0128-4fea-da6e-b668b4f4a79b"
      },
      "outputs": [
        {
          "output_type": "stream",
          "name": "stdout",
          "text": [
            "init Sequence model\n",
            "RNN init\n",
            "epoch  0\n",
            "27320\n"
          ]
        },
        {
          "output_type": "stream",
          "name": "stderr",
          "text": [
            "Epoch 0:   1%|          | 6/854 [00:00<00:14, 58.53it/s, loss=1.07]"
          ]
        },
        {
          "output_type": "stream",
          "name": "stdout",
          "text": [
            "27320\n"
          ]
        },
        {
          "output_type": "stream",
          "name": "stderr",
          "text": [
            "Epoch 0: 100%|██████████| 854/854 [00:11<00:00, 72.93it/s, loss=0.643]\n"
          ]
        },
        {
          "output_type": "stream",
          "name": "stdout",
          "text": [
            "epoch  1\n",
            "27320\n"
          ]
        },
        {
          "output_type": "stream",
          "name": "stderr",
          "text": [
            "Epoch 1:   1%|          | 8/854 [00:00<00:11, 73.45it/s, loss=0.702]"
          ]
        },
        {
          "output_type": "stream",
          "name": "stdout",
          "text": [
            "27320\n"
          ]
        },
        {
          "output_type": "stream",
          "name": "stderr",
          "text": [
            "Epoch 1: 100%|██████████| 854/854 [00:12<00:00, 70.66it/s, loss=0.445]\n"
          ]
        },
        {
          "output_type": "stream",
          "name": "stdout",
          "text": [
            "epoch  2\n",
            "27320\n"
          ]
        },
        {
          "output_type": "stream",
          "name": "stderr",
          "text": [
            "Epoch 2:   1%|          | 7/854 [00:00<00:12, 68.67it/s, loss=0.729]"
          ]
        },
        {
          "output_type": "stream",
          "name": "stdout",
          "text": [
            "27320\n"
          ]
        },
        {
          "output_type": "stream",
          "name": "stderr",
          "text": [
            "Epoch 2: 100%|██████████| 854/854 [00:12<00:00, 70.00it/s, loss=0.494]\n"
          ]
        },
        {
          "output_type": "stream",
          "name": "stdout",
          "text": [
            "epoch  3\n",
            "27320\n"
          ]
        },
        {
          "output_type": "stream",
          "name": "stderr",
          "text": [
            "Epoch 3:   1%|          | 8/854 [00:00<00:11, 74.83it/s, loss=0.668]"
          ]
        },
        {
          "output_type": "stream",
          "name": "stdout",
          "text": [
            "27320\n"
          ]
        },
        {
          "output_type": "stream",
          "name": "stderr",
          "text": [
            "Epoch 3: 100%|██████████| 854/854 [00:12<00:00, 68.72it/s, loss=0.364]\n"
          ]
        },
        {
          "output_type": "stream",
          "name": "stdout",
          "text": [
            "epoch  4\n",
            "27320\n"
          ]
        },
        {
          "output_type": "stream",
          "name": "stderr",
          "text": [
            "Epoch 4:   1%|          | 8/854 [00:00<00:11, 73.27it/s, loss=0.821]"
          ]
        },
        {
          "output_type": "stream",
          "name": "stdout",
          "text": [
            "27320\n"
          ]
        },
        {
          "output_type": "stream",
          "name": "stderr",
          "text": [
            "Epoch 4: 100%|██████████| 854/854 [00:12<00:00, 68.43it/s, loss=0.358]\n"
          ]
        },
        {
          "output_type": "stream",
          "name": "stdout",
          "text": [
            "epoch  5\n",
            "27320\n"
          ]
        },
        {
          "output_type": "stream",
          "name": "stderr",
          "text": [
            "Epoch 5:   1%|          | 6/854 [00:00<00:15, 55.76it/s, loss=0.559]"
          ]
        },
        {
          "output_type": "stream",
          "name": "stdout",
          "text": [
            "27320\n"
          ]
        },
        {
          "output_type": "stream",
          "name": "stderr",
          "text": [
            "Epoch 5: 100%|██████████| 854/854 [00:11<00:00, 71.32it/s, loss=0.308]\n"
          ]
        },
        {
          "output_type": "stream",
          "name": "stdout",
          "text": [
            "epoch  6\n",
            "27320\n"
          ]
        },
        {
          "output_type": "stream",
          "name": "stderr",
          "text": [
            "Epoch 6:   1%|          | 8/854 [00:00<00:10, 78.65it/s, loss=0.67] "
          ]
        },
        {
          "output_type": "stream",
          "name": "stdout",
          "text": [
            "27320\n"
          ]
        },
        {
          "output_type": "stream",
          "name": "stderr",
          "text": [
            "Epoch 6: 100%|██████████| 854/854 [00:11<00:00, 72.67it/s, loss=0.312]\n"
          ]
        },
        {
          "output_type": "stream",
          "name": "stdout",
          "text": [
            "epoch  7\n",
            "27320\n"
          ]
        },
        {
          "output_type": "stream",
          "name": "stderr",
          "text": [
            "Epoch 7:   1%|          | 8/854 [00:00<00:12, 70.34it/s, loss=0.697]"
          ]
        },
        {
          "output_type": "stream",
          "name": "stdout",
          "text": [
            "27320\n"
          ]
        },
        {
          "output_type": "stream",
          "name": "stderr",
          "text": [
            "Epoch 7: 100%|██████████| 854/854 [00:12<00:00, 71.14it/s, loss=0.3]\n"
          ]
        },
        {
          "output_type": "stream",
          "name": "stdout",
          "text": [
            "epoch  8\n",
            "27320\n"
          ]
        },
        {
          "output_type": "stream",
          "name": "stderr",
          "text": [
            "Epoch 8:   1%|          | 8/854 [00:00<00:11, 72.29it/s, loss=0.254]"
          ]
        },
        {
          "output_type": "stream",
          "name": "stdout",
          "text": [
            "27320\n"
          ]
        },
        {
          "output_type": "stream",
          "name": "stderr",
          "text": [
            "Epoch 8: 100%|██████████| 854/854 [00:12<00:00, 70.10it/s, loss=0.283]\n"
          ]
        },
        {
          "output_type": "stream",
          "name": "stdout",
          "text": [
            "epoch  9\n",
            "27320\n"
          ]
        },
        {
          "output_type": "stream",
          "name": "stderr",
          "text": [
            "Epoch 9:   1%|          | 6/854 [00:00<00:15, 53.40it/s, loss=0.39] "
          ]
        },
        {
          "output_type": "stream",
          "name": "stdout",
          "text": [
            "27320\n"
          ]
        },
        {
          "output_type": "stream",
          "name": "stderr",
          "text": [
            "Epoch 9: 100%|██████████| 854/854 [00:12<00:00, 70.14it/s, loss=0.253]\n"
          ]
        },
        {
          "output_type": "stream",
          "name": "stdout",
          "text": [
            "epoch  10\n",
            "27320\n"
          ]
        },
        {
          "output_type": "stream",
          "name": "stderr",
          "text": [
            "Epoch 10:   1%|          | 6/854 [00:00<00:15, 56.28it/s, loss=0.299]"
          ]
        },
        {
          "output_type": "stream",
          "name": "stdout",
          "text": [
            "27320\n"
          ]
        },
        {
          "output_type": "stream",
          "name": "stderr",
          "text": [
            "Epoch 10: 100%|██████████| 854/854 [00:12<00:00, 69.57it/s, loss=0.223]\n"
          ]
        },
        {
          "output_type": "stream",
          "name": "stdout",
          "text": [
            "epoch  11\n",
            "27320\n"
          ]
        },
        {
          "output_type": "stream",
          "name": "stderr",
          "text": [
            "Epoch 11:   1%|          | 6/854 [00:00<00:15, 53.16it/s, loss=0.33] "
          ]
        },
        {
          "output_type": "stream",
          "name": "stdout",
          "text": [
            "27320\n"
          ]
        },
        {
          "output_type": "stream",
          "name": "stderr",
          "text": [
            "Epoch 11: 100%|██████████| 854/854 [00:12<00:00, 68.24it/s, loss=0.234]\n"
          ]
        },
        {
          "output_type": "stream",
          "name": "stdout",
          "text": [
            "epoch  12\n",
            "27320\n"
          ]
        },
        {
          "output_type": "stream",
          "name": "stderr",
          "text": [
            "Epoch 12:   1%|          | 7/854 [00:00<00:14, 59.03it/s, loss=0.223]"
          ]
        },
        {
          "output_type": "stream",
          "name": "stdout",
          "text": [
            "27320\n"
          ]
        },
        {
          "output_type": "stream",
          "name": "stderr",
          "text": [
            "Epoch 12: 100%|██████████| 854/854 [00:12<00:00, 68.63it/s, loss=0.184]\n"
          ]
        },
        {
          "output_type": "stream",
          "name": "stdout",
          "text": [
            "epoch  13\n",
            "27320\n"
          ]
        },
        {
          "output_type": "stream",
          "name": "stderr",
          "text": [
            "Epoch 13:   1%|          | 8/854 [00:00<00:11, 70.99it/s, loss=0.276]"
          ]
        },
        {
          "output_type": "stream",
          "name": "stdout",
          "text": [
            "27320\n"
          ]
        },
        {
          "output_type": "stream",
          "name": "stderr",
          "text": [
            "Epoch 13: 100%|██████████| 854/854 [00:12<00:00, 68.63it/s, loss=0.159]\n"
          ]
        },
        {
          "output_type": "stream",
          "name": "stdout",
          "text": [
            "epoch  14\n",
            "27320\n"
          ]
        },
        {
          "output_type": "stream",
          "name": "stderr",
          "text": [
            "Epoch 14:   1%|          | 8/854 [00:00<00:11, 72.81it/s, loss=0.237]"
          ]
        },
        {
          "output_type": "stream",
          "name": "stdout",
          "text": [
            "27320\n"
          ]
        },
        {
          "output_type": "stream",
          "name": "stderr",
          "text": [
            "Epoch 14: 100%|██████████| 854/854 [00:12<00:00, 68.43it/s, loss=0.14]\n"
          ]
        }
      ],
      "source": [
        "lstm_model = Sequence_model(len(vocab)+1,128,512)\n",
        "device = torch.device(\"cuda\" if torch.cuda.is_available() else \"cpu\")\n",
        "lstm_model.to(device)\n",
        "\n",
        "\n",
        "from tqdm import tqdm\n",
        "def loss_func(out,target):\n",
        "  return nn.CrossEntropyLoss()(out,target)\n",
        "ep=0\n",
        "optim = torch.optim.Adam(lstm_model.parameters(),lr=0.001)\n",
        "for ep in range(0,15):\n",
        "  print(\"epoch \",ep)\n",
        "  pbar = tqdm(dataloader, leave=True, desc=f\"Epoch {ep}\")\n",
        "  for batch in pbar:\n",
        "    lstm_model.zero_grad()\n",
        "    item_x , item_y = batch\n",
        "\n",
        "    item_x = item_x.to(device)\n",
        "    item_y = item_y.to(device)\n",
        "    #print(item_x.shape)\n",
        "    #print(item_y.shape)\n",
        "    out = lstm_model(item_x)\n",
        "    #print(out.shape)\n",
        "    #print(item_y.shape)\n",
        "    loss = loss_func(out,item_y)\n",
        "    loss.backward()\n",
        "    optim.step()\n",
        "    pbar.set_postfix(loss=loss.item())\n",
        "  torch.save({\n",
        "    'epoch': ep,\n",
        "    'model_state_dict': lstm_model.state_dict(),\n",
        "    'optimizer_state_dict': optim.state_dict(),\n",
        "    'loss': loss.item,\n",
        "  }, '/content/drive/MyDrive/nlp_learnings/lstm_project/rnn_checkpoints/'+str(ep)+'.pth')\n",
        "\n",
        "\n",
        "\n"
      ]
    },
    {
      "cell_type": "code",
      "execution_count": 28,
      "metadata": {
        "colab": {
          "base_uri": "https://localhost:8080/"
        },
        "id": "Q0VNuhZZkG-5",
        "outputId": "96583e99-4486-4a79-8678-0fea3258da24"
      },
      "outputs": [
        {
          "output_type": "stream",
          "name": "stdout",
          "text": [
            "Mounted at /content/drive\n"
          ]
        }
      ],
      "source": [
        "from google.colab import drive\n",
        "drive.mount('/content/drive')"
      ]
    },
    {
      "cell_type": "code",
      "execution_count": 29,
      "metadata": {
        "colab": {
          "base_uri": "https://localhost:8080/"
        },
        "id": "eaVYCW2fwsHO",
        "outputId": "d7709f5a-a44c-4cc9-fc5b-4c9d47b58f92"
      },
      "outputs": [
        {
          "output_type": "stream",
          "name": "stdout",
          "text": [
            "/content/drive/MyDrive/nlp_learnings/lstm_project\n",
            "lstm_arch.ipynb  rnn_checkpoints\n"
          ]
        }
      ],
      "source": [
        "%cd /content/drive/MyDrive/nlp_learnings/lstm_project/\n",
        "!ls"
      ]
    },
    {
      "cell_type": "code",
      "execution_count": null,
      "metadata": {
        "colab": {
          "base_uri": "https://localhost:8080/"
        },
        "id": "4y4EK8aokO72",
        "outputId": "b0fa62c2-c421-4508-b056-570b642ce978"
      },
      "outputs": [
        {
          "name": "stdout",
          "output_type": "stream",
          "text": [
            "lstm_arch.ipynb  rnn_checkpoints\n"
          ]
        }
      ],
      "source": [
        "!ls"
      ]
    },
    {
      "cell_type": "code",
      "execution_count": 44,
      "metadata": {
        "id": "ytbzyL8Hk9iT",
        "colab": {
          "base_uri": "https://localhost:8080/"
        },
        "outputId": "65fdad7a-c846-4972-e96f-3a060809854c"
      },
      "outputs": [
        {
          "output_type": "stream",
          "name": "stdout",
          "text": [
            "['he', 'was', 'a', 'nice', 'guy']\n",
            "['he', 'was', 'a', 'nice', 'guy']\n",
            "tensor([ 720,   90,  158,  430, 1945, 6788, 6788, 6788, 6788, 6788, 6788, 6788])\n",
            "tensor([2], device='cuda:0')\n",
            "['movie', 'was', 'pretty', 'boring']\n",
            "['movie', 'was', 'pretty', 'boring']\n",
            "tensor([1273,   90,  374,  496, 6788, 6788, 6788, 6788, 6788, 6788, 6788, 6788])\n",
            "tensor([0], device='cuda:0')\n",
            "['how', 'on', 'earth', 'can', 'she', 'say', 'that']\n",
            "['how', 'on', 'earth', 'can', 'she', 'say', 'that']\n",
            "tensor([ 196,   22,   23,  279,  286,  300,   66, 6788, 6788, 6788, 6788, 6788])\n",
            "tensor([1], device='cuda:0')\n",
            "['can', 'not', 'belive', 'its', 'a', 'miracle']\n",
            "['can', 'not', 'belive', 'its', 'a', 'miracle']\n",
            "tensor([ 279,   65, 6787,  138,  158, 6787, 6788, 6788, 6788, 6788, 6788, 6788])\n",
            "tensor([1], device='cuda:0')\n",
            "['happy', 'to', 'say', 'you', 'have', 'passed']\n",
            "['happy', 'to', 'say', 'you', 'have', 'passed']\n",
            "tensor([ 160,   37,  300,   28,    3,  907, 6788, 6788, 6788, 6788, 6788, 6788])\n",
            "tensor([2], device='cuda:0')\n"
          ]
        }
      ],
      "source": [
        "def convert_to_token_test(x):\n",
        "  tokenized_sentence = word_tokenize(str(x).lower())\n",
        "  print(tokenized_sentence)\n",
        "  filtered_tokens = [token  for token in tokenized_sentence if token not in stw and token.isalnum()]\n",
        "  print(filtered_tokens)\n",
        "  tokenized_words= tokenize_words(filtered_tokens)\n",
        "  if(len(tokenized_words)<12):\n",
        "      tokenized_words = tokenized_words + [vocab['<pad>']]*(12-len(tokenized_sentence))\n",
        "  else:\n",
        "      tokenized_words = tokenized_words[:12]\n",
        "\n",
        "    #print(sentence.shape)\n",
        "  tokenized_words = torch.tensor(tokenized_words,dtype=torch.long)\n",
        "  return tokenized_words\n",
        "\n",
        "\n",
        "#test_inputs = [\"I absolutely loved this movie, it was fantastic!\",\"The service was excellent and the staff were friendly.\",\"What a wonderful day it has been!\",\"I'm feeling very optimistic about the future.\",\"The food was delicious and the ambiance was perfect.\"]\n",
        "#test_inputs =[\"This is the worst experience I've ever had.\",\"I hated every minute of that film.\",\"The product broke after just one use.\",\"I am very disappointed with the customer service.\",\"Nothing went right today; it was a terrible day.\"]\n",
        "#test_inputs=[\"I went to the store to buy some groceries.\",\"The meeting was scheduled for 3 PM.\",\"She walked her dog in the park.\",\"It rained in the afternoon but cleared up later.\",\"The phone has a 6.5-inch screen and a decent battery life.\"]\n",
        "test_inputs = [\"he was a nice guy\",\"movie was pretty boring\",\"how on earth can she say that\",\"cannot belive its a miracle\",\"happy to say you have passed\"]\n",
        "with torch.no_grad():\n",
        "  lstm_model.eval()\n",
        "  for ti in test_inputs:\n",
        "    testing = convert_to_token_test(ti)\n",
        "    print(testing)\n",
        "    out = lstm_model(testing.unsqueeze(0).to(device))\n",
        "    out = torch.argmax(out,dim=1)\n",
        "    print(out)"
      ]
    },
    {
      "cell_type": "code",
      "source": [],
      "metadata": {
        "id": "wfwAzgYoALqJ"
      },
      "execution_count": null,
      "outputs": []
    }
  ],
  "metadata": {
    "accelerator": "GPU",
    "colab": {
      "gpuType": "T4",
      "provenance": [],
      "authorship_tag": "ABX9TyP1kV/XzYewYZvsTWyulscp",
      "include_colab_link": true
    },
    "kernelspec": {
      "display_name": "Python 3",
      "name": "python3"
    },
    "language_info": {
      "name": "python"
    }
  },
  "nbformat": 4,
  "nbformat_minor": 0
}